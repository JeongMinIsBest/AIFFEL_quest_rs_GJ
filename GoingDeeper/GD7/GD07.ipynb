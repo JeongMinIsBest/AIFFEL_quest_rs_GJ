{
  "nbformat": 4,
  "nbformat_minor": 0,
  "metadata": {
    "colab": {
      "provenance": [],
      "gpuType": "T4"
    },
    "kernelspec": {
      "name": "python3",
      "display_name": "Python 3"
    },
    "language_info": {
      "name": "python"
    },
    "accelerator": "GPU"
  },
  "cells": [
    {
      "cell_type": "markdown",
      "source": [
        "https://github.com/mrsys/NLP_Going_Deeper/blob/main/NLP_Project_7.ipynb를 참고하였다"
      ],
      "metadata": {
        "id": "QhRR9guv2OVI"
      }
    },
    {
      "cell_type": "code",
      "source": [
        "# imports\n",
        "from __future__ import absolute_import, division, print_function, unicode_literals\n",
        "\n",
        "import torch\n",
        "import torch.nn as nn\n",
        "import torch.nn.functional as F\n",
        "import torch.optim as optim\n",
        "from torch.utils.data import DataLoader, TensorDataset\n",
        "from torchsummary import summary\n",
        "\n",
        "import os\n",
        "import re\n",
        "import math\n",
        "import numpy as np\n",
        "import pandas as pd\n",
        "import random\n",
        "import collections\n",
        "import json\n",
        "import shutil\n",
        "import zipfile\n",
        "import copy\n",
        "from datetime import datetime\n",
        "\n",
        "import matplotlib.pyplot as plt\n",
        "import sentencepiece as spm\n",
        "from tqdm.notebook import tqdm\n",
        "\n",
        "random_seed = 1234\n",
        "random.seed(random_seed)\n",
        "np.random.seed(random_seed)\n",
        "\n",
        "# torch version\n",
        "print(torch.__version__)"
      ],
      "metadata": {
        "colab": {
          "base_uri": "https://localhost:8080/"
        },
        "id": "lT8E1nF72Igj",
        "outputId": "3590ff22-533c-41be-a412-35324311b0f3"
      },
      "execution_count": null,
      "outputs": [
        {
          "output_type": "stream",
          "name": "stdout",
          "text": [
            "2.8.0+cu126\n"
          ]
        }
      ]
    },
    {
      "cell_type": "markdown",
      "source": [
        "1. Tokenizer 준비\n",
        "SentencePiece 모델을 이용해 BERT의 MLM 학습용 데이터를 만드세요.\n",
        "\n",
        "이를 위해 한글 나무 위키 코퍼스로부터 8000의 vocab_size를 갖는 sentencepiece 모델을 만들어 보세요. BERT에 사용되는 주요 특수문자가 vocab에 포함되어야 합니다. (시간이 부족하다면 클라우드에 저장된 sentencepiece 모델을 사용하세요.)\n",
        "\n"
      ],
      "metadata": {
        "id": "5jRIUB6q0evn"
      }
    },
    {
      "cell_type": "code",
      "source": [
        "corpus_file = 'kowiki.txt'"
      ],
      "metadata": {
        "id": "NL7zptMn12f0"
      },
      "execution_count": null,
      "outputs": []
    },
    {
      "cell_type": "code",
      "source": [
        "prefix = 'ko_8000'\n",
        "vocab_size = 8000\n",
        "\n",
        "spm.SentencePieceTrainer.train(\n",
        "    f\"--input={corpus_file} --model_prefix={prefix} --vocab_size={vocab_size + 7}\" +\n",
        "    \" --model_type=bpe\" +\n",
        "    \" --max_sentence_length=999999\" + # 문장 최대 길이\n",
        "    \" --pad_id=0 --pad_piece=[PAD]\" + # pad (0)\n",
        "    \" --unk_id=1 --unk_piece=[UNK]\" + # unknown (1)\n",
        "    \" --bos_id=2 --bos_piece=[BOS]\" + # begin of sequence (2)\n",
        "    \" --eos_id=3 --eos_piece=[EOS]\" + # end of sequence (3)\n",
        "    \" --user_defined_symbols=[SEP],[CLS],[MASK]\") # 문장 분리, classification, 마스킹 토큰"
      ],
      "metadata": {
        "id": "lVS9tuNc2WTy"
      },
      "execution_count": null,
      "outputs": []
    },
    {
      "cell_type": "code",
      "source": [
        "vocab = spm.SentencePieceProcessor()\n",
        "vocab.load(\"ko_8000.model\")\n",
        "\n",
        "\n",
        "print(\"=\" * 100)\n",
        "print(f\"Vocab Size: {vocab.get_piece_size():,}\")\n",
        "print(\"SentencePiece Token:\", [vocab.id_to_piece(idx) for idx in range(7, 12)]) # 특수 토큰을 제한 5개 토큰 보가\n",
        "print(\"=\" * 100)"
      ],
      "metadata": {
        "colab": {
          "base_uri": "https://localhost:8080/"
        },
        "id": "aEAl2gXp2cl-",
        "outputId": "8589f656-2c41-4d8f-ccf7-3a1ddf8db387"
      },
      "execution_count": null,
      "outputs": [
        {
          "output_type": "stream",
          "name": "stdout",
          "text": [
            "====================================================================================================\n",
            "Vocab Size: 8,007\n",
            "SentencePiece Token: ['▁1', '▁이', '으로', '에서', '▁있']\n",
            "====================================================================================================\n"
          ]
        }
      ]
    },
    {
      "cell_type": "markdown",
      "source": [
        "2. 데이터 전처리 (1) MASK 생성\n",
        "BERT의 MLM에 필요한 빈칸(mask)을 학습 데이터 전체 토큰의 15% 정도로 만들어 주세요. 그 중 80%는 [MASK] 토큰, 10%는 랜덤한 토큰, 나머지 10%는 원래의 토큰을 그대로 사용하세요."
      ],
      "metadata": {
        "id": "PHMpjEaA2p4x"
      }
    },
    {
      "cell_type": "code",
      "source": [
        "def create_pretrain_mask(tokens, mask_cnt, vocab_list):\n",
        "    \"\"\"\n",
        "    마스크 생성\n",
        "    :param tokens: tokens\n",
        "    :param mask_cnt: mask 개수 (전체 tokens의 15%)\n",
        "    :param vocab_list: vocab list (random token 용)\n",
        "    :return tokens: mask된 tokens\n",
        "    :return mask_idx: mask된 token의 index\n",
        "    :return mask_label: mask된 token의 원래 값\n",
        "    \"\"\"\n",
        "    # 단어 단위로 mask 하기 위해서 index 분할 (띄어쓰기)\n",
        "    cand_idx = []\n",
        "    for (i, token) in enumerate(tokens):\n",
        "        if token == \"[CLS]\" or token == \"[SEP]\":\n",
        "            continue\n",
        "        if 0 < len(cand_idx) and not token.startswith(u\"\\u2581\"):\n",
        "            cand_idx[-1].append(i)\n",
        "        else:\n",
        "            cand_idx.append([i])\n",
        "\n",
        "    # random mask를 위해서 순서를 섞음 (shuffle)\n",
        "    random.shuffle(cand_idx)\n",
        "    mask_lms = []\n",
        "    for index_set in cand_idx:\n",
        "        if len(mask_lms) >= mask_cnt:\n",
        "            break\n",
        "        if len(mask_lms) + len(index_set) > mask_cnt:\n",
        "            continue\n",
        "        dice = random.random()\n",
        "        for index in index_set:\n",
        "            masked_token = None\n",
        "            if dice < 0.8:\n",
        "                masked_token = \"[MASK]\"\n",
        "            elif dice < 0.9:\n",
        "                masked_token = tokens[index]\n",
        "            else:\n",
        "                masked_token = random.choice(vocab_list)\n",
        "            mask_lms.append({\"index\": index, \"label\": tokens[index]})\n",
        "            tokens[index] = masked_token\n",
        "\n",
        "    # mask_lms 정렬 후 mask_idx, mask_label 추출 (sorted 사용)\n",
        "    mask_lms = sorted(mask_lms, key=lambda x: x[\"index\"])\n",
        "    mask_idx = [p[\"index\"] for p in mask_lms]\n",
        "    mask_label = [p[\"label\"] for p in mask_lms]\n",
        "\n",
        "    return tokens, mask_idx, mask_label"
      ],
      "metadata": {
        "id": "Wk26gM9A2qOx"
      },
      "execution_count": null,
      "outputs": []
    },
    {
      "cell_type": "code",
      "source": [
        "#Mask 생성 예제=========================\n",
        "tokens_org = vocab.encode_as_pieces(\"나는 어제 밥을 먹었다.\")\n",
        "\n",
        "vocab_list = []\n",
        "for id in range(7, len(vocab)):\n",
        "    if not vocab.is_unknown(id):\n",
        "        vocab_list.append(vocab.id_to_piece(id))\n",
        "\n",
        "mask_cnt = int((len(tokens_org) - 3) * 0.5)\n",
        "tokens, mask_idx, mask_label = create_pretrain_mask(tokens_org.copy(), mask_cnt, vocab_list)\n",
        "\n",
        "print(\"=\" * 100)\n",
        "print(\"Example Sentence:\", tokens_org, end=\"\\n\\n\")\n",
        "print(\" AFER MASKING \".center(50, \"↓\"), end=\"\\n\\n\")\n",
        "print(\"Masked Sentence:\", tokens)\n",
        "print(\"`mask_idx`:\", mask_idx)\n",
        "print(\"`mask_label`:\", mask_label)\n",
        "print(\"=\" * 100)"
      ],
      "metadata": {
        "colab": {
          "base_uri": "https://localhost:8080/"
        },
        "id": "BvEvkYTE2FwQ",
        "outputId": "2b6730d3-d54a-47c4-fb06-39ffbea8ceb1"
      },
      "execution_count": null,
      "outputs": [
        {
          "output_type": "stream",
          "name": "stdout",
          "text": [
            "====================================================================================================\n",
            "Example Sentence: ['▁나', '는', '▁어', '제', '▁', '밥', '을', '▁먹', '었다', '.']\n",
            "\n",
            "↓↓↓↓↓↓↓↓↓↓↓↓↓↓↓↓↓↓ AFER MASKING ↓↓↓↓↓↓↓↓↓↓↓↓↓↓↓↓↓↓\n",
            "\n",
            "Masked Sentence: ['▁나', '는', '[MASK]', '[MASK]', '▁', '밥', '을', '▁먹', '었다', '.']\n",
            "`mask_idx`: [2, 3]\n",
            "`mask_label`: ['▁어', '제']\n",
            "====================================================================================================\n"
          ]
        }
      ]
    },
    {
      "cell_type": "markdown",
      "source": [
        "3. 데이터 전처리 (2) NSP pair 생성\n",
        "BERT의 pretrain task인 NSP는 두 문장이 연속하는지 확인하는 것입니다. 이를 위해 2개의 문장을 짝지어 50%의 확률로 TRUE와 FALSE를 지정해 주세요.\n",
        "\n",
        "두 문장 사이에 segment 처리를 해주세요. 첫 번째 문장의 segment는 0, 두 번째 문장은 1로 채워준 후 둘 사이에 구분자인 [SEP] 등을 넣어주세요.\n",
        "\n",
        "MLM과 NSP는 동시에 학습된다는 것을 염두에 두고 학습 데이터를 구성해 보세요."
      ],
      "metadata": {
        "id": "8BH245Qs24HW"
      }
    },
    {
      "cell_type": "code",
      "source": [
        "# 최대 길이\n",
        "n_test_seq = 64\n",
        "# 최소 길이\n",
        "min_seq = 8\n",
        "# [CLS], tokens_a, [SEB], tokens_b, [SEP]\n",
        "max_seq = n_test_seq - 3"
      ],
      "metadata": {
        "id": "2pxGOHtn2r9D"
      },
      "execution_count": null,
      "outputs": []
    },
    {
      "cell_type": "code",
      "source": [
        "def trim_tokens(tokens_a, tokens_b, max_seq):\n",
        "    \"\"\"\n",
        "    tokens_a, tokens_b의 길이를 줄임 최대 길이: max_seq\n",
        "    :param tokens_a: tokens A\n",
        "    :param tokens_b: tokens B\n",
        "    :param max_seq: 두 tokens 길이의 최대 값\n",
        "    \"\"\"\n",
        "    while True:\n",
        "        total_length = len(tokens_a) + len(tokens_b)\n",
        "        if total_length <= max_seq:\n",
        "            break\n",
        "\n",
        "        if len(tokens_a) > len(tokens_b):\n",
        "            del tokens_a[0]\n",
        "        else:\n",
        "            tokens_b.pop()"
      ],
      "metadata": {
        "id": "C-qOgyWl20i-"
      },
      "execution_count": null,
      "outputs": []
    },
    {
      "cell_type": "code",
      "source": [
        "def create_pretrain_instances(vocab, doc, n_seq, mask_prob, vocab_list):\n",
        "    \"\"\"\n",
        "    doc별 pretrain 데이터 생성\n",
        "    \"\"\"\n",
        "    # for CLS], [SEP], [SEP]\n",
        "    max_seq = n_seq - 3\n",
        "\n",
        "    instances = []\n",
        "    current_chunk = []\n",
        "    current_length = 0\n",
        "    for i in range(len(doc)):\n",
        "\n",
        "        current_chunk.append(doc[i])\n",
        "        current_length += len(doc[i])\n",
        "        if 1 < len(current_chunk) and (i == len(doc) - 1 or current_length >= max_seq):\n",
        "            a_end = 1\n",
        "            if 1 < len(current_chunk):\n",
        "                a_end = random.randrange(1, len(current_chunk))\n",
        "            tokens_a = []\n",
        "            for j in range(a_end):\n",
        "                tokens_a.extend(current_chunk[j])\n",
        "            tokens_b = []\n",
        "            for j in range(a_end, len(current_chunk)):\n",
        "                tokens_b.extend(current_chunk[j])\n",
        "\n",
        "            if random.random() < 0.5:\n",
        "                is_next = 0\n",
        "                tokens_t = tokens_a\n",
        "                tokens_a = tokens_b\n",
        "                tokens_b = tokens_t\n",
        "            else:\n",
        "                is_next = 1\n",
        "            trim_tokens(tokens_a, tokens_b, max_seq)\n",
        "            assert 0 < len(tokens_a)\n",
        "            assert 0 < len(tokens_b)\n",
        "            tokens = [\"[CLS]\"] + tokens_a + [\"[SEP]\"] + tokens_b + [\"[SEP]\"]\n",
        "            segment = [0] * (len(tokens_a) + 2) + [1] * (len(tokens_b) + 1)\n",
        "            tokens, mask_idx, mask_label = create_pretrain_mask(tokens, int((len(tokens) - 3) * mask_prob), vocab_list)\n",
        "\n",
        "            instance = {\n",
        "                \"tokens\": tokens,\n",
        "                \"segment\": segment,\n",
        "                \"is_next\": is_next,\n",
        "                \"mask_idx\": mask_idx,\n",
        "                \"mask_label\": mask_label\n",
        "            }\n",
        "            instances.append(instance)\n",
        "\n",
        "            current_chunk = []\n",
        "            current_length = 0\n",
        "    return instances"
      ],
      "metadata": {
        "id": "Yd8T4r07XKV9"
      },
      "execution_count": null,
      "outputs": []
    },
    {
      "cell_type": "code",
      "source": [
        "#NSP 생성 예제==================================\n",
        "string = \"\"\"추적추적 비가 내리는 날이었어\n",
        "그날은 왠지 손님이 많아\n",
        "\"\"\"\n",
        "\n",
        "doc = [vocab.encode_as_pieces(line) for line in string.split(\"\\n\")]\n",
        "instances = create_pretrain_instances(vocab, doc, 64, 0.15, vocab_list)\n",
        "\n",
        "print(\"=\" * 100)\n",
        "for key, value in instances[0].items():\n",
        "    print(f\"{key}: {value}\", end=\"\\n\\n\")\n",
        "print(\"=\" * 100)"
      ],
      "metadata": {
        "colab": {
          "base_uri": "https://localhost:8080/"
        },
        "id": "FwJYt-zX3Ih7",
        "outputId": "5c72f7fe-d667-49e9-8ea1-2c1f285d73e3"
      },
      "execution_count": null,
      "outputs": [
        {
          "output_type": "stream",
          "name": "stdout",
          "text": [
            "====================================================================================================\n",
            "tokens: ['[CLS]', '▁추', '적', '추', '적', '▁비', '가', '▁내', '리는', '▁날', '이었', '어', '[SEP]', '[MASK]', '[MASK]', '[MASK]', '▁', '왠', '지', '▁손', '님', '이', '▁많', '아', '[SEP]']\n",
            "\n",
            "segment: [0, 0, 0, 0, 0, 0, 0, 0, 0, 0, 0, 0, 0, 1, 1, 1, 1, 1, 1, 1, 1, 1, 1, 1, 1]\n",
            "\n",
            "is_next: 1\n",
            "\n",
            "mask_idx: [13, 14, 15]\n",
            "\n",
            "mask_label: ['▁그', '날', '은']\n",
            "\n",
            "====================================================================================================\n"
          ]
        }
      ]
    },
    {
      "cell_type": "markdown",
      "source": [
        "세그먼트, 마스킹이 이루어졌다"
      ],
      "metadata": {
        "id": "V6hjULue3L2k"
      }
    },
    {
      "cell_type": "markdown",
      "source": [
        "4. 데이터 전처리 (3) 데이터셋 완성\n",
        "BERT pretrain 데이터셋을 생성해, json 포맷으로 저장하세요. 데이터셋의 사이즈가 크므로np.memmap을 사용해 메모리 사용량을 최소화해 보세요."
      ],
      "metadata": {
        "id": "oND3dENv3R7j"
      }
    },
    {
      "cell_type": "code",
      "source": [
        "corpus_file = 'kowiki.txt'\n",
        "\n",
        "# line count 확인\n",
        "total = 0\n",
        "with open(corpus_file, 'r') as in_f:\n",
        "    for line in in_f:\n",
        "        total += 1\n",
        "\n",
        "total"
      ],
      "metadata": {
        "colab": {
          "base_uri": "https://localhost:8080/"
        },
        "id": "B3PWa-tHXNFN",
        "outputId": "198725db-1bac-4b0a-e23f-cb0603bdaed7"
      },
      "execution_count": null,
      "outputs": [
        {
          "output_type": "execute_result",
          "data": {
            "text/plain": [
              "3957761"
            ]
          },
          "metadata": {},
          "execution_count": 12
        }
      ]
    },
    {
      "cell_type": "code",
      "source": [
        "def make_pretrain_data(vocab, in_file, out_file, n_seq, mask_prob=0.15):\n",
        "    \"\"\" pretrain 데이터 생성 \"\"\"\n",
        "    def save_pretrain_instances(out_f, doc):\n",
        "        instances = create_pretrain_instances(vocab, doc, n_seq, mask_prob, vocab_list)\n",
        "        for instance in instances:\n",
        "            out_f.write(json.dumps(instance, ensure_ascii=False))\n",
        "            out_f.write(\"\\n\")\n",
        "\n",
        "    # 특수문자 7개를 제외한 vocab_list 생성\n",
        "    vocab_list = []\n",
        "    for id in range(7, len(vocab)):\n",
        "        if not vocab.is_unknown(id):        # 생성되는 단어 목록이 unknown인 경우는 제거합니다.\n",
        "            vocab_list.append(vocab.id_to_piece(id))\n",
        "\n",
        "    # line count 확인\n",
        "    line_cnt = 0\n",
        "    with open(in_file, \"r\") as in_f:\n",
        "        for line in in_f:\n",
        "            line_cnt += 1\n",
        "\n",
        "    with open(in_file, \"r\") as in_f:\n",
        "        with open(out_file, \"w\") as out_f:\n",
        "            doc = []\n",
        "            for line in tqdm(in_f, total=line_cnt):\n",
        "                line = line.strip()\n",
        "                if line == \"\":  # line이 빈줄 일 경우 (새로운 단락)\n",
        "                    if 0 < len(doc):\n",
        "                        save_pretrain_instances(out_f, doc)\n",
        "                        doc = []\n",
        "                else:  # line이 빈줄이 아닐 경우 tokenize 해서 doc에 저장\n",
        "                    pieces = vocab.encode_as_pieces(line)\n",
        "                    if 0 < len(pieces):\n",
        "                        doc.append(pieces)\n",
        "            if 0 < len(doc):  # 마지막에 처리되지 않은 doc가 있는 경우\n",
        "                save_pretrain_instances(out_f, doc)\n",
        "                doc = []\n",
        "\n",
        "\n",
        "\n",
        "#create data and save=============================\n",
        "pretrain_json_path = 'bert_pre_train.json'\n",
        "make_pretrain_data(vocab, corpus_file, pretrain_json_path, 128)\n",
        "\n",
        "total = 0\n",
        "with open(pretrain_json_path, \"r\") as f:\n",
        "    for line in f:\n",
        "        total += 1\n",
        "\n",
        "print(\"=\" * 100)\n",
        "print(f\"Data Num: {total:,}\")\n",
        "print(\"=\" * 100)"
      ],
      "metadata": {
        "colab": {
          "base_uri": "https://localhost:8080/",
          "height": 103,
          "referenced_widgets": [
            "66845f38790247d78e6217a25d0ccefd",
            "9a3dfc0160e94ebea125061efaf8edaf",
            "3bd0bb2f72ea4479bf7336692def248f",
            "0ff8e42c8d7b478e8ecd4bf9f02ceff0",
            "0f838ffc40a94230b1cbe574a16412fb",
            "4f405c894aed4f2ab7e3026972033546",
            "f10b967389294d3e8fbf3789946aa5cd",
            "392eabaa7c3445e28afa26023d664d08",
            "46ba565a36a340d8a80c6c727a8285e1",
            "24250c322fbb496eb291fcb4b8878230",
            "21b0c248c91e43979373d49c56db1e88"
          ]
        },
        "id": "6LybDLu1ZbZl",
        "outputId": "da4e0f91-988a-46e0-e457-14d1f8fa1d1d"
      },
      "execution_count": null,
      "outputs": [
        {
          "output_type": "display_data",
          "data": {
            "text/plain": [
              "  0%|          | 0/3957761 [00:00<?, ?it/s]"
            ],
            "application/vnd.jupyter.widget-view+json": {
              "version_major": 2,
              "version_minor": 0,
              "model_id": "66845f38790247d78e6217a25d0ccefd"
            }
          },
          "metadata": {}
        },
        {
          "output_type": "stream",
          "name": "stdout",
          "text": [
            "====================================================================================================\n",
            "Data Num: 918,173\n",
            "====================================================================================================\n"
          ]
        }
      ]
    },
    {
      "cell_type": "markdown",
      "source": [
        "918173 개의 데이터를 얻었다."
      ],
      "metadata": {
        "id": "JRWc3YFM53LW"
      }
    },
    {
      "cell_type": "code",
      "source": [
        "n_seq = 128\n",
        "# [CLS], tokens_a, [SEP], tokens_b, [SEP]\n",
        "max_seq = n_seq - 3\n",
        "\n",
        "# np.memmap을 사용하면 메모리를 적은 메모리에서도 대용량 데이터 처리가 가능 함\n",
        "enc_tokens = np.memmap(filename='enc_tokens.memmap', mode='w+', dtype=np.int32, shape=(total, n_seq))\n",
        "segments = np.memmap(filename='segments.memmap', mode='w+', dtype=np.int32, shape=(total, n_seq))\n",
        "labels_nsp = np.memmap(filename='labels_nsp.memmap', mode='w+', dtype=np.int32, shape=(total,))\n",
        "labels_mlm = np.memmap(filename='labels_mlm.memmap', mode='w+', dtype=np.int32, shape=(total, n_seq))\n"
      ],
      "metadata": {
        "id": "Gec_t35yZjD-"
      },
      "execution_count": null,
      "outputs": []
    },
    {
      "cell_type": "code",
      "source": [
        "def load_pre_train_data(vocab, filename, n_seq, count=None):\n",
        "    \"\"\"\n",
        "    학습에 필요한 데이터를 로드\n",
        "    :param vocab: vocab\n",
        "    :param filename: 전처리된 json 파일\n",
        "    :param n_seq: 시퀀스 길이 (number of sequence)\n",
        "    :param count: 데이터 수 제한 (None이면 전체)\n",
        "    :return enc_tokens: encoder inputs\n",
        "    :return segments: segment inputs\n",
        "    :return labels_nsp: nsp labels\n",
        "    :return labels_mlm: mlm labels\n",
        "    \"\"\"\n",
        "    total = 0\n",
        "    with open(filename, \"r\") as f:\n",
        "        for line in f:\n",
        "            total += 1\n",
        "            # 데이터 수 제한\n",
        "            if count is not None and count <= total:\n",
        "                break\n",
        "\n",
        "    # np.memmap을 사용하면 메모리를 적은 메모리에서도 대용량 데이터 처리가 가능 함\n",
        "    enc_tokens = np.memmap(filename='enc_tokens.memmap', mode='w+', dtype=np.int32, shape=(total, n_seq))\n",
        "    segments = np.memmap(filename='segments.memmap', mode='w+', dtype=np.int32, shape=(total, n_seq))\n",
        "    labels_nsp = np.memmap(filename='labels_nsp.memmap', mode='w+', dtype=np.int32, shape=(total,))\n",
        "    labels_mlm = np.memmap(filename='labels_mlm.memmap', mode='w+', dtype=np.int32, shape=(total, n_seq))\n",
        "\n",
        "    with open(filename, \"r\") as f:\n",
        "        for i, line in enumerate(tqdm(f, total=total)):\n",
        "            if total <= i:\n",
        "                print(\"data load early stop\", total, i)\n",
        "                break\n",
        "            data = json.loads(line)\n",
        "            # encoder token\n",
        "            enc_token = [vocab.piece_to_id(p) for p in data[\"tokens\"]]\n",
        "            enc_token += [0] * (n_seq - len(enc_token))\n",
        "            # segment\n",
        "            segment = data[\"segment\"]\n",
        "            segment += [0] * (n_seq - len(segment))\n",
        "            # nsp label\n",
        "            label_nsp = data[\"is_next\"]\n",
        "            # mlm label\n",
        "            mask_idx = np.array(data[\"mask_idx\"], dtype=np.int32)\n",
        "            mask_label = np.array([vocab.piece_to_id(p) for p in data[\"mask_label\"]], dtype=np.int32)\n",
        "            label_mlm = np.full(n_seq, dtype=np.int32, fill_value=0)\n",
        "            label_mlm[mask_idx] = mask_label\n",
        "\n",
        "            assert len(enc_token) == len(segment) == len(label_mlm) == n_seq\n",
        "\n",
        "            enc_tokens[i] = enc_token\n",
        "            segments[i] = segment\n",
        "            labels_nsp[i] = label_nsp\n",
        "            labels_mlm[i] = label_mlm\n",
        "\n",
        "    return (enc_tokens, segments), (labels_nsp, labels_mlm)"
      ],
      "metadata": {
        "id": "SdVd8IitZlXn"
      },
      "execution_count": null,
      "outputs": []
    },
    {
      "cell_type": "code",
      "source": [
        "# 128000건만 메모리에 로딩\n",
        "pre_train_inputs, pre_train_labels = load_pre_train_data(vocab, pretrain_json_path, 128, count=128000)"
      ],
      "metadata": {
        "colab": {
          "base_uri": "https://localhost:8080/",
          "height": 67,
          "referenced_widgets": [
            "a537f022d2f3429a8f7431400e37f951",
            "1c4290ad87e64561a756989b41d8891c",
            "615fd82303884020a75759a818f1d814",
            "716b40625518400f9888778a1e691c15",
            "ec28998108a94a5b96de0cfd15357f2d",
            "1e4fd864b1614cbca237b6a8b11c612e",
            "584c8129fdb24a1c810a843b4eedae4d",
            "c82f430c50e24161b58b2be5e2f63f50",
            "3c176678e1274ff487a3f2d8ecd5e085",
            "a8e92ecf3d4f413e9fabb00961511ff9",
            "b833843723fe4a1e90834b19ac68952c"
          ]
        },
        "id": "PlwXJV0cZmqf",
        "outputId": "5b37044e-67ed-4113-bd97-777efe726dfb"
      },
      "execution_count": null,
      "outputs": [
        {
          "output_type": "display_data",
          "data": {
            "text/plain": [
              "  0%|          | 0/128000 [00:00<?, ?it/s]"
            ],
            "application/vnd.jupyter.widget-view+json": {
              "version_major": 2,
              "version_minor": 0,
              "model_id": "a537f022d2f3429a8f7431400e37f951"
            }
          },
          "metadata": {}
        },
        {
          "output_type": "stream",
          "name": "stdout",
          "text": [
            "data load early stop 128000 128000\n"
          ]
        }
      ]
    },
    {
      "cell_type": "markdown",
      "source": [
        "5. BERT 모델 구현\n",
        "pad mask, ahead mask 함수, gelu activation 함수, parameter initializer 생성 함수, json을 config 형태로 사용하기 위한 유틸리티 함수를 먼저 만들어 두세요.\n",
        "\n",
        "Embedding 레이어, Transformer encoder 레이어, BERT 레이어를 구성한 후, pretraine용 BERT 모델을 만들어 봅시다."
      ],
      "metadata": {
        "id": "QgeuBahk3yiG"
      }
    },
    {
      "cell_type": "code",
      "source": [
        "def get_pad_mask(tokens, i_pad=0):\n",
        "    \"\"\"\n",
        "    pad mask 계산하는 함수\n",
        "    :param tokens: tokens (bs, n_seq)\n",
        "    :param i_pad: id of pad\n",
        "    :return mask: pad mask (pad: 1, other: 0)\n",
        "    \"\"\"\n",
        "    mask = (tokens == i_pad).float()\n",
        "    mask = mask.unsqueeze(1)\n",
        "    return mask\n",
        "\n",
        "def get_ahead_mask(tokens, i_pad=0):\n",
        "    \"\"\"\n",
        "    ahead mask 계산하는 함수\n",
        "    :param tokens: tokens (bs, n_seq)\n",
        "    :param i_pad: id of pad\n",
        "    :return mask: ahead and pad mask (ahead or pad: 1, other: 0)\n",
        "    \"\"\"\n",
        "    n_seq = tokens.size(1)\n",
        "    ahead_mask = 1 - torch.tril(torch.ones((n_seq, n_seq)))\n",
        "    ahead_mask = ahead_mask.unsqueeze(0)\n",
        "    pad_mask = get_pad_mask(tokens, i_pad)\n",
        "    mask = torch.maximum(ahead_mask, pad_mask)\n",
        "    return mask"
      ],
      "metadata": {
        "id": "zAkWhlAVboeB"
      },
      "execution_count": null,
      "outputs": []
    },
    {
      "cell_type": "code",
      "source": [
        "def gelu(x):\n",
        "    \"\"\"\n",
        "    gelu activation 함수\n",
        "    :param x: 입력 값\n",
        "    :return: gelu activation result\n",
        "    \"\"\"\n",
        "    return 0.5 * x * (1 + torch.tanh(math.sqrt(2 / math.pi) * (x + 0.044715 * torch.pow(x, 3))))"
      ],
      "metadata": {
        "id": "kFlm3-VbqZH5"
      },
      "execution_count": null,
      "outputs": []
    },
    {
      "cell_type": "code",
      "source": [
        "def kernel_initializer(stddev=0.02):\n",
        "    \"\"\"\n",
        "    parameter initializer 생성\n",
        "    :param stddev: 생성할 랜덤 변수의 표준편차\n",
        "    \"\"\"\n",
        "    return torch.nn.init.trunc_normal_\n",
        "\n",
        "def bias_initializer():\n",
        "    \"\"\"\n",
        "    bias initializer 생성\n",
        "    \"\"\"\n",
        "    return torch.zeros_"
      ],
      "metadata": {
        "id": "CY99BZiNqaUa"
      },
      "execution_count": null,
      "outputs": []
    },
    {
      "cell_type": "code",
      "source": [
        "class Config(dict):\n",
        "    \"\"\"\n",
        "    json을 config 형태로 사용하기 위한 Class\n",
        "    :param dict: config dictionary\n",
        "    \"\"\"\n",
        "    __getattr__ = dict.__getitem__\n",
        "    __setattr__ = dict.__setitem__\n",
        "\n",
        "    @classmethod\n",
        "    def load(cls, file):\n",
        "        \"\"\"\n",
        "        file에서 Config를 생성 함\n",
        "        :param file: filename\n",
        "        \"\"\"\n",
        "        with open(file, 'r') as f:\n",
        "            config = json.loads(f.read())\n",
        "            return Config(config)"
      ],
      "metadata": {
        "id": "AkbAxv6gqbi9"
      },
      "execution_count": null,
      "outputs": []
    },
    {
      "cell_type": "code",
      "source": [
        "class SharedEmbedding(nn.Module):\n",
        "    \"\"\"\n",
        "    Weighed Shared Embedding Class\n",
        "    \"\"\"\n",
        "    def __init__(self, config, name=\"weight_shared_embedding\"):\n",
        "        \"\"\"\n",
        "        생성자\n",
        "        :param config: Config 객체\n",
        "        :param name: layer name (PyTorch에서는 사용되지 않음)\n",
        "        \"\"\"\n",
        "        super().__init__()\n",
        "\n",
        "        self.n_vocab = config.n_vocab\n",
        "        self.d_model = config.d_model\n",
        "        self.shared_weights = nn.Parameter(torch.empty(self.n_vocab, self.d_model))\n",
        "        nn.init.trunc_normal_(self.shared_weights, std=0.02)  # TensorFlow와 동일한 초기화 적용\n",
        "\n",
        "    def forward(self, inputs, mode=\"embedding\"):\n",
        "        \"\"\"\n",
        "        layer 실행\n",
        "        :param inputs: 입력\n",
        "        :param mode: 실행 모드\n",
        "        :return: embedding or linear 실행 결과\n",
        "        \"\"\"\n",
        "        # mode가 embedding일 경우 embedding lookup 실행\n",
        "        if mode == \"embedding\":\n",
        "            return self._embedding(inputs)\n",
        "        # mode가 linear일 경우 linear 실행\n",
        "        elif mode == \"linear\":\n",
        "            return self._linear(inputs)\n",
        "        # mode가 기타일 경우 오류 발생\n",
        "        else:\n",
        "            raise ValueError(f\"mode {mode} is not valid.\")\n",
        "\n",
        "    def _embedding(self, inputs):\n",
        "        \"\"\"\n",
        "        embedding lookup\n",
        "        :param inputs: 입력\n",
        "        \"\"\"\n",
        "        inputs = torch.clamp(inputs, max=self.shared_weights.size(0) - 1)\n",
        "\n",
        "        return self.shared_weights[inputs.long()]\n",
        "\n",
        "    def _linear(self, inputs):  # (bs, n_seq, d_model)\n",
        "        \"\"\"\n",
        "        linear 실행\n",
        "        :param inputs: 입력\n",
        "        \"\"\"\n",
        "        n_batch, n_seq, _ = inputs.shape\n",
        "        inputs = inputs.view(-1, self.d_model)  # (bs * n_seq, d_model)\n",
        "        outputs = torch.matmul(inputs, self.shared_weights.T)\n",
        "        outputs = outputs.view(n_batch, n_seq, self.n_vocab)  # (bs, n_seq, n_vocab)\n",
        "        return outputs"
      ],
      "metadata": {
        "id": "A_sNoCuIqctX"
      },
      "execution_count": null,
      "outputs": []
    },
    {
      "cell_type": "code",
      "source": [
        "class PositionEmbedding(nn.Module):\n",
        "    \"\"\"\n",
        "    Position Embedding Class\n",
        "    \"\"\"\n",
        "    def __init__(self, config, name=\"position_embedding\"):\n",
        "        \"\"\"\n",
        "        생성자\n",
        "        :param config: Config 객체\n",
        "        :param name: layer name (PyTorch에서는 사용되지 않음)\n",
        "        \"\"\"\n",
        "        super().__init__()\n",
        "\n",
        "        self.embedding = nn.Embedding(config.n_seq, config.d_model)\n",
        "        nn.init.trunc_normal_(self.embedding.weight, std=0.02)\n",
        "\n",
        "    def forward(self, inputs):\n",
        "        \"\"\"\n",
        "        layer 실행\n",
        "        :param inputs: 입력\n",
        "        :return embed: position embedding lookup 결과\n",
        "        \"\"\"\n",
        "        position = torch.cumsum(torch.ones_like(inputs), dim=1) - 1\n",
        "        position = position.long()\n",
        "        embed = self.embedding(position)\n",
        "        return embed"
      ],
      "metadata": {
        "id": "tPg8Nw_fqd-S"
      },
      "execution_count": null,
      "outputs": []
    },
    {
      "cell_type": "code",
      "source": [
        "class ScaleDotProductAttention(nn.Module):\n",
        "    \"\"\"\n",
        "    Scale Dot Product Attention Class\n",
        "    \"\"\"\n",
        "    def __init__(self, name=\"scale_dot_product_attention\"):\n",
        "        \"\"\"\n",
        "        생성자\n",
        "        :param name: layer name (PyTorch에서는 사용되지 않음)\n",
        "        \"\"\"\n",
        "        super().__init__()\n",
        "\n",
        "    def forward(self, Q, K, V, attn_mask):\n",
        "        \"\"\"\n",
        "        layer 실행\n",
        "        :param Q: Q value\n",
        "        :param K: K value\n",
        "        :param V: V value\n",
        "        :param attn_mask: 실행 모드\n",
        "        :return attn_out: attention 실행 결과\n",
        "        \"\"\"\n",
        "        attn_score = torch.matmul(Q, K.transpose(-2, -1))\n",
        "        scale = torch.sqrt(torch.tensor(K.shape[-1], dtype=torch.float32))\n",
        "        attn_scale = attn_score / scale\n",
        "        attn_scale = attn_scale - (attn_mask * 1e9)\n",
        "        attn_prob = F.softmax(attn_scale, dim=-1)\n",
        "        attn_out = torch.matmul(attn_prob, V)\n",
        "        return attn_out"
      ],
      "metadata": {
        "id": "aNqkyHcIqfCy"
      },
      "execution_count": null,
      "outputs": []
    },
    {
      "cell_type": "code",
      "source": [
        "class MultiHeadAttention(nn.Module):\n",
        "    \"\"\"\n",
        "    Multi Head Attention Class\n",
        "    \"\"\"\n",
        "    def __init__(self, config, name=\"multi_head_attention\"):\n",
        "        \"\"\"\n",
        "        생성자\n",
        "        :param config: Config 객체\n",
        "        :param name: layer name (PyTorch에서는 사용되지 않음)\n",
        "        \"\"\"\n",
        "        super().__init__()\n",
        "\n",
        "        self.d_model = config.d_model\n",
        "        self.n_head = config.n_head\n",
        "        self.d_head = config.d_head\n",
        "\n",
        "        # Q, K, V input dense layer\n",
        "        self.W_Q = nn.Linear(config.d_model, config.n_head * config.d_head)\n",
        "        self.W_K = nn.Linear(config.d_model, config.n_head * config.d_head)\n",
        "        self.W_V = nn.Linear(config.d_model, config.n_head * config.d_head)\n",
        "        # Scale Dot Product Attention class\n",
        "        self.attention = ScaleDotProductAttention()\n",
        "        # output dense layer\n",
        "        self.W_O = nn.Linear(config.n_head * config.d_head, config.d_model)\n",
        "\n",
        "    def forward(self, Q, K, V, attn_mask):\n",
        "        \"\"\"\n",
        "        layer 실행\n",
        "        :param Q: Q value\n",
        "        :param K: K value\n",
        "        :param V: V value\n",
        "        :param attn_mask: 실행 모드\n",
        "        :return attn_out: attention 실행 결과\n",
        "        \"\"\"\n",
        "        batch_size = Q.shape[0]\n",
        "\n",
        "        # reshape Q, K, V, attn_mask\n",
        "        Q_m = self.W_Q(Q).view(batch_size, -1, self.n_head, self.d_head).transpose(1, 2)\n",
        "        K_m = self.W_K(K).view(batch_size, -1, self.n_head, self.d_head).transpose(1, 2)\n",
        "        V_m = self.W_V(V).view(batch_size, -1, self.n_head, self.d_head).transpose(1, 2)\n",
        "        attn_mask_m = attn_mask.unsqueeze(1)\n",
        "\n",
        "        # Scale Dot Product Attention 실행\n",
        "        attn_out = self.attention(Q_m, K_m, V_m, attn_mask_m)\n",
        "        # (batch_size, n_seq, n_head, d_head)로 변환 후, (batch_size, n_seq, d_model)로 reshape\n",
        "        attn_out_m = attn_out.transpose(1, 2).contiguous()  # (batch_size, n_seq, n_head, d_head)\n",
        "        attn_out = attn_out_m.view(batch_size, -1, self.n_head * self.d_head)  # (batch_size, n_seq, d_model)\n",
        "        attn_out = self.W_O(attn_out)  # (batch_size, n_seq, d_model)\n",
        "\n",
        "        return attn_out"
      ],
      "metadata": {
        "id": "7MMez_XBqgAU"
      },
      "execution_count": null,
      "outputs": []
    },
    {
      "cell_type": "code",
      "source": [
        "class PositionWiseFeedForward(nn.Module):\n",
        "    \"\"\"\n",
        "    Position Wise Feed Forward Class\n",
        "    \"\"\"\n",
        "    def __init__(self, config, name=\"feed_forward\"):\n",
        "        \"\"\"\n",
        "        생성자\n",
        "        :param config: Config 객체\n",
        "        :param name: layer name (PyTorch에서는 사용되지 않음)\n",
        "        \"\"\"\n",
        "        super().__init__()\n",
        "\n",
        "        self.W_1 = nn.Linear(config.d_model, config.d_ff)\n",
        "        self.W_2 = nn.Linear(config.d_ff, config.d_model)\n",
        "\n",
        "        self.gelu = nn.GELU()\n",
        "\n",
        "    def forward(self, inputs):\n",
        "        \"\"\"\n",
        "        layer 실행\n",
        "        :param inputs: inputs\n",
        "        :return ff_val: feed forward 실행 결과\n",
        "        \"\"\"\n",
        "        ff_val = self.W_2(self.gelu(self.W_1(inputs)))\n",
        "        return ff_val"
      ],
      "metadata": {
        "id": "cee4BCPZqhJc"
      },
      "execution_count": null,
      "outputs": []
    },
    {
      "cell_type": "code",
      "source": [
        "class EncoderLayer(nn.Module):\n",
        "    \"\"\"\n",
        "    Encoder Layer Class\n",
        "    \"\"\"\n",
        "    def __init__(self, config, name=\"encoder_layer\"):\n",
        "        \"\"\"\n",
        "        생성자\n",
        "        :param config: Config 객체\n",
        "        :param name: layer name (PyTorch에서는 사용되지 않음)\n",
        "        \"\"\"\n",
        "        super().__init__()\n",
        "\n",
        "        self.self_attention = MultiHeadAttention(config)\n",
        "        self.norm1 = nn.LayerNorm(config.d_model, eps=config.layernorm_epsilon)\n",
        "\n",
        "        self.ffn = PositionWiseFeedForward(config)\n",
        "        self.norm2 = nn.LayerNorm(config.d_model, eps=config.layernorm_epsilon)\n",
        "\n",
        "        self.dropout = nn.Dropout(config.dropout)\n",
        "\n",
        "    def forward(self, enc_embed, self_mask):\n",
        "        \"\"\"\n",
        "        layer 실행\n",
        "        :param enc_embed: enc_embed 또는 이전 EncoderLayer의 출력\n",
        "        :param self_mask: enc_tokens의 pad mask\n",
        "        :return enc_out: EncoderLayer 실행 결과\n",
        "        \"\"\"\n",
        "        self_attn_val = self.self_attention(enc_embed, enc_embed, enc_embed, self_mask)\n",
        "        norm1_val = self.norm1(enc_embed + self.dropout(self_attn_val))\n",
        "\n",
        "        ffn_val = self.ffn(norm1_val)\n",
        "        enc_out = self.norm2(norm1_val + self.dropout(ffn_val))\n",
        "\n",
        "        return enc_out"
      ],
      "metadata": {
        "id": "RgQQjPZpqiNs"
      },
      "execution_count": null,
      "outputs": []
    },
    {
      "cell_type": "code",
      "source": [
        "class BERT(nn.Module):\n",
        "    \"\"\"\n",
        "    BERT Class\n",
        "    \"\"\"\n",
        "    def __init__(self, config):\n",
        "        \"\"\"\n",
        "        생성자\n",
        "        :param config: Config 객체\n",
        "        \"\"\"\n",
        "        super(BERT, self).__init__()\n",
        "\n",
        "        self.i_pad = config.i_pad\n",
        "        self.embedding = SharedEmbedding(config)\n",
        "        self.position = PositionEmbedding(config)\n",
        "        self.segment = nn.Embedding(2, config.d_model)  # Segment embedding layer\n",
        "        self.norm = nn.LayerNorm(config.d_model, eps=config.layernorm_epsilon)\n",
        "\n",
        "        self.encoder_layers = nn.ModuleList([EncoderLayer(config, name=f\"encoder_layer_{i}\") for i in range(config.n_layer)])\n",
        "\n",
        "        self.dropout = nn.Dropout(config.dropout)\n",
        "\n",
        "    def forward(self, enc_tokens, segments):\n",
        "        \"\"\"\n",
        "        layer 실행\n",
        "        :param enc_tokens: 입력 token들\n",
        "        :param segments: 입력 segment들\n",
        "        :return logits_cls: CLS 토큰에 대한 예측\n",
        "        :return logits_lm: Masked Language Modeling 예측\n",
        "        \"\"\"\n",
        "        enc_self_mask = get_pad_mask(enc_tokens, self.i_pad)\n",
        "\n",
        "        enc_embed = self.get_embedding(enc_tokens, segments)\n",
        "\n",
        "        enc_out = self.dropout(enc_embed)\n",
        "\n",
        "        for encoder_layer in self.encoder_layers:\n",
        "            enc_out = encoder_layer(enc_out, enc_self_mask)\n",
        "\n",
        "        logits_cls = enc_out[:, 0]\n",
        "        logits_lm = self.embedding(enc_out, mode=\"linear\")\n",
        "        return logits_cls, logits_lm\n",
        "\n",
        "    def get_embedding(self, tokens, segments):\n",
        "        \"\"\"\n",
        "        token embedding, position embedding lookup\n",
        "        :param tokens: 입력 tokens\n",
        "        :param segments: 입력 segments\n",
        "        :return embed: embedding 결과\n",
        "        \"\"\"\n",
        "        embed = self.embedding(tokens) + self.position(tokens) + self.segment(segments)\n",
        "        embed = self.norm(embed)\n",
        "        return embed"
      ],
      "metadata": {
        "id": "wvp3NFm7qjna"
      },
      "execution_count": null,
      "outputs": []
    },
    {
      "cell_type": "markdown",
      "source": [
        "pretrain을 위한 구성"
      ],
      "metadata": {
        "id": "nyvg_er08FV0"
      }
    },
    {
      "cell_type": "code",
      "source": [
        "# Encoder Layer class 정의\n",
        "class PooledOutput(nn.Module):\n",
        "    def __init__(self, config, n_output, name=\"pooled_output\"):\n",
        "        super(PooledOutput, self).__init__()\n",
        "\n",
        "        self.dense1 = nn.Linear(config.d_model, config.d_model)\n",
        "        self.dense2 = nn.Linear(config.d_model, n_output, bias=False)\n",
        "\n",
        "    def forward(self, inputs):\n",
        "        \"\"\"\n",
        "        forward pass\n",
        "        :param inputs: 모델의 출력 (예: logits_cls)\n",
        "        :return: softmax된 결과\n",
        "        \"\"\"\n",
        "        outputs = F.tanh(self.dense1(inputs))\n",
        "        outputs = self.dense2(outputs)\n",
        "        outputs = F.softmax(outputs, dim=-1)\n",
        "        return outputs"
      ],
      "metadata": {
        "id": "_sPgtOWPqlCR"
      },
      "execution_count": null,
      "outputs": []
    },
    {
      "cell_type": "code",
      "source": [
        "class PreTrainModel(nn.Module):\n",
        "    def __init__(self, config):\n",
        "        super(PreTrainModel, self).__init__()\n",
        "        self.bert = BERT(config)\n",
        "        self.pooled_output = PooledOutput(config, 2)\n",
        "\n",
        "    def forward(self, enc_tokens, segments):\n",
        "        enc_tokens = enc_tokens.long()\n",
        "        segments = segments.long()\n",
        "\n",
        "        logits_cls, logits_lm = self.bert(enc_tokens, segments)\n",
        "\n",
        "        logits_cls = self.pooled_output(logits_cls)\n",
        "        outputs_nsp = F.softmax(logits_cls, dim=-1)\n",
        "\n",
        "        outputs_mlm = F.softmax(logits_lm, dim=-1)\n",
        "        return outputs_nsp, outputs_mlm\n",
        "\n",
        "def build_model_pre_train(config):\n",
        "    return PreTrainModel(config)"
      ],
      "metadata": {
        "id": "KMU0tJ7TqmDt"
      },
      "execution_count": null,
      "outputs": []
    },
    {
      "cell_type": "code",
      "source": [
        "class Config:\n",
        "    def __init__(self, config_dict):\n",
        "        for key, value in config_dict.items():\n",
        "            setattr(self, key, value)\n",
        "\n",
        "config = Config({\n",
        "    \"d_model\": 128,\n",
        "    \"n_head\": 4,\n",
        "    \"d_head\": 64,\n",
        "    \"dropout\": 0.1,\n",
        "    \"d_ff\": 1024,\n",
        "    \"layernorm_epsilon\": 0.001,\n",
        "    \"n_layer\": 3,\n",
        "    \"n_seq\": 256,\n",
        "    \"n_vocab\": 5000,\n",
        "    \"i_pad\": 0\n",
        "})\n",
        "\n",
        "class Vocab:\n",
        "    def __init__(self, vocab_size):\n",
        "        self.vocab_size = vocab_size\n",
        "        self.pad_id = 0\n",
        "\n",
        "vocab = Vocab(config.n_vocab)\n",
        "config.n_vocab = vocab.vocab_size\n",
        "config.i_pad = vocab.pad_id"
      ],
      "metadata": {
        "id": "rwN0NpBCqndJ"
      },
      "execution_count": null,
      "outputs": []
    },
    {
      "cell_type": "code",
      "source": [
        "n_seq = 10\n",
        "\n",
        "# make test inputs\n",
        "enc_tokens = torch.randint(0, config.n_vocab, (10, n_seq))\n",
        "segments = torch.randint(0, 2, (10, n_seq))\n",
        "labels_nsp = torch.randint(0, 2, (10,))\n",
        "labels_mlm = torch.randint(0, config.n_vocab, (10, n_seq))\n",
        "\n",
        "batch_size = 5\n",
        "train_dataset = TensorDataset(enc_tokens, segments, labels_nsp, labels_mlm)\n",
        "train_dataloader = DataLoader(train_dataset, batch_size=batch_size, shuffle=True)"
      ],
      "metadata": {
        "id": "NS-E67Rqqo8h"
      },
      "execution_count": null,
      "outputs": []
    },
    {
      "cell_type": "markdown",
      "source": [
        "6. pretrain 진행\n",
        "loss, accuracy 함수를 정의하고 Learning Rate 스케쥴링을 구현한 후, 10 Epoch까지 모델 학습을 시켜보세요. 학습을 진행할 때는 배치 사이즈에 유의하세요."
      ],
      "metadata": {
        "id": "_E0LZlnb33Iz"
      }
    },
    {
      "cell_type": "code",
      "source": [
        "def lm_loss(y_true, y_pred):\n",
        "    \"\"\"\n",
        "    loss 계산 함수\n",
        "    :param y_true: 정답 (bs, n_seq)\n",
        "    :param y_pred: 예측 값 (bs, n_seq, n_vocab)\n",
        "    \"\"\"\n",
        "    # loss 계산\n",
        "    loss = F.cross_entropy(y_pred.view(-1, y_pred.size(-1)), y_true.view(-1), reduction='none')\n",
        "    # pad(0) 인 부분 mask\n",
        "    mask = (y_true != 0).float()\n",
        "    loss = loss * mask\n",
        "    return loss.mean() * 20   # mlm을 더 잘 학습하도록 20배 증가 시킴"
      ],
      "metadata": {
        "id": "ocBE1sTxqtD0"
      },
      "execution_count": null,
      "outputs": []
    },
    {
      "cell_type": "code",
      "source": [
        "def lm_acc(y_true, y_pred):\n",
        "    \"\"\"\n",
        "    acc 계산 함수\n",
        "    :param y_true: 정답 (bs, n_seq)\n",
        "    :param y_pred: 예측 값 (bs, n_seq, n_vocab)\n",
        "    \"\"\"\n",
        "    # 정답 여부 확인\n",
        "    y_pred_class = torch.argmax(y_pred, dim=-1).float()\n",
        "    matches = (y_true == y_pred_class).float()\n",
        "    # pad(0) 인 부분 mask\n",
        "    mask = (y_true != 0).float()\n",
        "    matches *= mask\n",
        "    # 정확도 계산\n",
        "    accuracy = matches.sum() / mask.sum().clamp(min=1)\n",
        "    return accuracy"
      ],
      "metadata": {
        "id": "mntzjpupqt5k"
      },
      "execution_count": null,
      "outputs": []
    },
    {
      "cell_type": "code",
      "source": [
        "class CosineSchedule:\n",
        "    \"\"\"\n",
        "    CosineSchedule Class for learning rate scheduling\n",
        "    \"\"\"\n",
        "    def __init__(self, optimizer=None, train_steps=4000, warmup_steps=500, max_lr=2.5e-4):\n",
        "        \"\"\"\n",
        "        생성자\n",
        "        :param optimizer: Optimizer (PyTorch optimizer)\n",
        "        :param train_steps: 총 학습 step 수\n",
        "        :param warmup_steps: warmup steps\n",
        "        :param max_lr: 최대 learning rate\n",
        "        \"\"\"\n",
        "        self.optimizer = optimizer\n",
        "        self.train_steps = train_steps\n",
        "        self.warmup_steps = warmup_steps\n",
        "        self.max_lr = max_lr\n",
        "        self.step_num = 0\n",
        "\n",
        "    def get_lr(self):\n",
        "        \"\"\"\n",
        "        learning rate 계산\n",
        "        :return: 계산된 learning rate\n",
        "        \"\"\"\n",
        "        if self.step_num <= self.warmup_steps:\n",
        "            lr = (self.step_num / self.warmup_steps) * self.max_lr\n",
        "        else:\n",
        "            progress = (self.step_num - self.warmup_steps) / max(1, self.train_steps - self.warmup_steps)\n",
        "            lr = 0.5 * self.max_lr * (1 + math.cos(math.pi * progress))\n",
        "        return lr\n",
        "\n",
        "    def step(self):\n",
        "        \"\"\"\n",
        "        Step 함수: 매 학습 step마다 호출하여 learning rate를 업데이트\n",
        "        \"\"\"\n",
        "        self.step_num += 1\n",
        "        return self.get_lr()"
      ],
      "metadata": {
        "id": "2F1E3NzFquvl"
      },
      "execution_count": null,
      "outputs": []
    },
    {
      "cell_type": "code",
      "source": [
        "# compute lr\n",
        "test_schedule = CosineSchedule(train_steps=4000, warmup_steps=500)\n",
        "lrs = []\n",
        "for step_num in range(4000):\n",
        "    lrs.append(test_schedule.step())"
      ],
      "metadata": {
        "id": "vTHwnDPLqvvy"
      },
      "execution_count": null,
      "outputs": []
    },
    {
      "cell_type": "code",
      "source": [
        "from torchinfo import summary\n",
        "\n",
        "config.n_seq = 128\n",
        "pre_train_model = build_model_pre_train(config)\n",
        "device = torch.device(\"cuda\" if torch.cuda.is_available() else \"cpu\")\n",
        "pre_train_model.to(device)\n",
        "\n",
        "enc_tokens_example = torch.randint(0, config.n_vocab, (10, config.n_seq), dtype=torch.long).to(device)\n",
        "segments_example = torch.randint(0, 2, (10, config.n_seq), dtype=torch.long).to(device)\n",
        "\n",
        "summary(pre_train_model, [(10, config.n_seq), (10, config.n_seq)])"
      ],
      "metadata": {
        "colab": {
          "base_uri": "https://localhost:8080/"
        },
        "id": "TXmicdZLqxwF",
        "outputId": "c627de51-9f34-40c6-a46c-7eb5cc3c0d3d"
      },
      "execution_count": null,
      "outputs": [
        {
          "output_type": "execute_result",
          "data": {
            "text/plain": [
              "==============================================================================================================\n",
              "Layer (type:depth-idx)                                       Output Shape              Param #\n",
              "==============================================================================================================\n",
              "PreTrainModel                                                [10, 2]                   --\n",
              "├─BERT: 1-1                                                  [10, 128]                 --\n",
              "│    └─SharedEmbedding: 2-1                                  [10, 128, 128]            640,000\n",
              "│    └─PositionEmbedding: 2-2                                [10, 128, 128]            --\n",
              "│    │    └─Embedding: 3-1                                   [10, 128, 128]            16,384\n",
              "│    └─Embedding: 2-3                                        [10, 128, 128]            256\n",
              "│    └─LayerNorm: 2-4                                        [10, 128, 128]            256\n",
              "│    └─Dropout: 2-5                                          [10, 128, 128]            --\n",
              "│    └─ModuleList: 2-6                                       --                        --\n",
              "│    │    └─EncoderLayer: 3-2                                [10, 128, 128]            395,776\n",
              "│    │    └─EncoderLayer: 3-3                                [10, 128, 128]            395,776\n",
              "│    │    └─EncoderLayer: 3-4                                [10, 128, 128]            395,776\n",
              "│    └─SharedEmbedding: 2-7                                  [10, 128, 5000]           (recursive)\n",
              "├─PooledOutput: 1-2                                          [10, 2]                   --\n",
              "│    └─Linear: 2-8                                           [10, 128]                 16,512\n",
              "│    └─Linear: 2-9                                           [10, 2]                   256\n",
              "==============================================================================================================\n",
              "Total params: 1,860,992\n",
              "Trainable params: 1,860,992\n",
              "Non-trainable params: 0\n",
              "Total mult-adds (Units.GIGABYTES): 1.65\n",
              "==============================================================================================================\n",
              "Input size (MB): 0.01\n",
              "Forward/backward pass size (MB): 127.23\n",
              "Params size (MB): 7.44\n",
              "Estimated Total Size (MB): 134.69\n",
              "=============================================================================================================="
            ]
          },
          "metadata": {},
          "execution_count": 36
        }
      ]
    },
    {
      "cell_type": "code",
      "source": [
        "device = torch.device(\"cpu\")\n",
        "pre_train_model.to(device)\n",
        "enc_tokens_example = enc_tokens_example.cpu()\n",
        "segments_example = segments_example.cpu()\n"
      ],
      "metadata": {
        "id": "OSaurbAqBzdf"
      },
      "execution_count": null,
      "outputs": []
    },
    {
      "cell_type": "code",
      "source": [
        "epochs = 10\n",
        "batch_size = 64\n",
        "\n",
        "# optimizer\n",
        "train_steps = math.ceil(len(pre_train_inputs[0]) / batch_size) * epochs\n",
        "print(\"train_steps:\", train_steps)\n",
        "learning_rate_scheduler = CosineSchedule(train_steps=train_steps, warmup_steps=max(100, train_steps // 10))\n",
        "optimizer = optim.Adam(pre_train_model.parameters(), lr=1e-4)\n",
        "\n",
        "loss_fn_nsp = nn.CrossEntropyLoss()\n",
        "loss_fn_mlm = nn.CrossEntropyLoss()"
      ],
      "metadata": {
        "colab": {
          "base_uri": "https://localhost:8080/"
        },
        "id": "oW6Y59Ax8Vyg",
        "outputId": "492b44a8-de99-42bc-cb10-d04eb5b286e9"
      },
      "execution_count": null,
      "outputs": [
        {
          "output_type": "stream",
          "name": "stdout",
          "text": [
            "train_steps: 20000\n"
          ]
        }
      ]
    },
    {
      "cell_type": "code",
      "source": [
        "device = torch.device(\"cuda\" if torch.cuda.is_available() else \"cpu\")  # GPU가 있으면 cuda 사용, 없으면 CPU\n",
        "\n",
        "pre_train_inputs = [torch.tensor(np.array(x)).to(device) for x in pre_train_inputs]\n",
        "pre_train_labels = [torch.tensor(np.array(x)).to(device) for x in pre_train_labels]\n",
        "\n",
        "train_dataset = TensorDataset(pre_train_inputs[0], pre_train_inputs[1], pre_train_labels[0], pre_train_labels[1])\n",
        "train_dataloader = DataLoader(train_dataset, batch_size=batch_size, shuffle=True)\n",
        "\n",
        "pre_train_model.to(device)\n",
        "\n",
        "history = {\n",
        "    'nsp_loss': [],\n",
        "    'mlm_loss': [],\n",
        "    'nsp_acc': [],\n",
        "    'mlm_acc': []\n",
        "}\n",
        "\n",
        "for epoch in range(epochs):\n",
        "    pre_train_model.train()\n",
        "    total_loss = 0\n",
        "    total_nsp_loss = 0\n",
        "    total_mlm_loss = 0\n",
        "    total_nsp_acc = 0\n",
        "    total_mlm_acc = 0\n",
        "\n",
        "    for batch in train_dataloader:\n",
        "        enc_tokens_batch, segments_batch, labels_nsp_batch, labels_mlm_batch = batch\n",
        "        optimizer.zero_grad()\n",
        "\n",
        "        logits_nsp, logits_mlm = pre_train_model(enc_tokens_batch, segments_batch)\n",
        "\n",
        "        labels_nsp_batch = labels_nsp_batch.long()\n",
        "        labels_mlm_batch = labels_mlm_batch.clamp(0, config.n_vocab - 1).long()\n",
        "\n",
        "        loss_nsp = loss_fn_nsp(logits_nsp, labels_nsp_batch)\n",
        "        loss_mlm = loss_fn_mlm(logits_mlm.view(-1, logits_mlm.shape[-1]), labels_mlm_batch.view(-1))\n",
        "\n",
        "        total_loss_batch = loss_nsp + loss_mlm\n",
        "        total_loss += total_loss_batch.item()\n",
        "        total_nsp_loss += loss_nsp.item()\n",
        "        total_mlm_loss += loss_mlm.item()\n",
        "\n",
        "        total_loss_batch.backward()\n",
        "        optimizer.step()\n",
        "\n",
        "        nsp_acc = (logits_nsp.argmax(dim=-1) == labels_nsp_batch).float().mean()\n",
        "        mlm_acc = (logits_mlm.argmax(dim=-1) == labels_mlm_batch).float().mean()\n",
        "\n",
        "        total_nsp_acc += nsp_acc.item()\n",
        "        total_mlm_acc += mlm_acc.item()\n",
        "\n",
        "    # 결과 저장\n",
        "    history['nsp_loss'].append(total_nsp_loss / len(train_dataloader))\n",
        "    history['mlm_loss'].append(total_mlm_loss / len(train_dataloader))\n",
        "    history['nsp_acc'].append(total_nsp_acc / len(train_dataloader))\n",
        "    history['mlm_acc'].append(total_mlm_acc / len(train_dataloader))\n",
        "\n",
        "    print(f\"Epoch {epoch+1}/{epochs} - Loss: {total_loss / len(train_dataloader)}, \"\n",
        "          f\"NSP Loss: {total_nsp_loss / len(train_dataloader)}, MLM Loss: {total_mlm_loss / len(train_dataloader)}, \"\n",
        "          f\"NSP Accuracy: {total_nsp_acc / len(train_dataloader)}, MLM Accuracy: {total_mlm_acc / len(train_dataloader)}\")\n",
        "\n",
        "    # 모델 저장\n",
        "    torch.save(pre_train_model.state_dict(), \"bert_pre_train_epoch_{epoch+1}.pt\")\n"
      ],
      "metadata": {
        "colab": {
          "base_uri": "https://localhost:8080/"
        },
        "id": "NfU6Whmxq0_r",
        "outputId": "50e6032a-4999-42af-bd60-8c02e95587af"
      },
      "execution_count": null,
      "outputs": [
        {
          "output_type": "stream",
          "name": "stdout",
          "text": [
            "Epoch 1/10 - Loss: 8.423747735500335, NSP Loss: 0.6617141673266888, MLM Loss: 7.762033553600311, NSP Accuracy: 0.596578125, MLM Accuracy: 0.8205113525390625\n",
            "Epoch 2/10 - Loss: 8.307451613426208, NSP Loss: 0.6588659928441047, MLM Loss: 7.648585628986359, NSP Accuracy: 0.5979921875, MLM Accuracy: 0.8693157348632813\n",
            "Epoch 3/10 - Loss: 8.3060651345253, NSP Loss: 0.6577029477059841, MLM Loss: 7.648362181425094, NSP Accuracy: 0.597140625, MLM Accuracy: 0.8693157348632813\n",
            "Epoch 4/10 - Loss: 8.305449274063111, NSP Loss: 0.6571677221953869, MLM Loss: 7.64828155708313, NSP Accuracy: 0.597671875, MLM Accuracy: 0.8693157348632813\n",
            "Epoch 5/10 - Loss: 8.305219291687012, NSP Loss: 0.6569679159224033, MLM Loss: 7.648251381397247, NSP Accuracy: 0.5991953125, MLM Accuracy: 0.8693157348632813\n",
            "Epoch 6/10 - Loss: 8.304892809391022, NSP Loss: 0.656656220883131, MLM Loss: 7.648236592292785, NSP Accuracy: 0.6010234375, MLM Accuracy: 0.8693157348632813\n",
            "Epoch 7/10 - Loss: 8.30413059234619, NSP Loss: 0.6559017384052277, MLM Loss: 7.648228842496872, NSP Accuracy: 0.60921875, MLM Accuracy: 0.8693157348632813\n",
            "Epoch 8/10 - Loss: 8.303309534072875, NSP Loss: 0.6550836331248283, MLM Loss: 7.6482259018421175, NSP Accuracy: 0.61375, MLM Accuracy: 0.8693157348632813\n",
            "Epoch 9/10 - Loss: 8.302451156616211, NSP Loss: 0.6542262516915798, MLM Loss: 7.648224914312363, NSP Accuracy: 0.6165078125, MLM Accuracy: 0.8693157348632813\n",
            "Epoch 10/10 - Loss: 8.300972592353821, NSP Loss: 0.652748453617096, MLM Loss: 7.648224132537842, NSP Accuracy: 0.622328125, MLM Accuracy: 0.8693157348632813\n"
          ]
        }
      ]
    },
    {
      "cell_type": "code",
      "source": [
        "import matplotlib.pyplot as plt\n",
        "\n",
        "plt.figure(figsize=(12, 8))\n",
        "\n",
        "# NSP Loss\n",
        "plt.subplot(2, 2, 1)\n",
        "plt.plot(history['nsp_loss'], 'b-', marker='o', label='NSP Loss')\n",
        "plt.xlabel('Epoch')\n",
        "plt.ylabel('Loss')\n",
        "plt.title('NSP Loss')\n",
        "plt.legend()\n",
        "\n",
        "# MLM Loss\n",
        "plt.subplot(2, 2, 2)\n",
        "plt.plot(history['mlm_loss'], 'r-', marker='o', label='MLM Loss')\n",
        "plt.xlabel('Epoch')\n",
        "plt.ylabel('Loss')\n",
        "plt.title('MLM Loss')\n",
        "plt.legend()\n",
        "\n",
        "# NSP Accuracy\n",
        "plt.subplot(2, 2, 3)\n",
        "plt.plot(history['nsp_acc'], 'g-', marker='o', label='NSP Accuracy')\n",
        "plt.xlabel('Epoch')\n",
        "plt.ylabel('Accuracy')\n",
        "plt.title('NSP Accuracy')\n",
        "plt.legend()\n",
        "\n",
        "# MLM Accuracy\n",
        "plt.subplot(2, 2, 4)\n",
        "plt.plot(history['mlm_acc'], 'k-', marker='o', label='MLM Accuracy')\n",
        "plt.xlabel('Epoch')\n",
        "plt.ylabel('Accuracy')\n",
        "plt.title('MLM Accuracy')\n",
        "plt.legend()\n",
        "\n",
        "plt.tight_layout()\n",
        "plt.show()\n"
      ],
      "metadata": {
        "colab": {
          "base_uri": "https://localhost:8080/",
          "height": 807
        },
        "id": "Xt1Q9hvJMVi4",
        "outputId": "7de673ce-fe4e-4754-ed24-2e1d8edd8a10"
      },
      "execution_count": null,
      "outputs": [
        {
          "output_type": "display_data",
          "data": {
            "text/plain": [
              "<Figure size 1200x800 with 4 Axes>"
            ],
            "image/png": "[encoded data removed]"
          },
          "metadata": {}
        }
      ]
    }
  ]
}
