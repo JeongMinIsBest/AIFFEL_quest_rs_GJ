{
  "nbformat": 4,
  "nbformat_minor": 0,
  "metadata": {
    "colab": {
      "provenance": [],
      "collapsed_sections": [
        "umd50szyvAlq",
        "AKFj3XYtrC5D"
      ],
      "gpuType": "T4"
    },
    "kernelspec": {
      "name": "python3",
      "display_name": "Python 3"
    },
    "language_info": {
      "name": "python"
    },
    "accelerator": "GPU"
  },
  "cells": [
    {
      "cell_type": "markdown",
      "source": [
        "# 변경이 필요한 부분"
      ],
      "metadata": {
        "id": "5RIKRsBbARLn"
      }
    },
    {
      "cell_type": "markdown",
      "source": [
        "GPT-1 모델은 기본적으로 트랜스포머 디코더(Transformer Decoder) 구조를 사용합니다. 따라서 전체적인 구조는 실습시 사용했던 트랜스포머 구조와 유사하지만, 몇가지 변경해야할 사항들이 있습니다.\n",
        "\n",
        "먼저 GPT-1은 디코더 블록만 사용하므로, 트랜스포머와 같은 인코더-디코더 어텐션(encoder-decoder attention) 레이어가 없습니다. GPT-1은 오직 이전 토큰에만 의존해 다음 토큰을 생성합니다. 그리고 단일의 연속된 토큰 시퀀스를 입력으로 받습니다  \n",
        "또한 GPT-1은 비지도 언어 모델링이라는 목표를 가지고 있습니다. GPT는 두가지 학습단계 1.unsupervised pre-training ,2.supervised fine-tuning를 통해 최소한의 구조 변화로 Target task에 transfer 합니다."
      ],
      "metadata": {
        "id": "G02XNQGRZrWJ"
      }
    },
    {
      "cell_type": "markdown",
      "source": [
        "# 필요 모듈 임포트"
      ],
      "metadata": {
        "id": "umd50szyvAlq"
      }
    },
    {
      "cell_type": "code",
      "execution_count": 1,
      "metadata": {
        "colab": {
          "base_uri": "https://localhost:8080/"
        },
        "id": "N7YuYlUvQrn5",
        "outputId": "651b899b-ce9f-4ec4-b7ba-34a836e5bf87"
      },
      "outputs": [
        {
          "output_type": "stream",
          "name": "stdout",
          "text": [
            "2.8.0+cu126\n"
          ]
        }
      ],
      "source": [
        "import torch\n",
        "print(torch.__version__)"
      ]
    },
    {
      "cell_type": "code",
      "source": [
        "import torch\n",
        "import torch.nn as nn\n",
        "import torch.nn.functional as F\n",
        "from torch.utils.data import Dataset\n",
        "from torch.utils.data import DataLoader\n",
        "import torch.optim as optim\n",
        "import torch.optim.lr_scheduler as lr_scheduler\n",
        "import sentencepiece as spm\n",
        "\n",
        "import math\n",
        "import os\n",
        "import re\n",
        "import urllib.request\n",
        "import zipfile\n",
        "import numpy as np\n",
        "import matplotlib.pyplot as plt"
      ],
      "metadata": {
        "id": "RGUuI2LBvAFS"
      },
      "execution_count": 2,
      "outputs": []
    },
    {
      "cell_type": "markdown",
      "source": [
        "# 챗봇 데이터 다운로드 및 EDA"
      ],
      "metadata": {
        "id": "AKFj3XYtrC5D"
      }
    },
    {
      "cell_type": "code",
      "source": [
        "!mkdir -p /content/transformer_chatbot/data && cd /content/transformer_chatbot/data && wget 'https://github.com/songys/Chatbot_data/raw/master/ChatbotData.csv'"
      ],
      "metadata": {
        "colab": {
          "base_uri": "https://localhost:8080/"
        },
        "id": "weXV7UpcQx6V",
        "outputId": "ac508553-d58e-4fa9-ef2f-5bf0f75c3ba0"
      },
      "execution_count": 3,
      "outputs": [
        {
          "output_type": "stream",
          "name": "stdout",
          "text": [
            "--2025-08-20 07:13:54--  https://github.com/songys/Chatbot_data/raw/master/ChatbotData.csv\n",
            "Resolving github.com (github.com)... 140.82.114.4\n",
            "Connecting to github.com (github.com)|140.82.114.4|:443... connected.\n",
            "HTTP request sent, awaiting response... 302 Found\n",
            "Location: https://raw.githubusercontent.com/songys/Chatbot_data/master/ChatbotData.csv [following]\n",
            "--2025-08-20 07:13:54--  https://raw.githubusercontent.com/songys/Chatbot_data/master/ChatbotData.csv\n",
            "Resolving raw.githubusercontent.com (raw.githubusercontent.com)... 185.199.111.133, 185.199.108.133, 185.199.109.133, ...\n",
            "Connecting to raw.githubusercontent.com (raw.githubusercontent.com)|185.199.111.133|:443... connected.\n",
            "HTTP request sent, awaiting response... 200 OK\n",
            "Length: 889842 (869K) [text/plain]\n",
            "Saving to: ‘ChatbotData.csv’\n",
            "\n",
            "ChatbotData.csv     100%[===================>] 868.99K  --.-KB/s    in 0.03s   \n",
            "\n",
            "2025-08-20 07:13:54 (28.3 MB/s) - ‘ChatbotData.csv’ saved [889842/889842]\n",
            "\n"
          ]
        }
      ]
    },
    {
      "cell_type": "code",
      "source": [
        "import pandas as pd\n",
        "\n",
        "df = pd.read_csv('/content/transformer_chatbot/data/ChatbotData.csv')"
      ],
      "metadata": {
        "id": "RBt9uPU64IUH"
      },
      "execution_count": 4,
      "outputs": []
    },
    {
      "cell_type": "code",
      "source": [
        "df.info()"
      ],
      "metadata": {
        "colab": {
          "base_uri": "https://localhost:8080/"
        },
        "id": "azNVn8pc4ToE",
        "outputId": "bc55cfb9-5215-4911-fc20-86fceb21bfa4"
      },
      "execution_count": 5,
      "outputs": [
        {
          "output_type": "stream",
          "name": "stdout",
          "text": [
            "<class 'pandas.core.frame.DataFrame'>\n",
            "RangeIndex: 11823 entries, 0 to 11822\n",
            "Data columns (total 3 columns):\n",
            " #   Column  Non-Null Count  Dtype \n",
            "---  ------  --------------  ----- \n",
            " 0   Q       11823 non-null  object\n",
            " 1   A       11823 non-null  object\n",
            " 2   label   11823 non-null  int64 \n",
            "dtypes: int64(1), object(2)\n",
            "memory usage: 277.2+ KB\n"
          ]
        }
      ]
    },
    {
      "cell_type": "code",
      "source": [
        "df.head()"
      ],
      "metadata": {
        "colab": {
          "base_uri": "https://localhost:8080/",
          "height": 0
        },
        "id": "crgPNOIw5yKe",
        "outputId": "be87d078-cc32-41ec-c057-146e1f55ac27"
      },
      "execution_count": 6,
      "outputs": [
        {
          "output_type": "execute_result",
          "data": {
            "text/plain": [
              "                 Q            A  label\n",
              "0           12시 땡!   하루가 또 가네요.      0\n",
              "1      1지망 학교 떨어졌어    위로해 드립니다.      0\n",
              "2     3박4일 놀러가고 싶다  여행은 언제나 좋죠.      0\n",
              "3  3박4일 정도 놀러가고 싶다  여행은 언제나 좋죠.      0\n",
              "4          PPL 심하네   눈살이 찌푸려지죠.      0"
            ],
            "text/html": [
              "\n",
              "  <div id=\"df-cccb76ce-6068-4e77-b1f1-62a429f5b962\" class=\"colab-df-container\">\n",
              "    <div>\n",
              "<style scoped>\n",
              "    .dataframe tbody tr th:only-of-type {\n",
              "        vertical-align: middle;\n",
              "    }\n",
              "\n",
              "    .dataframe tbody tr th {\n",
              "        vertical-align: top;\n",
              "    }\n",
              "\n",
              "    .dataframe thead th {\n",
              "        text-align: right;\n",
              "    }\n",
              "</style>\n",
              "<table border=\"1\" class=\"dataframe\">\n",
              "  <thead>\n",
              "    <tr style=\"text-align: right;\">\n",
              "      <th></th>\n",
              "      <th>Q</th>\n",
              "      <th>A</th>\n",
              "      <th>label</th>\n",
              "    </tr>\n",
              "  </thead>\n",
              "  <tbody>\n",
              "    <tr>\n",
              "      <th>0</th>\n",
              "      <td>12시 땡!</td>\n",
              "      <td>하루가 또 가네요.</td>\n",
              "      <td>0</td>\n",
              "    </tr>\n",
              "    <tr>\n",
              "      <th>1</th>\n",
              "      <td>1지망 학교 떨어졌어</td>\n",
              "      <td>위로해 드립니다.</td>\n",
              "      <td>0</td>\n",
              "    </tr>\n",
              "    <tr>\n",
              "      <th>2</th>\n",
              "      <td>3박4일 놀러가고 싶다</td>\n",
              "      <td>여행은 언제나 좋죠.</td>\n",
              "      <td>0</td>\n",
              "    </tr>\n",
              "    <tr>\n",
              "      <th>3</th>\n",
              "      <td>3박4일 정도 놀러가고 싶다</td>\n",
              "      <td>여행은 언제나 좋죠.</td>\n",
              "      <td>0</td>\n",
              "    </tr>\n",
              "    <tr>\n",
              "      <th>4</th>\n",
              "      <td>PPL 심하네</td>\n",
              "      <td>눈살이 찌푸려지죠.</td>\n",
              "      <td>0</td>\n",
              "    </tr>\n",
              "  </tbody>\n",
              "</table>\n",
              "</div>\n",
              "    <div class=\"colab-df-buttons\">\n",
              "\n",
              "  <div class=\"colab-df-container\">\n",
              "    <button class=\"colab-df-convert\" onclick=\"convertToInteractive('df-cccb76ce-6068-4e77-b1f1-62a429f5b962')\"\n",
              "            title=\"Convert this dataframe to an interactive table.\"\n",
              "            style=\"display:none;\">\n",
              "\n",
              "  <svg xmlns=\"http://www.w3.org/2000/svg\" height=\"24px\" viewBox=\"0 -960 960 960\">\n",
              "    <path d=\"M120-120v-720h720v720H120Zm60-500h600v-160H180v160Zm220 220h160v-160H400v160Zm0 220h160v-160H400v160ZM180-400h160v-160H180v160Zm440 0h160v-160H620v160ZM180-180h160v-160H180v160Zm440 0h160v-160H620v160Z\"/>\n",
              "  </svg>\n",
              "    </button>\n",
              "\n",
              "  <style>\n",
              "    .colab-df-container {\n",
              "      display:flex;\n",
              "      gap: 12px;\n",
              "    }\n",
              "\n",
              "    .colab-df-convert {\n",
              "      background-color: #E8F0FE;\n",
              "      border: none;\n",
              "      border-radius: 50%;\n",
              "      cursor: pointer;\n",
              "      display: none;\n",
              "      fill: #1967D2;\n",
              "      height: 32px;\n",
              "      padding: 0 0 0 0;\n",
              "      width: 32px;\n",
              "    }\n",
              "\n",
              "    .colab-df-convert:hover {\n",
              "      background-color: #E2EBFA;\n",
              "      box-shadow: 0px 1px 2px rgba(60, 64, 67, 0.3), 0px 1px 3px 1px rgba(60, 64, 67, 0.15);\n",
              "      fill: #174EA6;\n",
              "    }\n",
              "\n",
              "    .colab-df-buttons div {\n",
              "      margin-bottom: 4px;\n",
              "    }\n",
              "\n",
              "    [theme=dark] .colab-df-convert {\n",
              "      background-color: #3B4455;\n",
              "      fill: #D2E3FC;\n",
              "    }\n",
              "\n",
              "    [theme=dark] .colab-df-convert:hover {\n",
              "      background-color: #434B5C;\n",
              "      box-shadow: 0px 1px 3px 1px rgba(0, 0, 0, 0.15);\n",
              "      filter: drop-shadow(0px 1px 2px rgba(0, 0, 0, 0.3));\n",
              "      fill: #FFFFFF;\n",
              "    }\n",
              "  </style>\n",
              "\n",
              "    <script>\n",
              "      const buttonEl =\n",
              "        document.querySelector('#df-cccb76ce-6068-4e77-b1f1-62a429f5b962 button.colab-df-convert');\n",
              "      buttonEl.style.display =\n",
              "        google.colab.kernel.accessAllowed ? 'block' : 'none';\n",
              "\n",
              "      async function convertToInteractive(key) {\n",
              "        const element = document.querySelector('#df-cccb76ce-6068-4e77-b1f1-62a429f5b962');\n",
              "        const dataTable =\n",
              "          await google.colab.kernel.invokeFunction('convertToInteractive',\n",
              "                                                    [key], {});\n",
              "        if (!dataTable) return;\n",
              "\n",
              "        const docLinkHtml = 'Like what you see? Visit the ' +\n",
              "          '<a target=\"_blank\" href=https://colab.research.google.com/notebooks/data_table.ipynb>data table notebook</a>'\n",
              "          + ' to learn more about interactive tables.';\n",
              "        element.innerHTML = '';\n",
              "        dataTable['output_type'] = 'display_data';\n",
              "        await google.colab.output.renderOutput(dataTable, element);\n",
              "        const docLink = document.createElement('div');\n",
              "        docLink.innerHTML = docLinkHtml;\n",
              "        element.appendChild(docLink);\n",
              "      }\n",
              "    </script>\n",
              "  </div>\n",
              "\n",
              "\n",
              "    <div id=\"df-6fd0df5d-c114-4594-b407-55910c97f260\">\n",
              "      <button class=\"colab-df-quickchart\" onclick=\"quickchart('df-6fd0df5d-c114-4594-b407-55910c97f260')\"\n",
              "                title=\"Suggest charts\"\n",
              "                style=\"display:none;\">\n",
              "\n",
              "<svg xmlns=\"http://www.w3.org/2000/svg\" height=\"24px\"viewBox=\"0 0 24 24\"\n",
              "     width=\"24px\">\n",
              "    <g>\n",
              "        <path d=\"M19 3H5c-1.1 0-2 .9-2 2v14c0 1.1.9 2 2 2h14c1.1 0 2-.9 2-2V5c0-1.1-.9-2-2-2zM9 17H7v-7h2v7zm4 0h-2V7h2v10zm4 0h-2v-4h2v4z\"/>\n",
              "    </g>\n",
              "</svg>\n",
              "      </button>\n",
              "\n",
              "<style>\n",
              "  .colab-df-quickchart {\n",
              "      --bg-color: #E8F0FE;\n",
              "      --fill-color: #1967D2;\n",
              "      --hover-bg-color: #E2EBFA;\n",
              "      --hover-fill-color: #174EA6;\n",
              "      --disabled-fill-color: #AAA;\n",
              "      --disabled-bg-color: #DDD;\n",
              "  }\n",
              "\n",
              "  [theme=dark] .colab-df-quickchart {\n",
              "      --bg-color: #3B4455;\n",
              "      --fill-color: #D2E3FC;\n",
              "      --hover-bg-color: #434B5C;\n",
              "      --hover-fill-color: #FFFFFF;\n",
              "      --disabled-bg-color: #3B4455;\n",
              "      --disabled-fill-color: #666;\n",
              "  }\n",
              "\n",
              "  .colab-df-quickchart {\n",
              "    background-color: var(--bg-color);\n",
              "    border: none;\n",
              "    border-radius: 50%;\n",
              "    cursor: pointer;\n",
              "    display: none;\n",
              "    fill: var(--fill-color);\n",
              "    height: 32px;\n",
              "    padding: 0;\n",
              "    width: 32px;\n",
              "  }\n",
              "\n",
              "  .colab-df-quickchart:hover {\n",
              "    background-color: var(--hover-bg-color);\n",
              "    box-shadow: 0 1px 2px rgba(60, 64, 67, 0.3), 0 1px 3px 1px rgba(60, 64, 67, 0.15);\n",
              "    fill: var(--button-hover-fill-color);\n",
              "  }\n",
              "\n",
              "  .colab-df-quickchart-complete:disabled,\n",
              "  .colab-df-quickchart-complete:disabled:hover {\n",
              "    background-color: var(--disabled-bg-color);\n",
              "    fill: var(--disabled-fill-color);\n",
              "    box-shadow: none;\n",
              "  }\n",
              "\n",
              "  .colab-df-spinner {\n",
              "    border: 2px solid var(--fill-color);\n",
              "    border-color: transparent;\n",
              "    border-bottom-color: var(--fill-color);\n",
              "    animation:\n",
              "      spin 1s steps(1) infinite;\n",
              "  }\n",
              "\n",
              "  @keyframes spin {\n",
              "    0% {\n",
              "      border-color: transparent;\n",
              "      border-bottom-color: var(--fill-color);\n",
              "      border-left-color: var(--fill-color);\n",
              "    }\n",
              "    20% {\n",
              "      border-color: transparent;\n",
              "      border-left-color: var(--fill-color);\n",
              "      border-top-color: var(--fill-color);\n",
              "    }\n",
              "    30% {\n",
              "      border-color: transparent;\n",
              "      border-left-color: var(--fill-color);\n",
              "      border-top-color: var(--fill-color);\n",
              "      border-right-color: var(--fill-color);\n",
              "    }\n",
              "    40% {\n",
              "      border-color: transparent;\n",
              "      border-right-color: var(--fill-color);\n",
              "      border-top-color: var(--fill-color);\n",
              "    }\n",
              "    60% {\n",
              "      border-color: transparent;\n",
              "      border-right-color: var(--fill-color);\n",
              "    }\n",
              "    80% {\n",
              "      border-color: transparent;\n",
              "      border-right-color: var(--fill-color);\n",
              "      border-bottom-color: var(--fill-color);\n",
              "    }\n",
              "    90% {\n",
              "      border-color: transparent;\n",
              "      border-bottom-color: var(--fill-color);\n",
              "    }\n",
              "  }\n",
              "</style>\n",
              "\n",
              "      <script>\n",
              "        async function quickchart(key) {\n",
              "          const quickchartButtonEl =\n",
              "            document.querySelector('#' + key + ' button');\n",
              "          quickchartButtonEl.disabled = true;  // To prevent multiple clicks.\n",
              "          quickchartButtonEl.classList.add('colab-df-spinner');\n",
              "          try {\n",
              "            const charts = await google.colab.kernel.invokeFunction(\n",
              "                'suggestCharts', [key], {});\n",
              "          } catch (error) {\n",
              "            console.error('Error during call to suggestCharts:', error);\n",
              "          }\n",
              "          quickchartButtonEl.classList.remove('colab-df-spinner');\n",
              "          quickchartButtonEl.classList.add('colab-df-quickchart-complete');\n",
              "        }\n",
              "        (() => {\n",
              "          let quickchartButtonEl =\n",
              "            document.querySelector('#df-6fd0df5d-c114-4594-b407-55910c97f260 button');\n",
              "          quickchartButtonEl.style.display =\n",
              "            google.colab.kernel.accessAllowed ? 'block' : 'none';\n",
              "        })();\n",
              "      </script>\n",
              "    </div>\n",
              "\n",
              "    </div>\n",
              "  </div>\n"
            ],
            "application/vnd.google.colaboratory.intrinsic+json": {
              "type": "dataframe",
              "variable_name": "df",
              "summary": "{\n  \"name\": \"df\",\n  \"rows\": 11823,\n  \"fields\": [\n    {\n      \"column\": \"Q\",\n      \"properties\": {\n        \"dtype\": \"string\",\n        \"num_unique_values\": 11662,\n        \"samples\": [\n          \"\\uc0ac\\ub791\\ud558\\ub294 \\uc0ac\\ub78c \\uc78a\\ub294 \\ubc95\",\n          \"\\uc220 \\uc548 \\uba39\\uc73c\\uba74 \\uce5c\\uad6c\\ub791 \\ubb50\\ud558\\uc9c0\",\n          \"\\uc9dd\\ub0a8\\uc774 \\uace0\\uc2dc\\uc0dd\\uc774\\uba74 \\uae30\\ub2e4\\ub824\\uc57c \\ud558\\ub098\\uc694?\"\n        ],\n        \"semantic_type\": \"\",\n        \"description\": \"\"\n      }\n    },\n    {\n      \"column\": \"A\",\n      \"properties\": {\n        \"dtype\": \"string\",\n        \"num_unique_values\": 7779,\n        \"samples\": [\n          \"\\uc720\\uba38\\ucf54\\ub4dc\\uac00 \\ub9de\\ub294 \\uc0ac\\ub78c\\uc744 \\ucc3e\\uc544\\ubcf4\\uc138\\uc694.\",\n          \"\\uc5ec\\ud589\\uc744 \\ub5a0\\ub098 \\ubcf4\\uc138\\uc694.\",\n          \"\\ud589\\ubcf5\\ud560 \\uac70\\ub77c \\uc0dd\\uac01\\ud574\\uc694.\"\n        ],\n        \"semantic_type\": \"\",\n        \"description\": \"\"\n      }\n    },\n    {\n      \"column\": \"label\",\n      \"properties\": {\n        \"dtype\": \"number\",\n        \"std\": 0,\n        \"min\": 0,\n        \"max\": 2,\n        \"num_unique_values\": 3,\n        \"samples\": [\n          0,\n          1,\n          2\n        ],\n        \"semantic_type\": \"\",\n        \"description\": \"\"\n      }\n    }\n  ]\n}"
            }
          },
          "metadata": {},
          "execution_count": 6
        }
      ]
    },
    {
      "cell_type": "code",
      "source": [
        "df['label'].value_counts()"
      ],
      "metadata": {
        "colab": {
          "base_uri": "https://localhost:8080/",
          "height": 0
        },
        "id": "yOUvtAwc4TgW",
        "outputId": "ae81a5c1-5a5a-47b5-cdcc-5a1041eef0a4"
      },
      "execution_count": 7,
      "outputs": [
        {
          "output_type": "execute_result",
          "data": {
            "text/plain": [
              "label\n",
              "0    5290\n",
              "1    3570\n",
              "2    2963\n",
              "Name: count, dtype: int64"
            ],
            "text/html": [
              "<div>\n",
              "<style scoped>\n",
              "    .dataframe tbody tr th:only-of-type {\n",
              "        vertical-align: middle;\n",
              "    }\n",
              "\n",
              "    .dataframe tbody tr th {\n",
              "        vertical-align: top;\n",
              "    }\n",
              "\n",
              "    .dataframe thead th {\n",
              "        text-align: right;\n",
              "    }\n",
              "</style>\n",
              "<table border=\"1\" class=\"dataframe\">\n",
              "  <thead>\n",
              "    <tr style=\"text-align: right;\">\n",
              "      <th></th>\n",
              "      <th>count</th>\n",
              "    </tr>\n",
              "    <tr>\n",
              "      <th>label</th>\n",
              "      <th></th>\n",
              "    </tr>\n",
              "  </thead>\n",
              "  <tbody>\n",
              "    <tr>\n",
              "      <th>0</th>\n",
              "      <td>5290</td>\n",
              "    </tr>\n",
              "    <tr>\n",
              "      <th>1</th>\n",
              "      <td>3570</td>\n",
              "    </tr>\n",
              "    <tr>\n",
              "      <th>2</th>\n",
              "      <td>2963</td>\n",
              "    </tr>\n",
              "  </tbody>\n",
              "</table>\n",
              "</div><br><label><b>dtype:</b> int64</label>"
            ]
          },
          "metadata": {},
          "execution_count": 7
        }
      ]
    },
    {
      "cell_type": "code",
      "source": [
        "df['Q'].str.len()"
      ],
      "metadata": {
        "colab": {
          "base_uri": "https://localhost:8080/",
          "height": 0
        },
        "collapsed": true,
        "id": "1CU6Yl2X4TLf",
        "outputId": "b3382f3b-641e-425a-e6f0-febbfdc54587"
      },
      "execution_count": 8,
      "outputs": [
        {
          "output_type": "execute_result",
          "data": {
            "text/plain": [
              "0         6\n",
              "1        11\n",
              "2        12\n",
              "3        15\n",
              "4         7\n",
              "         ..\n",
              "11818    14\n",
              "11819    14\n",
              "11820    11\n",
              "11821    23\n",
              "11822    10\n",
              "Name: Q, Length: 11823, dtype: int64"
            ],
            "text/html": [
              "<div>\n",
              "<style scoped>\n",
              "    .dataframe tbody tr th:only-of-type {\n",
              "        vertical-align: middle;\n",
              "    }\n",
              "\n",
              "    .dataframe tbody tr th {\n",
              "        vertical-align: top;\n",
              "    }\n",
              "\n",
              "    .dataframe thead th {\n",
              "        text-align: right;\n",
              "    }\n",
              "</style>\n",
              "<table border=\"1\" class=\"dataframe\">\n",
              "  <thead>\n",
              "    <tr style=\"text-align: right;\">\n",
              "      <th></th>\n",
              "      <th>Q</th>\n",
              "    </tr>\n",
              "  </thead>\n",
              "  <tbody>\n",
              "    <tr>\n",
              "      <th>0</th>\n",
              "      <td>6</td>\n",
              "    </tr>\n",
              "    <tr>\n",
              "      <th>1</th>\n",
              "      <td>11</td>\n",
              "    </tr>\n",
              "    <tr>\n",
              "      <th>2</th>\n",
              "      <td>12</td>\n",
              "    </tr>\n",
              "    <tr>\n",
              "      <th>3</th>\n",
              "      <td>15</td>\n",
              "    </tr>\n",
              "    <tr>\n",
              "      <th>4</th>\n",
              "      <td>7</td>\n",
              "    </tr>\n",
              "    <tr>\n",
              "      <th>...</th>\n",
              "      <td>...</td>\n",
              "    </tr>\n",
              "    <tr>\n",
              "      <th>11818</th>\n",
              "      <td>14</td>\n",
              "    </tr>\n",
              "    <tr>\n",
              "      <th>11819</th>\n",
              "      <td>14</td>\n",
              "    </tr>\n",
              "    <tr>\n",
              "      <th>11820</th>\n",
              "      <td>11</td>\n",
              "    </tr>\n",
              "    <tr>\n",
              "      <th>11821</th>\n",
              "      <td>23</td>\n",
              "    </tr>\n",
              "    <tr>\n",
              "      <th>11822</th>\n",
              "      <td>10</td>\n",
              "    </tr>\n",
              "  </tbody>\n",
              "</table>\n",
              "<p>11823 rows × 1 columns</p>\n",
              "</div><br><label><b>dtype:</b> int64</label>"
            ]
          },
          "metadata": {},
          "execution_count": 8
        }
      ]
    },
    {
      "cell_type": "code",
      "source": [
        "df['A'].str.len()"
      ],
      "metadata": {
        "colab": {
          "base_uri": "https://localhost:8080/",
          "height": 0
        },
        "collapsed": true,
        "id": "kYGZro2S5CNd",
        "outputId": "aab16b49-ae44-4dac-a6ad-722a709adfb5"
      },
      "execution_count": 9,
      "outputs": [
        {
          "output_type": "execute_result",
          "data": {
            "text/plain": [
              "0        10\n",
              "1         9\n",
              "2        11\n",
              "3        11\n",
              "4        10\n",
              "         ..\n",
              "11818    18\n",
              "11819    13\n",
              "11820     6\n",
              "11821    24\n",
              "11822    18\n",
              "Name: A, Length: 11823, dtype: int64"
            ],
            "text/html": [
              "<div>\n",
              "<style scoped>\n",
              "    .dataframe tbody tr th:only-of-type {\n",
              "        vertical-align: middle;\n",
              "    }\n",
              "\n",
              "    .dataframe tbody tr th {\n",
              "        vertical-align: top;\n",
              "    }\n",
              "\n",
              "    .dataframe thead th {\n",
              "        text-align: right;\n",
              "    }\n",
              "</style>\n",
              "<table border=\"1\" class=\"dataframe\">\n",
              "  <thead>\n",
              "    <tr style=\"text-align: right;\">\n",
              "      <th></th>\n",
              "      <th>A</th>\n",
              "    </tr>\n",
              "  </thead>\n",
              "  <tbody>\n",
              "    <tr>\n",
              "      <th>0</th>\n",
              "      <td>10</td>\n",
              "    </tr>\n",
              "    <tr>\n",
              "      <th>1</th>\n",
              "      <td>9</td>\n",
              "    </tr>\n",
              "    <tr>\n",
              "      <th>2</th>\n",
              "      <td>11</td>\n",
              "    </tr>\n",
              "    <tr>\n",
              "      <th>3</th>\n",
              "      <td>11</td>\n",
              "    </tr>\n",
              "    <tr>\n",
              "      <th>4</th>\n",
              "      <td>10</td>\n",
              "    </tr>\n",
              "    <tr>\n",
              "      <th>...</th>\n",
              "      <td>...</td>\n",
              "    </tr>\n",
              "    <tr>\n",
              "      <th>11818</th>\n",
              "      <td>18</td>\n",
              "    </tr>\n",
              "    <tr>\n",
              "      <th>11819</th>\n",
              "      <td>13</td>\n",
              "    </tr>\n",
              "    <tr>\n",
              "      <th>11820</th>\n",
              "      <td>6</td>\n",
              "    </tr>\n",
              "    <tr>\n",
              "      <th>11821</th>\n",
              "      <td>24</td>\n",
              "    </tr>\n",
              "    <tr>\n",
              "      <th>11822</th>\n",
              "      <td>18</td>\n",
              "    </tr>\n",
              "  </tbody>\n",
              "</table>\n",
              "<p>11823 rows × 1 columns</p>\n",
              "</div><br><label><b>dtype:</b> int64</label>"
            ]
          },
          "metadata": {},
          "execution_count": 9
        }
      ]
    },
    {
      "cell_type": "code",
      "source": [
        "df['q_len'] = df['Q'].str.len()\n",
        "df['a_len'] = df['A'].str.len()"
      ],
      "metadata": {
        "id": "g3v7Uumy5DgL"
      },
      "execution_count": 10,
      "outputs": []
    },
    {
      "cell_type": "code",
      "source": [
        "# 질문 길이 분포 히스토그램\n",
        "plt.figure(figsize=(10, 6))\n",
        "plt.hist(df['q_len'], bins=50, edgecolor='k', alpha=0.7)\n",
        "plt.title('Distribution of Question Lengths', fontsize=15)\n",
        "plt.xlabel('Length of Question (Characters)', fontsize=12)\n",
        "plt.ylabel('Frequency', fontsize=12)\n",
        "plt.grid(axis='y', alpha=0.75)\n",
        "plt.tight_layout()\n",
        "plt.show()\n"
      ],
      "metadata": {
        "colab": {
          "base_uri": "https://localhost:8080/",
          "height": 0
        },
        "id": "joPaqdbc5VNm",
        "outputId": "19ece554-8014-4006-f590-a8af0809e6a8"
      },
      "execution_count": 11,
      "outputs": [
        {
          "output_type": "display_data",
          "data": {
            "text/plain": [
              "<Figure size 1000x600 with 1 Axes>"
            ],
            "image/png": "[encoded data removed]"
          },
          "metadata": {}
        }
      ]
    },
    {
      "cell_type": "code",
      "source": [
        "# 답변 길이 분포 히스토그램\n",
        "plt.figure(figsize=(10, 6))\n",
        "plt.hist(df['a_len'], bins=50, edgecolor='k', alpha=0.7, color='orange')\n",
        "plt.title('Distribution of Answer Lengths', fontsize=15)\n",
        "plt.xlabel('Length of Answer (Characters)', fontsize=12)\n",
        "plt.ylabel('Frequency', fontsize=12)\n",
        "plt.grid(axis='y', alpha=0.75)\n",
        "plt.tight_layout()\n",
        "plt.show()"
      ],
      "metadata": {
        "colab": {
          "base_uri": "https://localhost:8080/",
          "height": 0
        },
        "id": "TE5gaSEd5VLS",
        "outputId": "5aa64eaa-6052-48f7-d6f5-7f5ad82ef64e"
      },
      "execution_count": 12,
      "outputs": [
        {
          "output_type": "display_data",
          "data": {
            "text/plain": [
              "<Figure size 1000x600 with 1 Axes>"
            ],
            "image/png": "[encoded data removed]"
          },
          "metadata": {}
        }
      ]
    },
    {
      "cell_type": "markdown",
      "source": [
        "라벨값 분포와 Q,A 길이를 확인했다. 각 50자,30자 내에서 질답이 형성되어있다."
      ],
      "metadata": {
        "id": "RpL_5C_s5heh"
      }
    },
    {
      "cell_type": "markdown",
      "metadata": {
        "id": "38578673"
      },
      "source": [
        "# 데이터 로드 및 전처리"
      ]
    },
    {
      "cell_type": "markdown",
      "source": [
        " GPT-1 논문에 따르면, 모델의 입력은 단일의 연속된 토큰 시퀀스여야 합니다. 이 프로젝트를 위한 전처리 과정은 다음과 같이 진행되어야 합니다.\n"
      ],
      "metadata": {
        "id": "GZ3wZ6xFPGny"
      }
    },
    {
      "cell_type": "code",
      "metadata": {
        "colab": {
          "base_uri": "https://localhost:8080/"
        },
        "id": "59bcfeda",
        "outputId": "8a441367-ed7f-463f-af21-9c85a6d34100"
      },
      "source": [
        "# 질문(Q)과 답변(A) 데이터를 결합하여 단일 시퀀스로 만듭니다.\n",
        "# GPT-1은 단일의 연속된 토큰 시퀀스를 입력으로 받기 때문입니다.\n",
        "combined_text = pd.concat([df['Q'], df['A']])\n",
        "\n",
        "# 결합된 데이터의 일부를 확인\n",
        "print(\"결합된 데이터의 상위 5개 항목:\")\n",
        "print(combined_text.head())\n",
        "\n",
        "print(\"\\n결합된 데이터의 하위 5개 항목:\")\n",
        "print(combined_text.tail())"
      ],
      "execution_count": 13,
      "outputs": [
        {
          "output_type": "stream",
          "name": "stdout",
          "text": [
            "결합된 데이터의 상위 5개 항목:\n",
            "0             12시 땡!\n",
            "1        1지망 학교 떨어졌어\n",
            "2       3박4일 놀러가고 싶다\n",
            "3    3박4일 정도 놀러가고 싶다\n",
            "4            PPL 심하네\n",
            "dtype: object\n",
            "\n",
            "결합된 데이터의 하위 5개 항목:\n",
            "11818          티가 나니까 눈치가 보이는 거죠!\n",
            "11819               훔쳐보는 거 티나나봐요.\n",
            "11820                      설렜겠어요.\n",
            "11821    잘 헤어질 수 있는 사이 여부인 거 같아요.\n",
            "11822          도피성 결혼은 하지 않길 바라요.\n",
            "dtype: object\n"
          ]
        }
      ]
    },
    {
      "cell_type": "markdown",
      "metadata": {
        "id": "5ec853d6"
      },
      "source": [
        "### SentencePiece를 이용한 토큰화"
      ]
    },
    {
      "cell_type": "code",
      "metadata": {
        "colab": {
          "base_uri": "https://localhost:8080/"
        },
        "id": "8c629b70",
        "outputId": "de362cf9-b68e-475b-f2ed-1b92df7c30fe"
      },
      "source": [
        "# SentencePiece 모델 학습을 위한 파일로 저장\n",
        "with open(\"chatbot_text.txt\", \"w\", encoding=\"utf-8\") as f:\n",
        "    for text in combined_text:\n",
        "        f.write(str(text) + \"\\n\")\n",
        "\n",
        "# SentencePiece 모델 학습\n",
        "# vocab_size는 필요에 따라 조정 가능합니다.\n",
        "# special_tokens 매개변수를 사용하여 학습 시 특수 토큰을 포함시킵니다.\n",
        "special_tokens = ['<|startoftext|>', '<|endoftext|>', '<|pad|>']\n",
        "spm.SentencePieceTrainer.train(\n",
        "    '--input=chatbot_text.txt --model_prefix=chatbot_spm --vocab_size=8000 --character_coverage=1.0 --user_defined_symbols=' + ','.join(special_tokens))\n",
        "\n",
        "\n",
        "# 학습된 SentencePiece 모델 로드\n",
        "sp = spm.SentencePieceProcessor()\n",
        "sp.load('chatbot_spm.model')\n",
        "\n",
        "print(\"\\nSentencePiece 모델 학습 및 로드 완료.\")"
      ],
      "execution_count": 14,
      "outputs": [
        {
          "output_type": "stream",
          "name": "stdout",
          "text": [
            "\n",
            "SentencePiece 모델 학습 및 로드 완료.\n"
          ]
        }
      ]
    },
    {
      "cell_type": "markdown",
      "metadata": {
        "id": "43f4e176"
      },
      "source": [
        "### 특수 토큰 추가 및 토큰화 적용"
      ]
    },
    {
      "cell_type": "code",
      "metadata": {
        "colab": {
          "base_uri": "https://localhost:8080/"
        },
        "id": "3b2f1d5d",
        "outputId": "adff4f40-a363-4da1-9609-2b61cad8e9f1"
      },
      "source": [
        "# 특수 토큰 정의\n",
        "START_TOKEN = '<|startoftext|>'\n",
        "END_TOKEN = '<|endoftext|>'\n",
        "PAD_TOKEN = '<|pad|>'\n",
        "\n",
        "# 특수 토큰 ID 확인\n",
        "# user_defined_symbols로 추가했으므로 piece_to_id로 ID를 가져옵니다.\n",
        "START_TOKEN_ID = sp.piece_to_id(START_TOKEN)\n",
        "END_TOKEN_ID = sp.piece_to_id(END_TOKEN)\n",
        "PAD_TOKEN_ID = sp.piece_to_id(PAD_TOKEN)\n",
        "\n",
        "print(f\"'{START_TOKEN}' ID: {START_TOKEN_ID}\")\n",
        "print(f\"'{END_TOKEN}' ID: {END_TOKEN_ID}\")\n",
        "print(f\"'{PAD_TOKEN}' ID: {PAD_TOKEN_ID}\")\n",
        "\n",
        "\n",
        "# 데이터를 토큰 ID 시퀀스로 변환하고 특수 토큰 추가\n",
        "tokenized_data = []\n",
        "for text in combined_text:\n",
        "    # 각 시퀀스의 시작과 끝에 특수 토큰 추가\n",
        "    token_ids = [START_TOKEN_ID] + sp.encode_as_ids(str(text)) + [END_TOKEN_ID]\n",
        "    tokenized_data.append(token_ids)\n",
        "\n",
        "print(\"\\n데이터 토큰화 및 특수 토큰 추가 완료.\")\n",
        "print(\"첫 번째 토큰화된 시퀀스:\", tokenized_data[0])\n",
        "print(\"첫 번째 시퀀스 디코딩:\", sp.decode_ids(tokenized_data[0]))"
      ],
      "execution_count": 15,
      "outputs": [
        {
          "output_type": "stream",
          "name": "stdout",
          "text": [
            "'<|startoftext|>' ID: 3\n",
            "'<|endoftext|>' ID: 4\n",
            "'<|pad|>' ID: 5\n",
            "\n",
            "데이터 토큰화 및 특수 토큰 추가 완료.\n",
            "첫 번째 토큰화된 시퀀스: [3, 4297, 551, 7, 7826, 66, 4]\n",
            "첫 번째 시퀀스 디코딩: <|startoftext|> 12시 땡!<|endoftext|>\n"
          ]
        }
      ]
    },
    {
      "cell_type": "markdown",
      "metadata": {
        "id": "31e8fad4"
      },
      "source": [
        "### 패딩 적용 및 데이터셋 준비"
      ]
    },
    {
      "cell_type": "code",
      "metadata": {
        "colab": {
          "base_uri": "https://localhost:8080/"
        },
        "id": "63a9dfa2",
        "outputId": "a9b945dc-013b-45d9-bab8-d968706283c6"
      },
      "source": [
        "# 필요한 라이브러리 임포트 (혹시 모를 세션 끊김에 대비)\n",
        "import torch\n",
        "from torch.utils.data import Dataset, DataLoader\n",
        "\n",
        "# PAD_TOKEN_ID 변수가 정의되어 있는지 확인\n",
        "if 'PAD_TOKEN_ID' not in locals() and 'PAD_TOKEN_ID' not in globals():\n",
        "    print(\"PAD_TOKEN_ID가 정의되지 않았습니다. 이전 셀에서 특수 토큰 ID를 먼저 확인해주세요.\")\n",
        "    # 기본값 또는 오류 처리를 수행할 수 있습니다.\n",
        "    # 여기서는 실행을 중단하고 사용자에게 알립니다.\n",
        "    raise NameError(\"PAD_TOKEN_ID is not defined.\")\n",
        "\n",
        "\n",
        "# 시퀀스 길이를 통일하기 위한 패딩\n",
        "# EDA 과정에서 50자 내외인걸 알고 ㅁmax는 64로 뒀다\n",
        "MAX_SEQUENCE_LENGTH = 64\n",
        "\n",
        "padded_data = []\n",
        "# tokenized_data 변수가 정의되어 있는지 확인\n",
        "if 'tokenized_data' in locals() or 'tokenized_data' in globals():\n",
        "    for token_ids in tokenized_data:\n",
        "        if len(token_ids) > MAX_SEQUENCE_LENGTH:\n",
        "            padded_seq = token_ids[:MAX_SEQUENCE_LENGTH]\n",
        "        else:\n",
        "            padding_length = MAX_SEQUENCE_LENGTH - len(token_ids)\n",
        "            padded_seq = token_ids + [PAD_TOKEN_ID] * padding_length\n",
        "        padded_data.append(padded_seq)\n",
        "\n",
        "    padded_data = torch.tensor(padded_data, dtype=torch.long)\n",
        "\n",
        "    print(\"\\n데이터 패딩 완료.\")\n",
        "    print(\"패딩된 데이터 형태:\", padded_data.shape)\n",
        "    print(\"첫 번째 패딩된 시퀀스:\", padded_data[0])\n",
        "\n",
        "    # 데이터셋 클래스 정의\n",
        "    class ChatbotDataset(Dataset):\n",
        "        def __init__(self, data):\n",
        "            self.data = data\n",
        "\n",
        "        def __len__(self):\n",
        "            return len(self.data)\n",
        "\n",
        "        def __getitem__(self, idx):\n",
        "            return self.data[idx]\n",
        "\n",
        "    # 데이터셋 및 데이터 로더 생성\n",
        "    dataset = ChatbotDataset(padded_data)\n",
        "    BATCH_SIZE = 32\n",
        "    dataloader = DataLoader(dataset, batch_size=BATCH_SIZE, shuffle=True)\n",
        "\n",
        "    print(\"데이터셋 및 데이터 로더 준비 완료.\")\n",
        "    print(\"데이터 로더의 첫 번째 배치 형태:\", next(iter(dataloader)).shape)\n",
        "else:\n",
        "     print(\"\\n'tokenized_data' 변수가 정의되지 않았습니다. 이전 셀에서 토큰화 및 특수 토큰 추가를 먼저 실행해주세요.\")"
      ],
      "execution_count": 16,
      "outputs": [
        {
          "output_type": "stream",
          "name": "stdout",
          "text": [
            "\n",
            "데이터 패딩 완료.\n",
            "패딩된 데이터 형태: torch.Size([23646, 64])\n",
            "첫 번째 패딩된 시퀀스: tensor([   3, 4297,  551,    7, 7826,   66,    4,    5,    5,    5,    5,    5,\n",
            "           5,    5,    5,    5,    5,    5,    5,    5,    5,    5,    5,    5,\n",
            "           5,    5,    5,    5,    5,    5,    5,    5,    5,    5,    5,    5,\n",
            "           5,    5,    5,    5,    5,    5,    5,    5,    5,    5,    5,    5,\n",
            "           5,    5,    5,    5,    5,    5,    5,    5,    5,    5,    5,    5,\n",
            "           5,    5,    5,    5])\n",
            "데이터셋 및 데이터 로더 준비 완료.\n",
            "데이터 로더의 첫 번째 배치 형태: torch.Size([32, 64])\n"
          ]
        }
      ]
    },
    {
      "cell_type": "markdown",
      "metadata": {
        "id": "7b7c06a2"
      },
      "source": [
        "# GPT-1 모델 정의"
      ]
    },
    {
      "cell_type": "code",
      "metadata": {
        "colab": {
          "base_uri": "https://localhost:8080/"
        },
        "id": "ca33cae7",
        "outputId": "e9f89230-0aa8-4489-abbb-cc0e3b41db80"
      },
      "source": [
        "# 필요한 라이브러리 임포트 (혹시 모를 세션 끊김에 대비)\n",
        "import torch\n",
        "import torch.nn as nn\n",
        "import torch.nn.functional as F\n",
        "import sentencepiece as spm # SentencePieceProcessor 객체 사용을 위해 임포트\n",
        "\n",
        "# sp 객체가 정의되어 있는지 확인\n",
        "if 'sp' not in locals() and 'sp' not in globals():\n",
        "     print(\"sp가 정의되지 않았습니다. 이전 셀에서 SentencePiece 모델 로드를 먼저 실행해주세요.\")\n",
        "     # 기본값 또는 오류 처리를 수행할 수 있습니다.\n",
        "     raise NameError(\"sp is not defined.\")\n",
        "\n",
        "\n",
        "class TransformerDecoderBlock(nn.Module):\n",
        "    def __init__(self, d_model, num_heads, d_ff, dropout):\n",
        "        super().__init__()\n",
        "        self.self_attn = nn.MultiheadAttention(d_model, num_heads, dropout=dropout, batch_first=True)\n",
        "        self.linear1 = nn.Linear(d_model, d_ff)\n",
        "        self.dropout = nn.Dropout(dropout)\n",
        "        self.linear2 = nn.Linear(d_ff, d_model)\n",
        "        self.norm1 = nn.LayerNorm(d_model)\n",
        "        self.norm2 = nn.LayerNorm(d_model)\n",
        "        self.dropout1 = nn.Dropout(dropout)\n",
        "        self.dropout2 = nn.Dropout(dropout)\n",
        "\n",
        "    def forward(self, x, look_ahead_mask):\n",
        "        # 마스킹된 셀프 어텐션\n",
        "        attn_output, _ = self.self_attn(x, x, x, attn_mask=look_ahead_mask)\n",
        "        attn_output = self.dropout1(attn_output)\n",
        "        out1 = self.norm1(x + attn_output) # Add and Norm\n",
        "\n",
        "        # 피드포워드 네트워크\n",
        "        ff_output = self.linear2(self.dropout(F.relu(self.linear1(out1))))\n",
        "        ff_output = self.dropout2(ff_output)\n",
        "        out2 = self.norm2(out1 + ff_output) # Add and Norm\n",
        "        return out2\n",
        "\n",
        "class GPT1(nn.Module):\n",
        "    def __init__(self, vocab_size, d_model, num_layers, num_heads, d_ff, max_seq_length, dropout):\n",
        "        super().__init__()\n",
        "        self.token_embedding = nn.Embedding(vocab_size, d_model)\n",
        "        self.positional_embedding = nn.Embedding(max_seq_length, d_model)\n",
        "        self.layers = nn.ModuleList([\n",
        "            TransformerDecoderBlock(d_model, num_heads, d_ff, dropout) for _ in range(num_layers)\n",
        "        ])\n",
        "        self.linear = nn.Linear(d_model, vocab_size)\n",
        "        self.dropout = nn.Dropout(dropout)\n",
        "        self.max_seq_length = max_seq_length\n",
        "        self.d_model = d_model\n",
        "\n",
        "    def forward(self, x):\n",
        "        seq_len = x.size(1)\n",
        "        # 토큰 및 위치 임베딩\n",
        "        token_embed = self.token_embedding(x)\n",
        "        # position_ids를 x.device가 아닌 model의 device로 명시적으로 설정\n",
        "        position_ids = torch.arange(0, seq_len, dtype=torch.long, device=self.token_embedding.weight.device)\n",
        "        position_embed = self.positional_embedding(position_ids).unsqueeze(0)\n",
        "        x = self.dropout(token_embed + position_embed)\n",
        "\n",
        "        # 마스킹된 셀프 어텐션을 위한 look ahead mask 생성\n",
        "        # 현재 토큰 이후의 토큰을 보지 못하도록 가리는 마스크\n",
        "        look_ahead_mask = torch.triu(torch.ones(seq_len, seq_len, device=x.device), diagonal=1).bool()\n",
        "\n",
        "        # 디코더 블록 통과\n",
        "        for layer in self.layers:\n",
        "            x = layer(x, look_ahead_mask)\n",
        "\n",
        "        # 최종 선형 레이어\n",
        "        output = self.linear(x)\n",
        "        return output\n",
        "\n",
        "# 모델 파라미터 설정 (GPT-1 논문의 base model 파라미터 참고)\n",
        "# 논문에서는 N=12, H=12, d_model=768, d_ff=3072 를 사용했지만,\n",
        "# 논문에서 명시한 데이터셋의 크기를 고려했을때, 코랩의 무료 gpu 성능을 고려하여 조정함\n",
        "VOCAB_SIZE = sp.get_piece_size() # SentencePiece 어휘집 크기\n",
        "D_MODEL = 256 # 임베딩 차원\n",
        "NUM_LAYERS = 4 # 디코더 레이어 수\n",
        "NUM_HEADS = 8 # 어텐션 헤드 수\n",
        "D_FF = 1024 # 피드포워드 네트워크의 은닉층 차원\n",
        "MAX_SEQUENCE_LENGTH = MAX_SEQUENCE_LENGTH # 이전에 정의한 최대 시퀀스 길이\n",
        "DROPOUT_RATE = 0.1 # 드롭아웃 비율\n",
        "\n",
        "# GPT-1 모델 인스턴스 생성\n",
        "model = GPT1(VOCAB_SIZE, D_MODEL, NUM_LAYERS, NUM_HEADS, D_FF, MAX_SEQUENCE_LENGTH, DROPOUT_RATE)\n",
        "\n",
        "print(\"GPT-1 모델 정의 완료.\")\n",
        "print(model)"
      ],
      "execution_count": 17,
      "outputs": [
        {
          "output_type": "stream",
          "name": "stdout",
          "text": [
            "GPT-1 모델 정의 완료.\n",
            "GPT1(\n",
            "  (token_embedding): Embedding(8000, 256)\n",
            "  (positional_embedding): Embedding(64, 256)\n",
            "  (layers): ModuleList(\n",
            "    (0-3): 4 x TransformerDecoderBlock(\n",
            "      (self_attn): MultiheadAttention(\n",
            "        (out_proj): NonDynamicallyQuantizableLinear(in_features=256, out_features=256, bias=True)\n",
            "      )\n",
            "      (linear1): Linear(in_features=256, out_features=1024, bias=True)\n",
            "      (dropout): Dropout(p=0.1, inplace=False)\n",
            "      (linear2): Linear(in_features=1024, out_features=256, bias=True)\n",
            "      (norm1): LayerNorm((256,), eps=1e-05, elementwise_affine=True)\n",
            "      (norm2): LayerNorm((256,), eps=1e-05, elementwise_affine=True)\n",
            "      (dropout1): Dropout(p=0.1, inplace=False)\n",
            "      (dropout2): Dropout(p=0.1, inplace=False)\n",
            "    )\n",
            "  )\n",
            "  (linear): Linear(in_features=256, out_features=8000, bias=True)\n",
            "  (dropout): Dropout(p=0.1, inplace=False)\n",
            ")\n"
          ]
        }
      ]
    },
    {
      "cell_type": "markdown",
      "metadata": {
        "id": "9e1f73bf"
      },
      "source": [
        "## 모델 학습"
      ]
    },
    {
      "cell_type": "code",
      "metadata": {
        "colab": {
          "base_uri": "https://localhost:8080/"
        },
        "id": "7653c880",
        "outputId": "1e19f8fd-2073-423b-8dd8-0869ac7faa79"
      },
      "source": [
        "# 학습 설정\n",
        "criterion = nn.CrossEntropyLoss(ignore_index=PAD_TOKEN_ID) # 패딩 토큰은 손실 계산에서 제외\n",
        "optimizer = optim.Adam(model.parameters(), lr=0.001) # 학습률은 필요에 따라 조정\n",
        "\n",
        "# 학습 장치 설정 (GPU 사용 가능 시)\n",
        "device = torch.device(\"cuda\" if torch.cuda.is_available() else \"cpu\")\n",
        "model.to(device)\n",
        "\n",
        "print(f\"학습 장치: {device}\")\n",
        "\n",
        "# 학습 루프\n",
        "num_epochs = 10 # 학습 에폭 수 (필요에 따라 조정)\n",
        "history = {'loss': [], 'accuracy': []} # 정확도를 저장할 리스트 추가\n",
        "\n",
        "print(\"모델 학습 시작...\")\n",
        "\n",
        "for epoch in range(num_epochs):\n",
        "    model.train()\n",
        "    running_loss = 0.0\n",
        "    correct_predictions = 0\n",
        "    total_predictions = 0\n",
        "\n",
        "    for batch in dataloader:\n",
        "        batch = batch.to(device)\n",
        "\n",
        "        # 입력 및 타겟 준비\n",
        "        # 언어 모델링의 목표는 다음 토큰을 예측하는 것이므로, 입력 시퀀스의 각 토큰에 대한 타겟은 그 다음 토큰이 됩니다.\n",
        "        # 마지막 토큰에 대한 타겟은 없으므로 시퀀스 길이는 1 줄어듭니다.\n",
        "        inputs = batch[:, :-1]\n",
        "        targets = batch[:, 1:]\n",
        "\n",
        "        # 순전파\n",
        "        outputs = model(inputs)\n",
        "\n",
        "        # 손실 계산\n",
        "        loss = criterion(outputs.reshape(-1, VOCAB_SIZE), targets.reshape(-1))\n",
        "\n",
        "        # 정확도 계산 (패딩 토큰 제외)\n",
        "        # 예측된 토큰 ID\n",
        "        predicted_tokens = torch.argmax(outputs, dim=-1)\n",
        "        # 패딩 토큰이 아닌 위치의 마스크\n",
        "        non_pad_mask = (targets != PAD_TOKEN_ID)\n",
        "        # 패딩이 아닌 위치에서의 정확도 계산\n",
        "        correct_predictions += (predicted_tokens[non_pad_mask] == targets[non_pad_mask]).sum().item()\n",
        "        total_predictions += non_pad_mask.sum().item()\n",
        "\n",
        "\n",
        "        # 역전파 및 가중치 업데이트\n",
        "        optimizer.zero_grad()\n",
        "        loss.backward()\n",
        "        optimizer.step()\n",
        "\n",
        "        running_loss += loss.item()\n",
        "\n",
        "    epoch_loss = running_loss / len(dataloader)\n",
        "    epoch_accuracy = correct_predictions / total_predictions if total_predictions > 0 else 0.0 # 0으로 나누는 것 방지\n",
        "\n",
        "    history['loss'].append(epoch_loss)\n",
        "    history['accuracy'].append(epoch_accuracy)\n",
        "\n",
        "    print(f\"에폭 [{epoch+1}/{num_epochs}], 손실: {epoch_loss:.4f}, 정확도: {epoch_accuracy:.4f}\")\n",
        "\n",
        "print(\"모델 학습 완료.\")"
      ],
      "execution_count": 18,
      "outputs": [
        {
          "output_type": "stream",
          "name": "stdout",
          "text": [
            "학습 장치: cuda\n",
            "모델 학습 시작...\n",
            "에폭 [1/10], 손실: 5.9377, 정확도: 0.2097\n",
            "에폭 [2/10], 손실: 5.1443, 정확도: 0.2625\n",
            "에폭 [3/10], 손실: 4.5420, 정확도: 0.3007\n",
            "에폭 [4/10], 손실: 4.0519, 정확도: 0.3348\n",
            "에폭 [5/10], 손실: 3.6629, 정확도: 0.3662\n",
            "에폭 [6/10], 손실: 3.3530, 정확도: 0.3976\n",
            "에폭 [7/10], 손실: 3.1049, 정확도: 0.4273\n",
            "에폭 [8/10], 손실: 2.9111, 정확도: 0.4525\n",
            "에폭 [9/10], 손실: 2.7487, 정확도: 0.4758\n",
            "에폭 [10/10], 손실: 2.6174, 정확도: 0.4973\n",
            "모델 학습 완료.\n"
          ]
        }
      ]
    },
    {
      "cell_type": "markdown",
      "source": [
        "오 지난 실습보단 결과가 더 좋다! 작은 모델에서는 스케쥴러를 안쓰는것도 좋은 방법이겠다!"
      ],
      "metadata": {
        "id": "XSmWKNrcQ8d3"
      }
    },
    {
      "cell_type": "markdown",
      "metadata": {
        "id": "d5b6c8b7"
      },
      "source": [
        "# 모델 평가 및 텍스트 생성"
      ]
    },
    {
      "cell_type": "markdown",
      "metadata": {
        "id": "87ebe1e5"
      },
      "source": [
        "평가 모드 설정/텍스트 생성 함수 구현/특수 토큰 처리  \n",
        "이 3 단계의 과정으로 진행함"
      ]
    },
    {
      "cell_type": "code",
      "metadata": {
        "colab": {
          "base_uri": "https://localhost:8080/"
        },
        "id": "19b34e3f",
        "outputId": "21800432-ff2f-4de6-9e55-a9030c23a317"
      },
      "source": [
        "def generate_text(model, sp, start_sequence, max_length=100, temperature=1.0, top_k=None, device=\"gpu\"):\n",
        "    model.eval() # 평가 모드\n",
        "\n",
        "    # 시작 시퀀스를 토큰 ID로 변환\n",
        "    start_token_ids = [sp.piece_to_id(START_TOKEN)] + sp.encode_as_ids(start_sequence)\n",
        "    input_ids = torch.tensor([start_token_ids], dtype=torch.long, device=device)\n",
        "\n",
        "    generated_sequence = start_token_ids\n",
        "\n",
        "    with torch.no_grad():\n",
        "        for _ in range(max_length - len(start_token_ids)):\n",
        "            # 모델 입력은 현재까지 생성된 시퀀스\n",
        "            outputs = model(input_ids)\n",
        "            # 마지막 토큰의 예측 확률 분포 가져오기\n",
        "            logits = outputs[:, -1, :] / temperature\n",
        "\n",
        "            if top_k is not None:\n",
        "                # Top-k 샘플링\n",
        "                top_logits, top_indices = torch.topk(logits, top_k)\n",
        "                probabilities = F.softmax(top_logits, dim=-1)\n",
        "                next_token_id = torch.multinomial(probabilities, num_samples=1).squeeze()\n",
        "                next_token_id = top_indices.squeeze()[next_token_id]\n",
        "            else:\n",
        "                # 확률 분포에서 샘플링\n",
        "                probabilities = F.softmax(logits, dim=-1)\n",
        "                next_token_id = torch.multinomial(probabilities, num_samples=1).squeeze()\n",
        "\n",
        "            # 생성된 토큰 ID 추가\n",
        "            generated_sequence.append(next_token_id.item())\n",
        "\n",
        "            # 다음 입력을 위해 시퀀스 업데이트\n",
        "            input_ids = torch.tensor([generated_sequence], dtype=torch.long, device=device)\n",
        "\n",
        "            # 종료 토큰이 생성되면 중지\n",
        "            if next_token_id.item() == sp.piece_to_id(END_TOKEN):\n",
        "                break\n",
        "\n",
        "    # 토큰 ID 시퀀스를 텍스트로 디코딩\n",
        "    # 특수 토큰과 패딩 토큰 제외\n",
        "    generated_text = sp.decode_ids([id for id in generated_sequence if id not in [sp.piece_to_id(START_TOKEN), sp.piece_to_id(END_TOKEN), sp.piece_to_id(PAD_TOKEN)]])\n",
        "\n",
        "    return generated_text\n",
        "\n",
        "# 텍스트 생성 예시\n",
        "start_prompt = \"오늘 기분이\"\n",
        "generated_text = generate_text(model, sp, start_prompt, max_length=64, temperature=0.8, top_k=50, device=device)\n",
        "\n",
        "print(f\"시작 프롬프트: '{start_prompt}'\")\n",
        "print(f\"생성된 텍스트: '{generated_text}'\")"
      ],
      "execution_count": 43,
      "outputs": [
        {
          "output_type": "stream",
          "name": "stdout",
          "text": [
            "시작 프롬프트: '오늘 기분이'\n",
            "생성된 텍스트: '오늘 기분이 좋아'\n"
          ]
        }
      ]
    },
    {
      "cell_type": "markdown",
      "metadata": {
        "id": "5efcfed6"
      },
      "source": [
        "\n",
        "#회고\n",
        "PyTorch를 사용하여 트랜스포머 디코더 구조를 기반으로 하는 GPT-1 모델을 구현하였다. 학습된 모델로 텍스트 생성 함수를 구현하였다. 주어진 시작 프롬프트에 대해 모델이 생성한 텍스트를 확인했다.  \n",
        "또한 sentencepiece로 전처리를 진행하였는데, 검색해보니 이는 구글이 개발한 토크나이저로, open ai는 아마 다른 방법으로 토큰화를 진행했을거 같다. 이를 찾아 다시 전처리를 진행한다면 gpt-1 을 따라서 구현하는 목표에 더 잘 들어맞을 것 같다."
      ]
    },
    {
      "cell_type": "code",
      "source": [],
      "metadata": {
        "id": "pPB_DSKqRdLM"
      },
      "execution_count": 19,
      "outputs": []
    }
  ]
}
