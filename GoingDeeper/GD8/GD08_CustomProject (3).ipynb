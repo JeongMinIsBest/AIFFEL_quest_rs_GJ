{
  "cells": [
    {
      "cell_type": "code",
      "source": [
        "import numpy as np\n",
        "from datasets import load_dataset\n",
        "import transformers\n",
        "from transformers import (\n",
        "    AutoTokenizer,\n",
        "    AutoModelForSequenceClassification,\n",
        "    TrainingArguments,\n",
        "    Trainer,\n",
        "    DataCollatorWithPadding,\n",
        ")\n",
        "from sklearn.metrics import accuracy_score, f1_score\n",
        "\n",
        "print(transformers.__version__)\n"
      ],
      "metadata": {
        "colab": {
          "base_uri": "https://localhost:8080/"
        },
        "id": "vMXNHoN57Qvh",
        "outputId": "c9172dda-7ac4-4a5f-d82e-d93c3d7ab7da"
      },
      "id": "vMXNHoN57Qvh",
      "execution_count": 18,
      "outputs": [
        {
          "output_type": "stream",
          "name": "stdout",
          "text": [
            "4.56.1\n"
          ]
        }
      ]
    },
    {
      "cell_type": "code",
      "source": [
        "!wget https://raw.githubusercontent.com/e9t/nsmc/master/ratings_test.txt\n",
        "!wget https://raw.githubusercontent.com/e9t/nsmc/master/ratings_train.txt"
      ],
      "metadata": {
        "colab": {
          "base_uri": "https://localhost:8080/"
        },
        "id": "-pR0zfi78WVT",
        "outputId": "21b08d94-7f31-49b8-ebf2-16c569a075d8"
      },
      "id": "-pR0zfi78WVT",
      "execution_count": 4,
      "outputs": [
        {
          "output_type": "stream",
          "name": "stdout",
          "text": [
            "--2025-09-16 23:52:10--  https://raw.githubusercontent.com/e9t/nsmc/master/ratings_test.txt\n",
            "Resolving raw.githubusercontent.com (raw.githubusercontent.com)... 185.199.108.133, 185.199.109.133, 185.199.110.133, ...\n",
            "Connecting to raw.githubusercontent.com (raw.githubusercontent.com)|185.199.108.133|:443... connected.\n",
            "HTTP request sent, awaiting response... 200 OK\n",
            "Length: 4893335 (4.7M) [application/octet-stream]\n",
            "Saving to: ‘ratings_test.txt’\n",
            "\n",
            "ratings_test.txt    100%[===================>]   4.67M  --.-KB/s    in 0.05s   \n",
            "\n",
            "2025-09-16 23:52:10 (97.4 MB/s) - ‘ratings_test.txt’ saved [4893335/4893335]\n",
            "\n",
            "--2025-09-16 23:52:10--  https://raw.githubusercontent.com/e9t/nsmc/master/ratings_train.txt\n",
            "Resolving raw.githubusercontent.com (raw.githubusercontent.com)... 185.199.108.133, 185.199.109.133, 185.199.110.133, ...\n",
            "Connecting to raw.githubusercontent.com (raw.githubusercontent.com)|185.199.108.133|:443... connected.\n",
            "HTTP request sent, awaiting response... 200 OK\n",
            "Length: 14628807 (14M) [text/plain]\n",
            "Saving to: ‘ratings_train.txt’\n",
            "\n",
            "ratings_train.txt   100%[===================>]  13.95M  --.-KB/s    in 0.08s   \n",
            "\n",
            "2025-09-16 23:52:11 (167 MB/s) - ‘ratings_train.txt’ saved [14628807/14628807]\n",
            "\n"
          ]
        }
      ]
    },
    {
      "cell_type": "code",
      "source": [
        "import pandas as pd\n",
        "from datasets import Dataset, DatasetDict\n",
        "\n",
        "# 로컬에서 불러오기\n",
        "train_df = pd.read_csv(\"ratings_train.txt\", sep=\"\\t\")\n",
        "test_df = pd.read_csv(\"ratings_test.txt\", sep=\"\\t\")\n",
        "\n",
        "# Dataset으로 변환\n",
        "train_ds = Dataset.from_pandas(train_df)\n",
        "test_ds = Dataset.from_pandas(test_df)\n",
        "\n",
        "# train/val 나누기\n",
        "train_valid = train_ds.train_test_split(test_size=0.1, seed=42)\n",
        "train_ds = train_valid[\"train\"]\n",
        "val_ds = train_valid[\"test\"]\n",
        "\n",
        "dataset = DatasetDict({\n",
        "    \"train\": train_ds,\n",
        "    \"validation\": val_ds,\n",
        "    \"test\": test_ds\n",
        "})\n",
        "\n",
        "print(dataset)\n"
      ],
      "metadata": {
        "colab": {
          "base_uri": "https://localhost:8080/"
        },
        "id": "_zielAIy7Qtj",
        "outputId": "24184125-a5f1-422b-f151-48e7c46842a1"
      },
      "id": "_zielAIy7Qtj",
      "execution_count": 5,
      "outputs": [
        {
          "output_type": "stream",
          "name": "stdout",
          "text": [
            "DatasetDict({\n",
            "    train: Dataset({\n",
            "        features: ['id', 'document', 'label'],\n",
            "        num_rows: 135000\n",
            "    })\n",
            "    validation: Dataset({\n",
            "        features: ['id', 'document', 'label'],\n",
            "        num_rows: 15000\n",
            "    })\n",
            "    test: Dataset({\n",
            "        features: ['id', 'document', 'label'],\n",
            "        num_rows: 50000\n",
            "    })\n",
            "})\n"
          ]
        }
      ]
    },
    {
      "cell_type": "code",
      "source": [
        "#결측치 제거\n",
        "train_ds = train_ds.filter(lambda x: x[\"document\"] is not None)\n",
        "val_ds = val_ds.filter(lambda x: x[\"document\"] is not None)\n",
        "test_ds = test_ds.filter(lambda x: x[\"document\"] is not None)\n"
      ],
      "metadata": {
        "id": "Bc-cE7VI9Uj_"
      },
      "id": "Bc-cE7VI9Uj_",
      "execution_count": null,
      "outputs": []
    },
    {
      "cell_type": "code",
      "source": [
        "# 2. 모델과 토크나이저 준비\n",
        "MODEL_NAME = \"klue/bert-base\"\n",
        "tokenizer = AutoTokenizer.from_pretrained(MODEL_NAME)\n",
        "model = AutoModelForSequenceClassification.from_pretrained(MODEL_NAME, num_labels=2)"
      ],
      "metadata": {
        "id": "Dxs4u8-K7QrN"
      },
      "id": "Dxs4u8-K7QrN",
      "execution_count": null,
      "outputs": []
    },
    {
      "cell_type": "code",
      "source": [
        "from transformers import AutoTokenizer\n",
        "\n",
        "tokenizer = AutoTokenizer.from_pretrained(\"klue/bert-base\")\n",
        "\n",
        "def preprocess(batch):\n",
        "    return tokenizer(\n",
        "        batch[\"document\"],\n",
        "        truncation=True,\n",
        "        padding=\"max_length\",\n",
        "        max_length=128\n",
        "    )\n",
        "\n",
        "train_ds = train_ds.map(preprocess, batched=True)\n",
        "val_ds = val_ds.map(preprocess, batched=True)\n",
        "test_ds = test_ds.map(preprocess, batched=True)\n",
        "\n"
      ],
      "metadata": {
        "id": "v4a2VIjG88Ii"
      },
      "id": "v4a2VIjG88Ii",
      "execution_count": null,
      "outputs": []
    },
    {
      "cell_type": "code",
      "source": [
        "# 4. metric 정의\n",
        "def compute_metrics(eval_pred):\n",
        "    logits, labels = eval_pred\n",
        "    preds = np.argmax(logits, axis=-1)\n",
        "    acc = accuracy_score(labels, preds)\n",
        "    f1 = f1_score(labels, preds)\n",
        "    return {\"accuracy\": acc, \"f1\": f1}"
      ],
      "metadata": {
        "id": "RL4Mgf3W7Qm7"
      },
      "id": "RL4Mgf3W7Qm7",
      "execution_count": 15,
      "outputs": []
    },
    {
      "cell_type": "code",
      "source": [
        "# 5. 학습 파라미터\n",
        "training_arguments = TrainingArguments(\n",
        "    output_dir=\"klue_nsmc_output\",\n",
        "    eval_strategy=\"epoch\",   # epoch마다 평가\n",
        "    save_strategy=\"epoch\",         # epoch마다 저장\n",
        "    learning_rate=2e-5,\n",
        "    per_device_train_batch_size=16,\n",
        "    per_device_eval_batch_size=32,\n",
        "    num_train_epochs=3,\n",
        "    weight_decay=0.01,\n",
        "    load_best_model_at_end=True,\n",
        "    metric_for_best_model=\"accuracy\",\n",
        "    report_to=\"none\",              # wandb 같은 로그 끔\n",
        ")"
      ],
      "metadata": {
        "id": "t8iwOpnL7Qkk"
      },
      "id": "t8iwOpnL7Qkk",
      "execution_count": 20,
      "outputs": []
    },
    {
      "cell_type": "code",
      "source": [
        "# 6. Trainer 정의\n",
        "data_collator = DataCollatorWithPadding(tokenizer=tokenizer)\n",
        "\n",
        "trainer = Trainer(\n",
        "    model=model,\n",
        "    args=training_arguments,\n",
        "    train_dataset=train_ds,\n",
        "    eval_dataset=val_ds,\n",
        "    tokenizer=tokenizer,\n",
        "    data_collator=data_collator,\n",
        "    compute_metrics=compute_metrics,\n",
        ")"
      ],
      "metadata": {
        "colab": {
          "base_uri": "https://localhost:8080/"
        },
        "id": "PcCAb2H67QiV",
        "outputId": "99ac3029-0c52-4000-afe4-47d66f78ad18"
      },
      "id": "PcCAb2H67QiV",
      "execution_count": 21,
      "outputs": [
        {
          "output_type": "stream",
          "name": "stderr",
          "text": [
            "/tmp/ipython-input-1559849195.py:4: FutureWarning: `tokenizer` is deprecated and will be removed in version 5.0.0 for `Trainer.__init__`. Use `processing_class` instead.\n",
            "  trainer = Trainer(\n"
          ]
        }
      ]
    },
    {
      "cell_type": "code",
      "source": [
        "# 7. 학습\n",
        "trainer.train()"
      ],
      "metadata": {
        "colab": {
          "base_uri": "https://localhost:8080/",
          "height": 242
        },
        "id": "4bA_gzmA7Qe1",
        "outputId": "e8983766-fbdc-412c-dc35-1df90af99886"
      },
      "id": "4bA_gzmA7Qe1",
      "execution_count": 22,
      "outputs": [
        {
          "output_type": "display_data",
          "data": {
            "text/plain": [
              "<IPython.core.display.HTML object>"
            ],
            "text/html": [
              "\n",
              "    <div>\n",
              "      \n",
              "      <progress value='25314' max='25314' style='width:300px; height:20px; vertical-align: middle;'></progress>\n",
              "      [25314/25314 2:35:36, Epoch 3/3]\n",
              "    </div>\n",
              "    <table border=\"1\" class=\"dataframe\">\n",
              "  <thead>\n",
              " <tr style=\"text-align: left;\">\n",
              "      <th>Epoch</th>\n",
              "      <th>Training Loss</th>\n",
              "      <th>Validation Loss</th>\n",
              "      <th>Accuracy</th>\n",
              "      <th>F1</th>\n",
              "    </tr>\n",
              "  </thead>\n",
              "  <tbody>\n",
              "    <tr>\n",
              "      <td>1</td>\n",
              "      <td>0.254100</td>\n",
              "      <td>0.253286</td>\n",
              "      <td>0.905467</td>\n",
              "      <td>0.904525</td>\n",
              "    </tr>\n",
              "    <tr>\n",
              "      <td>2</td>\n",
              "      <td>0.183900</td>\n",
              "      <td>0.266623</td>\n",
              "      <td>0.910333</td>\n",
              "      <td>0.910933</td>\n",
              "    </tr>\n",
              "    <tr>\n",
              "      <td>3</td>\n",
              "      <td>0.125100</td>\n",
              "      <td>0.371903</td>\n",
              "      <td>0.910133</td>\n",
              "      <td>0.910894</td>\n",
              "    </tr>\n",
              "  </tbody>\n",
              "</table><p>"
            ]
          },
          "metadata": {}
        },
        {
          "output_type": "execute_result",
          "data": {
            "text/plain": [
              "TrainOutput(global_step=25314, training_loss=0.19935039834613774, metrics={'train_runtime': 9337.7695, 'train_samples_per_second': 43.371, 'train_steps_per_second': 2.711, 'total_flos': 2.66390076887424e+16, 'train_loss': 0.19935039834613774, 'epoch': 3.0})"
            ]
          },
          "metadata": {},
          "execution_count": 22
        }
      ]
    },
    {
      "cell_type": "markdown",
      "source": [
        "버케팅 실시하면 2시간 소요됨"
      ],
      "metadata": {
        "id": "5Cw7cCuPhyHZ"
      },
      "id": "5Cw7cCuPhyHZ"
    },
    {
      "cell_type": "code",
      "source": [
        "# 8. 평가 (Validation + Test)\n",
        "print(\"Validation 결과:\", trainer.evaluate(eval_dataset=val_ds))\n",
        "print(\"Test 결과:\", trainer.evaluate(eval_dataset=test_ds))"
      ],
      "metadata": {
        "colab": {
          "base_uri": "https://localhost:8080/",
          "height": 94
        },
        "id": "GPI7W_VY7fj7",
        "outputId": "1090d7e4-6c22-42be-aeb9-f3511fd8d224"
      },
      "id": "GPI7W_VY7fj7",
      "execution_count": 23,
      "outputs": [
        {
          "output_type": "display_data",
          "data": {
            "text/plain": [
              "<IPython.core.display.HTML object>"
            ],
            "text/html": [
              "\n",
              "    <div>\n",
              "      \n",
              "      <progress value='2032' max='469' style='width:300px; height:20px; vertical-align: middle;'></progress>\n",
              "      [469/469 07:37]\n",
              "    </div>\n",
              "    "
            ]
          },
          "metadata": {}
        },
        {
          "output_type": "stream",
          "name": "stdout",
          "text": [
            "Validation 결과: {'eval_loss': 0.26662346720695496, 'eval_accuracy': 0.9103333333333333, 'eval_f1': 0.9109330507913384, 'eval_runtime': 106.5484, 'eval_samples_per_second': 140.781, 'eval_steps_per_second': 4.402, 'epoch': 3.0}\n",
            "Test 결과: {'eval_loss': 0.27579471468925476, 'eval_accuracy': 0.9042742564553873, 'eval_f1': 0.905653682384482, 'eval_runtime': 351.258, 'eval_samples_per_second': 142.337, 'eval_steps_per_second': 4.45, 'epoch': 3.0}\n"
          ]
        }
      ]
    },
    {
      "cell_type": "code",
      "source": [
        "import matplotlib.pyplot as plt\n",
        "\n",
        "# Trainer가 기록한 로그(history)를 가져옵니다.\n",
        "logs = trainer.state.log_history\n",
        "\n",
        "# loss, eval_loss, eval_accuracy 등 분리\n",
        "train_loss = [x['loss'] for x in logs if 'loss' in x]\n",
        "eval_loss = [x['eval_loss'] for x in logs if 'eval_loss' in x]\n",
        "eval_accuracy = [x['eval_accuracy'] for x in logs if 'eval_accuracy' in x]\n",
        "\n",
        "# 학습 손실 시각화\n",
        "plt.figure(figsize=(12, 4))\n",
        "plt.subplot(1, 2, 1)\n",
        "plt.plot(train_loss, label='Train Loss')\n",
        "plt.plot(eval_loss, label='Eval Loss')\n",
        "plt.xlabel('Step')\n",
        "plt.ylabel('Loss')\n",
        "plt.title('Loss over Training')\n",
        "plt.legend()\n",
        "\n",
        "# 평가 정확도 시각화\n",
        "plt.subplot(1, 2, 2)\n",
        "plt.plot(eval_accuracy, label='Eval Accuracy', color='green')\n",
        "plt.xlabel('Evaluation step')\n",
        "plt.ylabel('Accuracy')\n",
        "plt.title('Validation Accuracy over Training')\n",
        "plt.legend()\n",
        "\n",
        "plt.tight_layout()\n",
        "plt.show()\n"
      ],
      "metadata": {
        "colab": {
          "base_uri": "https://localhost:8080/",
          "height": 427
        },
        "id": "Wb5t3obGj0Hv",
        "outputId": "e7bb33bc-ddf2-4208-861b-f7037ad36c98"
      },
      "id": "Wb5t3obGj0Hv",
      "execution_count": 24,
      "outputs": [
        {
          "output_type": "display_data",
          "data": {
            "text/plain": [
              "<Figure size 1200x400 with 2 Axes>"
            ],
            "image/png": "[encoded data removed]"
          },
          "metadata": {}
        }
      ]
    },
    {
      "cell_type": "code",
      "source": [],
      "metadata": {
        "id": "N1_tZJNZj-uA"
      },
      "id": "N1_tZJNZj-uA",
      "execution_count": null,
      "outputs": []
    },
    {
      "cell_type": "markdown",
      "source": [
        "https://medium.com/data-science/divide-hugging-face-transformers-training-time-by-2-or-more-21bf7129db9q-21bf7129db9e  \n",
        "를 읽어보면 Dynamic Padding과 Bucketing을 적용하면 훈련 시간이 단축되고, 모델 성능이 향상되었다. 배치 크기 64에서 훈련 시간이 48분에서 30분으로 단축되었으며, 정확도는 81.0%에서 81.7%로 향상되었다"
      ],
      "metadata": {
        "id": "Pk1eeKylPZR0"
      },
      "id": "Pk1eeKylPZR0"
    },
    {
      "cell_type": "markdown",
      "source": [
        "NSMC와 KLUE/BERT fine-tuning 과정에서 데이터 전처리와 토큰화 과정의 안정성이 매우 중요하다고 느낌\n",
        "\n",
        "Dynamic Padding과 Bucketing을 적용하면 싷험적으론 학습 속도와 모델 성능 모두 개선 가능\n",
        "\n",
        "앞으로 실제 프로젝트에서 대용량 데이터 학습 시 메모리 최적화와 배치 구성 전략을 반드시 고려해야 한다고 생각함"
      ],
      "metadata": {
        "id": "sf9B7MyNRl58"
      },
      "id": "sf9B7MyNRl58"
    }
  ],
  "metadata": {
    "colab": {
      "provenance": [],
      "gpuType": "T4"
    },
    "accelerator": "GPU",
    "language_info": {
      "name": "python"
    },
    "kernelspec": {
      "name": "python3",
      "display_name": "Python 3"
    }
  },
  "nbformat": 4,
  "nbformat_minor": 5
}