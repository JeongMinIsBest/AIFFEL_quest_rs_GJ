{
  "nbformat": 4,
  "nbformat_minor": 0,
  "metadata": {
    "colab": {
      "provenance": [],
      "gpuType": "T4"
    },
    "kernelspec": {
      "name": "python3",
      "display_name": "Python 3"
    },
    "language_info": {
      "name": "python"
    },
    "accelerator": "GPU"
  },
  "cells": [
    {
      "cell_type": "markdown",
      "source": [
        "# 필요 모듈 임포트"
      ],
      "metadata": {
        "id": "umd50szyvAlq"
      }
    },
    {
      "cell_type": "code",
      "execution_count": 1,
      "metadata": {
        "colab": {
          "base_uri": "https://localhost:8080/"
        },
        "id": "N7YuYlUvQrn5",
        "outputId": "b68dbbf5-096b-4cb3-abbc-a8c8202ce46a"
      },
      "outputs": [
        {
          "output_type": "stream",
          "name": "stdout",
          "text": [
            "2.6.0+cu124\n"
          ]
        }
      ],
      "source": [
        "import torch\n",
        "print(torch.__version__)"
      ]
    },
    {
      "cell_type": "code",
      "source": [
        "import torch\n",
        "import torch.nn as nn\n",
        "import torch.nn.functional as F\n",
        "from torch.utils.data import Dataset\n",
        "from torch.utils.data import DataLoader\n",
        "import torch.optim as optim\n",
        "import torch.optim.lr_scheduler as lr_scheduler\n",
        "import sentencepiece as spm\n",
        "\n",
        "import math\n",
        "import os\n",
        "import re\n",
        "import urllib.request\n",
        "import zipfile\n",
        "import numpy as np\n",
        "import matplotlib.pyplot as plt"
      ],
      "metadata": {
        "id": "RGUuI2LBvAFS"
      },
      "execution_count": 2,
      "outputs": []
    },
    {
      "cell_type": "markdown",
      "source": [
        "# 챗봇 데이터 다운로드 및 EDA"
      ],
      "metadata": {
        "id": "AKFj3XYtrC5D"
      }
    },
    {
      "cell_type": "code",
      "source": [
        "!mkdir -p /content/transformer_chatbot/data && cd /content/transformer_chatbot/data && wget 'https://github.com/songys/Chatbot_data/raw/master/ChatbotData.csv'"
      ],
      "metadata": {
        "colab": {
          "base_uri": "https://localhost:8080/"
        },
        "id": "weXV7UpcQx6V",
        "outputId": "cd6aa028-8001-4fc0-f384-69ece79b7db3"
      },
      "execution_count": 3,
      "outputs": [
        {
          "output_type": "stream",
          "name": "stdout",
          "text": [
            "--2025-08-19 07:11:47--  https://github.com/songys/Chatbot_data/raw/master/ChatbotData.csv\n",
            "Resolving github.com (github.com)... 140.82.116.3\n",
            "Connecting to github.com (github.com)|140.82.116.3|:443... connected.\n",
            "HTTP request sent, awaiting response... 302 Found\n",
            "Location: https://raw.githubusercontent.com/songys/Chatbot_data/master/ChatbotData.csv [following]\n",
            "--2025-08-19 07:11:48--  https://raw.githubusercontent.com/songys/Chatbot_data/master/ChatbotData.csv\n",
            "Resolving raw.githubusercontent.com (raw.githubusercontent.com)... 185.199.109.133, 185.199.108.133, 185.199.110.133, ...\n",
            "Connecting to raw.githubusercontent.com (raw.githubusercontent.com)|185.199.109.133|:443... connected.\n",
            "HTTP request sent, awaiting response... 200 OK\n",
            "Length: 889842 (869K) [text/plain]\n",
            "Saving to: ‘ChatbotData.csv’\n",
            "\n",
            "ChatbotData.csv     100%[===================>] 868.99K  --.-KB/s    in 0.04s   \n",
            "\n",
            "2025-08-19 07:11:48 (23.9 MB/s) - ‘ChatbotData.csv’ saved [889842/889842]\n",
            "\n"
          ]
        }
      ]
    },
    {
      "cell_type": "code",
      "source": [
        "import pandas as pd\n",
        "\n",
        "df = pd.read_csv('/content/transformer_chatbot/data/ChatbotData.csv')"
      ],
      "metadata": {
        "id": "RBt9uPU64IUH"
      },
      "execution_count": 4,
      "outputs": []
    },
    {
      "cell_type": "code",
      "source": [
        "df.info()"
      ],
      "metadata": {
        "colab": {
          "base_uri": "https://localhost:8080/"
        },
        "id": "azNVn8pc4ToE",
        "outputId": "305e03ba-d349-48f0-e870-b22e97d58b03"
      },
      "execution_count": 5,
      "outputs": [
        {
          "output_type": "stream",
          "name": "stdout",
          "text": [
            "<class 'pandas.core.frame.DataFrame'>\n",
            "RangeIndex: 11823 entries, 0 to 11822\n",
            "Data columns (total 3 columns):\n",
            " #   Column  Non-Null Count  Dtype \n",
            "---  ------  --------------  ----- \n",
            " 0   Q       11823 non-null  object\n",
            " 1   A       11823 non-null  object\n",
            " 2   label   11823 non-null  int64 \n",
            "dtypes: int64(1), object(2)\n",
            "memory usage: 277.2+ KB\n"
          ]
        }
      ]
    },
    {
      "cell_type": "markdown",
      "source": [
        "q,a,label 로 이루어져있다"
      ],
      "metadata": {
        "id": "tKHzipxv4ozP"
      }
    },
    {
      "cell_type": "code",
      "source": [
        "df.head()"
      ],
      "metadata": {
        "colab": {
          "base_uri": "https://localhost:8080/",
          "height": 206
        },
        "id": "crgPNOIw5yKe",
        "outputId": "f32c1380-df46-4213-e825-639f1d4d16de"
      },
      "execution_count": 6,
      "outputs": [
        {
          "output_type": "execute_result",
          "data": {
            "text/plain": [
              "                 Q            A  label\n",
              "0           12시 땡!   하루가 또 가네요.      0\n",
              "1      1지망 학교 떨어졌어    위로해 드립니다.      0\n",
              "2     3박4일 놀러가고 싶다  여행은 언제나 좋죠.      0\n",
              "3  3박4일 정도 놀러가고 싶다  여행은 언제나 좋죠.      0\n",
              "4          PPL 심하네   눈살이 찌푸려지죠.      0"
            ],
            "text/html": [
              "\n",
              "  <div id=\"df-4c6527f0-71fe-45d3-9517-b57437918531\" class=\"colab-df-container\">\n",
              "    <div>\n",
              "<style scoped>\n",
              "    .dataframe tbody tr th:only-of-type {\n",
              "        vertical-align: middle;\n",
              "    }\n",
              "\n",
              "    .dataframe tbody tr th {\n",
              "        vertical-align: top;\n",
              "    }\n",
              "\n",
              "    .dataframe thead th {\n",
              "        text-align: right;\n",
              "    }\n",
              "</style>\n",
              "<table border=\"1\" class=\"dataframe\">\n",
              "  <thead>\n",
              "    <tr style=\"text-align: right;\">\n",
              "      <th></th>\n",
              "      <th>Q</th>\n",
              "      <th>A</th>\n",
              "      <th>label</th>\n",
              "    </tr>\n",
              "  </thead>\n",
              "  <tbody>\n",
              "    <tr>\n",
              "      <th>0</th>\n",
              "      <td>12시 땡!</td>\n",
              "      <td>하루가 또 가네요.</td>\n",
              "      <td>0</td>\n",
              "    </tr>\n",
              "    <tr>\n",
              "      <th>1</th>\n",
              "      <td>1지망 학교 떨어졌어</td>\n",
              "      <td>위로해 드립니다.</td>\n",
              "      <td>0</td>\n",
              "    </tr>\n",
              "    <tr>\n",
              "      <th>2</th>\n",
              "      <td>3박4일 놀러가고 싶다</td>\n",
              "      <td>여행은 언제나 좋죠.</td>\n",
              "      <td>0</td>\n",
              "    </tr>\n",
              "    <tr>\n",
              "      <th>3</th>\n",
              "      <td>3박4일 정도 놀러가고 싶다</td>\n",
              "      <td>여행은 언제나 좋죠.</td>\n",
              "      <td>0</td>\n",
              "    </tr>\n",
              "    <tr>\n",
              "      <th>4</th>\n",
              "      <td>PPL 심하네</td>\n",
              "      <td>눈살이 찌푸려지죠.</td>\n",
              "      <td>0</td>\n",
              "    </tr>\n",
              "  </tbody>\n",
              "</table>\n",
              "</div>\n",
              "    <div class=\"colab-df-buttons\">\n",
              "\n",
              "  <div class=\"colab-df-container\">\n",
              "    <button class=\"colab-df-convert\" onclick=\"convertToInteractive('df-4c6527f0-71fe-45d3-9517-b57437918531')\"\n",
              "            title=\"Convert this dataframe to an interactive table.\"\n",
              "            style=\"display:none;\">\n",
              "\n",
              "  <svg xmlns=\"http://www.w3.org/2000/svg\" height=\"24px\" viewBox=\"0 -960 960 960\">\n",
              "    <path d=\"M120-120v-720h720v720H120Zm60-500h600v-160H180v160Zm220 220h160v-160H400v160Zm0 220h160v-160H400v160ZM180-400h160v-160H180v160Zm440 0h160v-160H620v160ZM180-180h160v-160H180v160Zm440 0h160v-160H620v160Z\"/>\n",
              "  </svg>\n",
              "    </button>\n",
              "\n",
              "  <style>\n",
              "    .colab-df-container {\n",
              "      display:flex;\n",
              "      gap: 12px;\n",
              "    }\n",
              "\n",
              "    .colab-df-convert {\n",
              "      background-color: #E8F0FE;\n",
              "      border: none;\n",
              "      border-radius: 50%;\n",
              "      cursor: pointer;\n",
              "      display: none;\n",
              "      fill: #1967D2;\n",
              "      height: 32px;\n",
              "      padding: 0 0 0 0;\n",
              "      width: 32px;\n",
              "    }\n",
              "\n",
              "    .colab-df-convert:hover {\n",
              "      background-color: #E2EBFA;\n",
              "      box-shadow: 0px 1px 2px rgba(60, 64, 67, 0.3), 0px 1px 3px 1px rgba(60, 64, 67, 0.15);\n",
              "      fill: #174EA6;\n",
              "    }\n",
              "\n",
              "    .colab-df-buttons div {\n",
              "      margin-bottom: 4px;\n",
              "    }\n",
              "\n",
              "    [theme=dark] .colab-df-convert {\n",
              "      background-color: #3B4455;\n",
              "      fill: #D2E3FC;\n",
              "    }\n",
              "\n",
              "    [theme=dark] .colab-df-convert:hover {\n",
              "      background-color: #434B5C;\n",
              "      box-shadow: 0px 1px 3px 1px rgba(0, 0, 0, 0.15);\n",
              "      filter: drop-shadow(0px 1px 2px rgba(0, 0, 0, 0.3));\n",
              "      fill: #FFFFFF;\n",
              "    }\n",
              "  </style>\n",
              "\n",
              "    <script>\n",
              "      const buttonEl =\n",
              "        document.querySelector('#df-4c6527f0-71fe-45d3-9517-b57437918531 button.colab-df-convert');\n",
              "      buttonEl.style.display =\n",
              "        google.colab.kernel.accessAllowed ? 'block' : 'none';\n",
              "\n",
              "      async function convertToInteractive(key) {\n",
              "        const element = document.querySelector('#df-4c6527f0-71fe-45d3-9517-b57437918531');\n",
              "        const dataTable =\n",
              "          await google.colab.kernel.invokeFunction('convertToInteractive',\n",
              "                                                    [key], {});\n",
              "        if (!dataTable) return;\n",
              "\n",
              "        const docLinkHtml = 'Like what you see? Visit the ' +\n",
              "          '<a target=\"_blank\" href=https://colab.research.google.com/notebooks/data_table.ipynb>data table notebook</a>'\n",
              "          + ' to learn more about interactive tables.';\n",
              "        element.innerHTML = '';\n",
              "        dataTable['output_type'] = 'display_data';\n",
              "        await google.colab.output.renderOutput(dataTable, element);\n",
              "        const docLink = document.createElement('div');\n",
              "        docLink.innerHTML = docLinkHtml;\n",
              "        element.appendChild(docLink);\n",
              "      }\n",
              "    </script>\n",
              "  </div>\n",
              "\n",
              "\n",
              "    <div id=\"df-dbdffd46-8e50-4054-9873-b69c818060ab\">\n",
              "      <button class=\"colab-df-quickchart\" onclick=\"quickchart('df-dbdffd46-8e50-4054-9873-b69c818060ab')\"\n",
              "                title=\"Suggest charts\"\n",
              "                style=\"display:none;\">\n",
              "\n",
              "<svg xmlns=\"http://www.w3.org/2000/svg\" height=\"24px\"viewBox=\"0 0 24 24\"\n",
              "     width=\"24px\">\n",
              "    <g>\n",
              "        <path d=\"M19 3H5c-1.1 0-2 .9-2 2v14c0 1.1.9 2 2 2h14c1.1 0 2-.9 2-2V5c0-1.1-.9-2-2-2zM9 17H7v-7h2v7zm4 0h-2V7h2v10zm4 0h-2v-4h2v4z\"/>\n",
              "    </g>\n",
              "</svg>\n",
              "      </button>\n",
              "\n",
              "<style>\n",
              "  .colab-df-quickchart {\n",
              "      --bg-color: #E8F0FE;\n",
              "      --fill-color: #1967D2;\n",
              "      --hover-bg-color: #E2EBFA;\n",
              "      --hover-fill-color: #174EA6;\n",
              "      --disabled-fill-color: #AAA;\n",
              "      --disabled-bg-color: #DDD;\n",
              "  }\n",
              "\n",
              "  [theme=dark] .colab-df-quickchart {\n",
              "      --bg-color: #3B4455;\n",
              "      --fill-color: #D2E3FC;\n",
              "      --hover-bg-color: #434B5C;\n",
              "      --hover-fill-color: #FFFFFF;\n",
              "      --disabled-bg-color: #3B4455;\n",
              "      --disabled-fill-color: #666;\n",
              "  }\n",
              "\n",
              "  .colab-df-quickchart {\n",
              "    background-color: var(--bg-color);\n",
              "    border: none;\n",
              "    border-radius: 50%;\n",
              "    cursor: pointer;\n",
              "    display: none;\n",
              "    fill: var(--fill-color);\n",
              "    height: 32px;\n",
              "    padding: 0;\n",
              "    width: 32px;\n",
              "  }\n",
              "\n",
              "  .colab-df-quickchart:hover {\n",
              "    background-color: var(--hover-bg-color);\n",
              "    box-shadow: 0 1px 2px rgba(60, 64, 67, 0.3), 0 1px 3px 1px rgba(60, 64, 67, 0.15);\n",
              "    fill: var(--button-hover-fill-color);\n",
              "  }\n",
              "\n",
              "  .colab-df-quickchart-complete:disabled,\n",
              "  .colab-df-quickchart-complete:disabled:hover {\n",
              "    background-color: var(--disabled-bg-color);\n",
              "    fill: var(--disabled-fill-color);\n",
              "    box-shadow: none;\n",
              "  }\n",
              "\n",
              "  .colab-df-spinner {\n",
              "    border: 2px solid var(--fill-color);\n",
              "    border-color: transparent;\n",
              "    border-bottom-color: var(--fill-color);\n",
              "    animation:\n",
              "      spin 1s steps(1) infinite;\n",
              "  }\n",
              "\n",
              "  @keyframes spin {\n",
              "    0% {\n",
              "      border-color: transparent;\n",
              "      border-bottom-color: var(--fill-color);\n",
              "      border-left-color: var(--fill-color);\n",
              "    }\n",
              "    20% {\n",
              "      border-color: transparent;\n",
              "      border-left-color: var(--fill-color);\n",
              "      border-top-color: var(--fill-color);\n",
              "    }\n",
              "    30% {\n",
              "      border-color: transparent;\n",
              "      border-left-color: var(--fill-color);\n",
              "      border-top-color: var(--fill-color);\n",
              "      border-right-color: var(--fill-color);\n",
              "    }\n",
              "    40% {\n",
              "      border-color: transparent;\n",
              "      border-right-color: var(--fill-color);\n",
              "      border-top-color: var(--fill-color);\n",
              "    }\n",
              "    60% {\n",
              "      border-color: transparent;\n",
              "      border-right-color: var(--fill-color);\n",
              "    }\n",
              "    80% {\n",
              "      border-color: transparent;\n",
              "      border-right-color: var(--fill-color);\n",
              "      border-bottom-color: var(--fill-color);\n",
              "    }\n",
              "    90% {\n",
              "      border-color: transparent;\n",
              "      border-bottom-color: var(--fill-color);\n",
              "    }\n",
              "  }\n",
              "</style>\n",
              "\n",
              "      <script>\n",
              "        async function quickchart(key) {\n",
              "          const quickchartButtonEl =\n",
              "            document.querySelector('#' + key + ' button');\n",
              "          quickchartButtonEl.disabled = true;  // To prevent multiple clicks.\n",
              "          quickchartButtonEl.classList.add('colab-df-spinner');\n",
              "          try {\n",
              "            const charts = await google.colab.kernel.invokeFunction(\n",
              "                'suggestCharts', [key], {});\n",
              "          } catch (error) {\n",
              "            console.error('Error during call to suggestCharts:', error);\n",
              "          }\n",
              "          quickchartButtonEl.classList.remove('colab-df-spinner');\n",
              "          quickchartButtonEl.classList.add('colab-df-quickchart-complete');\n",
              "        }\n",
              "        (() => {\n",
              "          let quickchartButtonEl =\n",
              "            document.querySelector('#df-dbdffd46-8e50-4054-9873-b69c818060ab button');\n",
              "          quickchartButtonEl.style.display =\n",
              "            google.colab.kernel.accessAllowed ? 'block' : 'none';\n",
              "        })();\n",
              "      </script>\n",
              "    </div>\n",
              "\n",
              "    </div>\n",
              "  </div>\n"
            ],
            "application/vnd.google.colaboratory.intrinsic+json": {
              "type": "dataframe",
              "variable_name": "df",
              "summary": "{\n  \"name\": \"df\",\n  \"rows\": 11823,\n  \"fields\": [\n    {\n      \"column\": \"Q\",\n      \"properties\": {\n        \"dtype\": \"string\",\n        \"num_unique_values\": 11662,\n        \"samples\": [\n          \"\\uc0ac\\ub791\\ud558\\ub294 \\uc0ac\\ub78c \\uc78a\\ub294 \\ubc95\",\n          \"\\uc220 \\uc548 \\uba39\\uc73c\\uba74 \\uce5c\\uad6c\\ub791 \\ubb50\\ud558\\uc9c0\",\n          \"\\uc9dd\\ub0a8\\uc774 \\uace0\\uc2dc\\uc0dd\\uc774\\uba74 \\uae30\\ub2e4\\ub824\\uc57c \\ud558\\ub098\\uc694?\"\n        ],\n        \"semantic_type\": \"\",\n        \"description\": \"\"\n      }\n    },\n    {\n      \"column\": \"A\",\n      \"properties\": {\n        \"dtype\": \"string\",\n        \"num_unique_values\": 7779,\n        \"samples\": [\n          \"\\uc720\\uba38\\ucf54\\ub4dc\\uac00 \\ub9de\\ub294 \\uc0ac\\ub78c\\uc744 \\ucc3e\\uc544\\ubcf4\\uc138\\uc694.\",\n          \"\\uc5ec\\ud589\\uc744 \\ub5a0\\ub098 \\ubcf4\\uc138\\uc694.\",\n          \"\\ud589\\ubcf5\\ud560 \\uac70\\ub77c \\uc0dd\\uac01\\ud574\\uc694.\"\n        ],\n        \"semantic_type\": \"\",\n        \"description\": \"\"\n      }\n    },\n    {\n      \"column\": \"label\",\n      \"properties\": {\n        \"dtype\": \"number\",\n        \"std\": 0,\n        \"min\": 0,\n        \"max\": 2,\n        \"num_unique_values\": 3,\n        \"samples\": [\n          0,\n          1,\n          2\n        ],\n        \"semantic_type\": \"\",\n        \"description\": \"\"\n      }\n    }\n  ]\n}"
            }
          },
          "metadata": {},
          "execution_count": 6
        }
      ]
    },
    {
      "cell_type": "code",
      "source": [
        "df['label'].value_counts()"
      ],
      "metadata": {
        "colab": {
          "base_uri": "https://localhost:8080/",
          "height": 209
        },
        "id": "yOUvtAwc4TgW",
        "outputId": "b307400d-3563-422c-9176-43d16a080f84"
      },
      "execution_count": 7,
      "outputs": [
        {
          "output_type": "execute_result",
          "data": {
            "text/plain": [
              "label\n",
              "0    5290\n",
              "1    3570\n",
              "2    2963\n",
              "Name: count, dtype: int64"
            ],
            "text/html": [
              "<div>\n",
              "<style scoped>\n",
              "    .dataframe tbody tr th:only-of-type {\n",
              "        vertical-align: middle;\n",
              "    }\n",
              "\n",
              "    .dataframe tbody tr th {\n",
              "        vertical-align: top;\n",
              "    }\n",
              "\n",
              "    .dataframe thead th {\n",
              "        text-align: right;\n",
              "    }\n",
              "</style>\n",
              "<table border=\"1\" class=\"dataframe\">\n",
              "  <thead>\n",
              "    <tr style=\"text-align: right;\">\n",
              "      <th></th>\n",
              "      <th>count</th>\n",
              "    </tr>\n",
              "    <tr>\n",
              "      <th>label</th>\n",
              "      <th></th>\n",
              "    </tr>\n",
              "  </thead>\n",
              "  <tbody>\n",
              "    <tr>\n",
              "      <th>0</th>\n",
              "      <td>5290</td>\n",
              "    </tr>\n",
              "    <tr>\n",
              "      <th>1</th>\n",
              "      <td>3570</td>\n",
              "    </tr>\n",
              "    <tr>\n",
              "      <th>2</th>\n",
              "      <td>2963</td>\n",
              "    </tr>\n",
              "  </tbody>\n",
              "</table>\n",
              "</div><br><label><b>dtype:</b> int64</label>"
            ]
          },
          "metadata": {},
          "execution_count": 7
        }
      ]
    },
    {
      "cell_type": "code",
      "source": [
        "df['Q'].str.len()"
      ],
      "metadata": {
        "colab": {
          "base_uri": "https://localhost:8080/",
          "height": 458
        },
        "collapsed": true,
        "id": "1CU6Yl2X4TLf",
        "outputId": "25681827-19e4-40eb-c98b-dee7efca5402"
      },
      "execution_count": 8,
      "outputs": [
        {
          "output_type": "execute_result",
          "data": {
            "text/plain": [
              "0         6\n",
              "1        11\n",
              "2        12\n",
              "3        15\n",
              "4         7\n",
              "         ..\n",
              "11818    14\n",
              "11819    14\n",
              "11820    11\n",
              "11821    23\n",
              "11822    10\n",
              "Name: Q, Length: 11823, dtype: int64"
            ],
            "text/html": [
              "<div>\n",
              "<style scoped>\n",
              "    .dataframe tbody tr th:only-of-type {\n",
              "        vertical-align: middle;\n",
              "    }\n",
              "\n",
              "    .dataframe tbody tr th {\n",
              "        vertical-align: top;\n",
              "    }\n",
              "\n",
              "    .dataframe thead th {\n",
              "        text-align: right;\n",
              "    }\n",
              "</style>\n",
              "<table border=\"1\" class=\"dataframe\">\n",
              "  <thead>\n",
              "    <tr style=\"text-align: right;\">\n",
              "      <th></th>\n",
              "      <th>Q</th>\n",
              "    </tr>\n",
              "  </thead>\n",
              "  <tbody>\n",
              "    <tr>\n",
              "      <th>0</th>\n",
              "      <td>6</td>\n",
              "    </tr>\n",
              "    <tr>\n",
              "      <th>1</th>\n",
              "      <td>11</td>\n",
              "    </tr>\n",
              "    <tr>\n",
              "      <th>2</th>\n",
              "      <td>12</td>\n",
              "    </tr>\n",
              "    <tr>\n",
              "      <th>3</th>\n",
              "      <td>15</td>\n",
              "    </tr>\n",
              "    <tr>\n",
              "      <th>4</th>\n",
              "      <td>7</td>\n",
              "    </tr>\n",
              "    <tr>\n",
              "      <th>...</th>\n",
              "      <td>...</td>\n",
              "    </tr>\n",
              "    <tr>\n",
              "      <th>11818</th>\n",
              "      <td>14</td>\n",
              "    </tr>\n",
              "    <tr>\n",
              "      <th>11819</th>\n",
              "      <td>14</td>\n",
              "    </tr>\n",
              "    <tr>\n",
              "      <th>11820</th>\n",
              "      <td>11</td>\n",
              "    </tr>\n",
              "    <tr>\n",
              "      <th>11821</th>\n",
              "      <td>23</td>\n",
              "    </tr>\n",
              "    <tr>\n",
              "      <th>11822</th>\n",
              "      <td>10</td>\n",
              "    </tr>\n",
              "  </tbody>\n",
              "</table>\n",
              "<p>11823 rows × 1 columns</p>\n",
              "</div><br><label><b>dtype:</b> int64</label>"
            ]
          },
          "metadata": {},
          "execution_count": 8
        }
      ]
    },
    {
      "cell_type": "code",
      "source": [
        "df['A'].str.len()"
      ],
      "metadata": {
        "colab": {
          "base_uri": "https://localhost:8080/",
          "height": 458
        },
        "collapsed": true,
        "id": "kYGZro2S5CNd",
        "outputId": "0508f674-b94f-4531-dd1a-28fb32a10903"
      },
      "execution_count": 9,
      "outputs": [
        {
          "output_type": "execute_result",
          "data": {
            "text/plain": [
              "0        10\n",
              "1         9\n",
              "2        11\n",
              "3        11\n",
              "4        10\n",
              "         ..\n",
              "11818    18\n",
              "11819    13\n",
              "11820     6\n",
              "11821    24\n",
              "11822    18\n",
              "Name: A, Length: 11823, dtype: int64"
            ],
            "text/html": [
              "<div>\n",
              "<style scoped>\n",
              "    .dataframe tbody tr th:only-of-type {\n",
              "        vertical-align: middle;\n",
              "    }\n",
              "\n",
              "    .dataframe tbody tr th {\n",
              "        vertical-align: top;\n",
              "    }\n",
              "\n",
              "    .dataframe thead th {\n",
              "        text-align: right;\n",
              "    }\n",
              "</style>\n",
              "<table border=\"1\" class=\"dataframe\">\n",
              "  <thead>\n",
              "    <tr style=\"text-align: right;\">\n",
              "      <th></th>\n",
              "      <th>A</th>\n",
              "    </tr>\n",
              "  </thead>\n",
              "  <tbody>\n",
              "    <tr>\n",
              "      <th>0</th>\n",
              "      <td>10</td>\n",
              "    </tr>\n",
              "    <tr>\n",
              "      <th>1</th>\n",
              "      <td>9</td>\n",
              "    </tr>\n",
              "    <tr>\n",
              "      <th>2</th>\n",
              "      <td>11</td>\n",
              "    </tr>\n",
              "    <tr>\n",
              "      <th>3</th>\n",
              "      <td>11</td>\n",
              "    </tr>\n",
              "    <tr>\n",
              "      <th>4</th>\n",
              "      <td>10</td>\n",
              "    </tr>\n",
              "    <tr>\n",
              "      <th>...</th>\n",
              "      <td>...</td>\n",
              "    </tr>\n",
              "    <tr>\n",
              "      <th>11818</th>\n",
              "      <td>18</td>\n",
              "    </tr>\n",
              "    <tr>\n",
              "      <th>11819</th>\n",
              "      <td>13</td>\n",
              "    </tr>\n",
              "    <tr>\n",
              "      <th>11820</th>\n",
              "      <td>6</td>\n",
              "    </tr>\n",
              "    <tr>\n",
              "      <th>11821</th>\n",
              "      <td>24</td>\n",
              "    </tr>\n",
              "    <tr>\n",
              "      <th>11822</th>\n",
              "      <td>18</td>\n",
              "    </tr>\n",
              "  </tbody>\n",
              "</table>\n",
              "<p>11823 rows × 1 columns</p>\n",
              "</div><br><label><b>dtype:</b> int64</label>"
            ]
          },
          "metadata": {},
          "execution_count": 9
        }
      ]
    },
    {
      "cell_type": "code",
      "source": [
        "df['q_len'] = df['Q'].str.len()\n",
        "df['a_len'] = df['A'].str.len()"
      ],
      "metadata": {
        "id": "g3v7Uumy5DgL"
      },
      "execution_count": 10,
      "outputs": []
    },
    {
      "cell_type": "code",
      "source": [
        "# 질문 길이 분포 히스토그램\n",
        "plt.figure(figsize=(10, 6))\n",
        "plt.hist(df['q_len'], bins=50, edgecolor='k', alpha=0.7)\n",
        "plt.title('Distribution of Question Lengths', fontsize=15)\n",
        "plt.xlabel('Length of Question (Characters)', fontsize=12)\n",
        "plt.ylabel('Frequency', fontsize=12)\n",
        "plt.grid(axis='y', alpha=0.75)\n",
        "plt.tight_layout()\n",
        "plt.show()\n"
      ],
      "metadata": {
        "colab": {
          "base_uri": "https://localhost:8080/",
          "height": 607
        },
        "id": "joPaqdbc5VNm",
        "outputId": "fe789bb3-b242-4f78-936a-ec61ea025e80"
      },
      "execution_count": 11,
      "outputs": [
        {
          "output_type": "display_data",
          "data": {
            "text/plain": [
              "<Figure size 1000x600 with 1 Axes>"
            ],
            "image/png": "[encoded data removed]"
          },
          "metadata": {}
        }
      ]
    },
    {
      "cell_type": "code",
      "source": [
        "# 답변 길이 분포 히스토그램\n",
        "plt.figure(figsize=(10, 6))\n",
        "plt.hist(df['a_len'], bins=50, edgecolor='k', alpha=0.7, color='orange')\n",
        "plt.title('Distribution of Answer Lengths', fontsize=15)\n",
        "plt.xlabel('Length of Answer (Characters)', fontsize=12)\n",
        "plt.ylabel('Frequency', fontsize=12)\n",
        "plt.grid(axis='y', alpha=0.75)\n",
        "plt.tight_layout()\n",
        "plt.show()"
      ],
      "metadata": {
        "colab": {
          "base_uri": "https://localhost:8080/",
          "height": 607
        },
        "id": "TE5gaSEd5VLS",
        "outputId": "b591558e-107b-4e09-fbda-f2946ccfc543"
      },
      "execution_count": 12,
      "outputs": [
        {
          "output_type": "display_data",
          "data": {
            "text/plain": [
              "<Figure size 1000x600 with 1 Axes>"
            ],
            "image/png": "[encoded data removed]"
          },
          "metadata": {}
        }
      ]
    },
    {
      "cell_type": "markdown",
      "source": [
        "라벨값 분포와 Q,A 길이를 확인했다. 각 50자,30자 내에서 질답이 형성되어있다."
      ],
      "metadata": {
        "id": "RpL_5C_s5heh"
      }
    },
    {
      "cell_type": "markdown",
      "source": [
        "# 데이터 전처리"
      ],
      "metadata": {
        "id": "Te-UoDa1rOMZ"
      }
    },
    {
      "cell_type": "markdown",
      "source": [
        "실습과는 달리 한국어라 다른 전처리를 수행한다.  \n",
        "먼저 QA를 하나의 리스트로 통합하고 특수문자를 제거만 한다."
      ],
      "metadata": {
        "id": "MNwCGnjP36Cw"
      }
    },
    {
      "cell_type": "code",
      "source": [
        "# !pip install konlpy"
      ],
      "metadata": {
        "id": "Xgzx5cyVEsZP"
      },
      "execution_count": 13,
      "outputs": []
    },
    {
      "cell_type": "code",
      "source": [
        "# import pandas as pd\n",
        "# import matplotlib.pyplot as plt\n",
        "# from collections import Counter\n",
        "# from konlpy.tag import Okt\n",
        "# from wordcloud import WordCloud\n",
        "\n",
        "# # 1. 데이터 불러오기 및 기본 정보 확인\n",
        "\n",
        "# print(\"--- 데이터 기본 정보 ---\")\n",
        "# print(df.info())\n",
        "\n",
        "# print(\"\\n--- 상위 5개 행 확인 ---\")\n",
        "# print(df.head())\n",
        "\n",
        "# # 2. 컬럼별 데이터 탐색 및 시각화\n",
        "\n",
        "# # a) 'label' 컬럼 분포 확인\n",
        "# print(\"\\n--- 라벨(label) 컬럼 분포 ---\")\n",
        "# label_counts = df['label'].value_counts().sort_index()\n",
        "# print(label_counts)\n",
        "\n",
        "# plt.figure(figsize=(8, 6))\n",
        "# label_counts.plot(kind='bar', color=['skyblue', 'salmon', 'lightgreen'])\n",
        "# plt.title('Distribution of Labels', fontsize=15)\n",
        "# plt.xlabel('Label', fontsize=12)\n",
        "# plt.ylabel('Count', fontsize=12)\n",
        "# plt.xticks(rotation=0)\n",
        "# plt.grid(axis='y', alpha=0.75)\n",
        "# plt.tight_layout()\n",
        "# plt.show()\n",
        "\n",
        "# # b) 텍스트 길이 분포 (질문, 답변)\n",
        "# df['q_len'] = df['Q'].str.len()\n",
        "# df['a_len'] = df['A'].str.len()\n",
        "\n",
        "# plt.figure(figsize=(14, 6))\n",
        "\n",
        "# plt.subplot(1, 2, 1)\n",
        "# plt.hist(df['q_len'], bins=50, edgecolor='k', alpha=0.7)\n",
        "# plt.title('Distribution of Question Lengths', fontsize=15)\n",
        "# plt.xlabel('Length (Characters)', fontsize=12)\n",
        "# plt.ylabel('Frequency', fontsize=12)\n",
        "# plt.grid(axis='y', alpha=0.75)\n",
        "\n",
        "# plt.subplot(1, 2, 2)\n",
        "# plt.hist(df['a_len'], bins=50, edgecolor='k', alpha=0.7, color='orange')\n",
        "# plt.title('Distribution of Answer Lengths', fontsize=15)\n",
        "# plt.xlabel('Length (Characters)', fontsize=12)\n",
        "# plt.ylabel('Frequency', fontsize=12)\n",
        "# plt.grid(axis='y', alpha=0.75)\n",
        "\n",
        "# plt.tight_layout()\n",
        "# plt.show()\n",
        "\n",
        "# # 3. 한국어 텍스트 데이터 특징 분석\n",
        "\n",
        "# # 자주 등장하는 단어 분석 (명사 기준)\n",
        "# okt = Okt()\n",
        "# all_words = []\n",
        "# for text in pd.concat([df['Q'], df['A']]):\n",
        "#     # 명사만 추출\n",
        "#     nouns = okt.nouns(str(text))\n",
        "#     # 한 글자 명사 및 불용어 제거 (선택적)\n",
        "#     nouns = [n for n in nouns if len(n) > 1 and n not in ['그녀', '남자', '친구', '사랑', '마음', '사람']]\n",
        "#     all_words.extend(nouns)\n",
        "\n",
        "# # 단어 빈도 계산\n",
        "# word_counts = Counter(all_words)\n",
        "# top_20_words = word_counts.most_common(20)\n",
        "\n",
        "# print(\"\\n--- 자주 등장하는 단어 TOP 20 ---\")\n",
        "# print(top_20_words)\n",
        "\n",
        "# # 워드 클라우드 시각화\n",
        "# wordcloud = WordCloud(\n",
        "#     font_path='malgun',\n",
        "#     background_color='white',\n",
        "#     width=800,\n",
        "#     height=600\n",
        "# ).generate_from_frequencies(dict(top_20_words))\n",
        "\n",
        "# plt.figure(figsize=(10, 8))\n",
        "# plt.imshow(wordcloud, interpolation='bilinear')\n",
        "# plt.axis('off')\n",
        "# plt.title('Word Cloud of Top 20 Words', fontsize=15)\n",
        "# plt.show()"
      ],
      "metadata": {
        "collapsed": true,
        "id": "YlgEkii_wP1m"
      },
      "execution_count": 14,
      "outputs": []
    },
    {
      "cell_type": "markdown",
      "source": [
        "위 전처리가 크게 도움이 되지 않아 무시함"
      ],
      "metadata": {
        "id": "en_afc8RFsmO"
      }
    },
    {
      "cell_type": "code",
      "source": [
        "import re\n",
        "\n",
        "def remove_special_characters(text):\n",
        "    if isinstance(text, str):\n",
        "        # 정규 표현식을 사용하여 특수문자 제거\n",
        "        # 한글, 영문, 숫자, 공백만 남김\n",
        "        return re.sub(r'[^가-힣a-zA-Z0-9\\s]', '', text)\n",
        "    else:\n",
        "        return text\n",
        "\n",
        "# 'Q'와 'A' 컬럼에 특수문자 제거 함수 적용\n",
        "print(\"--- 전처리 전 데이터 (일부) ---\")\n",
        "print(df[['Q', 'A']].head())\n",
        "\n",
        "df['Q_cleaned'] = df['Q'].apply(remove_special_characters)\n",
        "df['A_cleaned'] = df['A'].apply(remove_special_characters)\n",
        "\n",
        "print(\"\\n--- 전처리 후 데이터 (일부) ---\")\n",
        "print(df[['Q_cleaned', 'A_cleaned']].head())\n"
      ],
      "metadata": {
        "colab": {
          "base_uri": "https://localhost:8080/"
        },
        "id": "EI9_xt6XGHtN",
        "outputId": "a05a931f-c2c0-41ac-9365-95ddc0f867d9"
      },
      "execution_count": 15,
      "outputs": [
        {
          "output_type": "stream",
          "name": "stdout",
          "text": [
            "--- 전처리 전 데이터 (일부) ---\n",
            "                 Q            A\n",
            "0           12시 땡!   하루가 또 가네요.\n",
            "1      1지망 학교 떨어졌어    위로해 드립니다.\n",
            "2     3박4일 놀러가고 싶다  여행은 언제나 좋죠.\n",
            "3  3박4일 정도 놀러가고 싶다  여행은 언제나 좋죠.\n",
            "4          PPL 심하네   눈살이 찌푸려지죠.\n",
            "\n",
            "--- 전처리 후 데이터 (일부) ---\n",
            "         Q_cleaned   A_cleaned\n",
            "0            12시 땡   하루가 또 가네요\n",
            "1      1지망 학교 떨어졌어    위로해 드립니다\n",
            "2     3박4일 놀러가고 싶다  여행은 언제나 좋죠\n",
            "3  3박4일 정도 놀러가고 싶다  여행은 언제나 좋죠\n",
            "4          PPL 심하네   눈살이 찌푸려지죠\n"
          ]
        }
      ]
    },
    {
      "cell_type": "markdown",
      "source": [
        "의도한대로 전처리가 잘 된거 같다!"
      ],
      "metadata": {
        "id": "zBjb8lXaGM6k"
      }
    },
    {
      "cell_type": "markdown",
      "source": [
        "# sentencepiece 사용"
      ],
      "metadata": {
        "id": "yN4TUnjXwJMY"
      }
    },
    {
      "cell_type": "code",
      "source": [
        "# !pip install sentencepiece"
      ],
      "metadata": {
        "id": "thKNAZygnmqK"
      },
      "execution_count": 16,
      "outputs": []
    },
    {
      "cell_type": "code",
      "source": [
        "# DataFrame의 열을 리스트로 변환\n",
        "q_cleaned_list = df['Q_cleaned'].tolist()\n",
        "a_cleaned_list = df['A_cleaned'].tolist()\n",
        "\n",
        "pairs = []\n",
        "# zip을 이용해 질문과 답변을 짝짓기\n",
        "for q, a in zip(q_cleaned_list, a_cleaned_list):\n",
        "    # NaN 값이나 공백이 있다면 건너뛰는 예외 처리 추가\n",
        "    if pd.isna(q) or pd.isna(a):\n",
        "        continue\n",
        "    pairs.append((q.strip(), a.strip()))\n",
        "\n",
        "print(\"총 쌍의 개수:\", len(pairs))"
      ],
      "metadata": {
        "colab": {
          "base_uri": "https://localhost:8080/"
        },
        "id": "1-gp7l8_Ox9p",
        "outputId": "4e576380-71fa-441a-cbe3-2d8646e53793"
      },
      "execution_count": 17,
      "outputs": [
        {
          "output_type": "stream",
          "name": "stdout",
          "text": [
            "총 쌍의 개수: 11823\n"
          ]
        }
      ]
    },
    {
      "cell_type": "code",
      "source": [
        "corpus_file = \"custom_corpus.txt\"\n",
        "with open(corpus_file, 'w', encoding='utf-8') as f:\n",
        "    for q, a in pairs:\n",
        "        f.write(q + \"\\n\")\n",
        "        f.write(a + \"\\n\")\n",
        "\n",
        "print(f\"'{corpus_file}' 파일이 생성되었습니다.\")"
      ],
      "metadata": {
        "colab": {
          "base_uri": "https://localhost:8080/"
        },
        "id": "GZZNwT1HOzm4",
        "outputId": "d410b1f3-e717-4327-be8f-fe1d07ad4719"
      },
      "execution_count": 18,
      "outputs": [
        {
          "output_type": "stream",
          "name": "stdout",
          "text": [
            "'custom_corpus.txt' 파일이 생성되었습니다.\n"
          ]
        }
      ]
    },
    {
      "cell_type": "code",
      "source": [
        "import sentencepiece as spm\n",
        "\n",
        "spm.SentencePieceTrainer.Train(\n",
        "    input=corpus_file,\n",
        "    model_prefix=\"my_dialog_spm\",\n",
        "    vocab_size=8000,\n",
        "    character_coverage=1.0,\n",
        "    model_type=\"bpe\",\n",
        "    bos_id=1,\n",
        "    eos_id=2,\n",
        "    pad_id=0,\n",
        "    unk_id=3\n",
        ")\n",
        "\n",
        "print(\"SentencePiece 토크나이저 학습이 완료되었습니다.\")"
      ],
      "metadata": {
        "colab": {
          "base_uri": "https://localhost:8080/"
        },
        "id": "7yC4mg_UO3wd",
        "outputId": "a4d963c8-8ee0-4270-8fe5-b71686ac97d9"
      },
      "execution_count": 19,
      "outputs": [
        {
          "output_type": "stream",
          "name": "stdout",
          "text": [
            "SentencePiece 토크나이저 학습이 완료되었습니다.\n"
          ]
        }
      ]
    },
    {
      "cell_type": "code",
      "source": [
        "import sentencepiece as spm\n",
        "\n",
        "# 1단계: 'sp' 변수를 정의하고 SentencePieceProcessor 객체를 생성합니다.\n",
        "sp = spm.SentencePieceProcessor()\n",
        "\n",
        "# 2단계: 'sp' 객체를 이용해 모델을 불러옵니다.\n",
        "sp.Load(\"my_dialog_spm.model\")\n",
        "\n",
        "print(\"모델 로드 완료!\")"
      ],
      "metadata": {
        "colab": {
          "base_uri": "https://localhost:8080/"
        },
        "id": "zI-SIqOzPVd7",
        "outputId": "227cd3b5-f123-4587-d195-921440dd8091"
      },
      "execution_count": 20,
      "outputs": [
        {
          "output_type": "stream",
          "name": "stdout",
          "text": [
            "모델 로드 완료!\n"
          ]
        }
      ]
    },
    {
      "cell_type": "code",
      "source": [
        "# 'my_dialog_spm.model'을 불러옵니다.\n",
        "sp.Load(\"my_dialog_spm.model\")\n",
        "\n",
        "# 새로운 문장을 토큰 ID로 변환합니다.\n",
        "text = \"안녕하세요. 저는 AI 챗봇입니다.\"\n",
        "token_ids = sp.encode_as_ids(text)\n",
        "\n",
        "print(f\"원본 문장: {text}\")\n",
        "print(f\"토큰 ID: {token_ids}\")"
      ],
      "metadata": {
        "colab": {
          "base_uri": "https://localhost:8080/"
        },
        "id": "gP1SEcOMPFln",
        "outputId": "037f0420-181d-4892-9957-ac42ecfa60ce"
      },
      "execution_count": 21,
      "outputs": [
        {
          "output_type": "stream",
          "name": "stdout",
          "text": [
            "원본 문장: 안녕하세요. 저는 AI 챗봇입니다.\n",
            "토큰 ID: [4611, 3, 612, 3193, 3, 6774, 7969, 7407, 402, 3]\n"
          ]
        }
      ]
    },
    {
      "cell_type": "code",
      "source": [
        "# 예제 문장\n",
        "example_sentence = \"트랜스포머 모델에 데이터를 넣으려면 토큰화가 필요합니다.\"\n",
        "\n",
        "# 토큰화 (정수 ID로 변환)\n",
        "encoded_ids = sp.encode_as_ids(example_sentence)\n",
        "print(\"\\n--- 토크나이저 사용 예시 ---\")\n",
        "print(f\"원본 문장: {example_sentence}\")\n",
        "print(f\"정수 ID: {encoded_ids}\")\n",
        "\n",
        "# 토큰화 (서브워드 문자열로 변환)\n",
        "token_strings = sp.encode_as_pieces(example_sentence)\n",
        "print(f\"서브워드: {token_strings}\")\n",
        "\n",
        "# 디코딩 (정수 ID를 다시 문장으로 복원)\n",
        "decoded_sentence = sp.decode_ids(encoded_ids)\n",
        "print(f\"복원된 문장: {decoded_sentence}\")\n",
        "\n"
      ],
      "metadata": {
        "colab": {
          "base_uri": "https://localhost:8080/"
        },
        "id": "qQm2vYe3Pu3Y",
        "outputId": "d317e65b-358a-4c6b-95cd-25853bc3e14c"
      },
      "execution_count": 22,
      "outputs": [
        {
          "output_type": "stream",
          "name": "stdout",
          "text": [
            "\n",
            "--- 토크나이저 사용 예시 ---\n",
            "원본 문장: 트랜스포머 모델에 데이터를 넣으려면 토큰화가 필요합니다.\n",
            "정수 ID: [1951, 7257, 6863, 7149, 7042, 81, 7895, 6795, 240, 6776, 7023, 6832, 2322, 4293, 6774, 7392, 7205, 4077, 163, 275, 3]\n",
            "서브워드: ['▁트', '랜', '스', '포', '머', '▁모', '델', '에', '▁데', '이', '터', '를', '▁넣', '으려면', '▁', '토', '큰', '화가', '▁필요', '합니다', '.']\n",
            "복원된 문장: 트랜스포머 모델에 데이터를 넣으려면 토큰화가 필요합니다 ⁇ \n"
          ]
        }
      ]
    },
    {
      "cell_type": "markdown",
      "source": [
        "?? 가 문장 마지막에 붙었다 이는 sp 가 어휘에 없는 단어를 유니코드 대체문자 ' ' 또는 ? 으로 표현하기 때문이다"
      ],
      "metadata": {
        "id": "twY6rHSVP_rc"
      }
    },
    {
      "cell_type": "markdown",
      "source": [
        "# 데이터로더 생성"
      ],
      "metadata": {
        "id": "LqCvVen-HjrM"
      }
    },
    {
      "cell_type": "code",
      "source": [
        "class Dataset(Dataset):\n",
        "    def __init__(self, pairs, sp, max_length=40):\n",
        "        super().__init__()\n",
        "        self.sp = sp\n",
        "        self.max_length = max_length\n",
        "        self.data = []\n",
        "\n",
        "        for q_text, a_text in pairs:\n",
        "            # 1) 토크나이즈\n",
        "            q_ids = sp.EncodeAsIds(q_text)\n",
        "            a_ids = sp.EncodeAsIds(a_text)\n",
        "\n",
        "            # 2) [CLS]/[SEP] 같은 별도 스페셜 토큰을 쓸 수도 있으나,\n",
        "            #    여기서는 SentencePiece 기본 <s>, </s> 등 혹은 사용자 정의 토큰 활용 가능\n",
        "            #    간단히 <s>=sp.bos_id(), </s>=sp.eos_id()로 가정해본다면:\n",
        "            #    sp.SetEncodeExtraOptions(\"bos:eos\") 등으로 설정하는 방법도 있음.\n",
        "            # 여기서는 수동으로 bos/eos id를 붙인다고 가정\n",
        "            bos_id = sp.bos_id() if sp.bos_id() >= 0 else 1  # 혹은 임의값\n",
        "            eos_id = sp.eos_id() if sp.eos_id() >= 0 else 2\n",
        "\n",
        "            q_tokens = [bos_id] + q_ids + [eos_id]\n",
        "            a_tokens = [bos_id] + a_ids + [eos_id]\n",
        "\n",
        "            # 3) 길이 제한\n",
        "            if len(q_tokens) > max_length or len(a_tokens) > max_length:\n",
        "                continue\n",
        "\n",
        "            # 4) 고정 길이 패딩\n",
        "            q_tokens += [0]*(max_length - len(q_tokens))  # 0 -> <pad> 가정\n",
        "            a_tokens += [0]*(max_length - len(a_tokens))\n",
        "\n",
        "            # 5) 디코더 입력(dec_input): a_tokens[:-1], 타겟(outputs): a_tokens[1:]\n",
        "            #    (teacher forcing용)\n",
        "            dec_input = a_tokens[:-1]\n",
        "            target = a_tokens[1:]\n",
        "\n",
        "            self.data.append({\n",
        "                \"enc_input\": q_tokens,\n",
        "                \"dec_input\": dec_input,\n",
        "                \"target\": target\n",
        "            })\n",
        "\n",
        "    def __len__(self):\n",
        "        return len(self.data)\n",
        "\n",
        "    def __getitem__(self, idx):\n",
        "        sample = self.data[idx]\n",
        "        enc_input = torch.tensor(sample[\"enc_input\"], dtype=torch.long)\n",
        "        dec_input = torch.tensor(sample[\"dec_input\"], dtype=torch.long)\n",
        "        target = torch.tensor(sample[\"target\"], dtype=torch.long)\n",
        "        return enc_input, dec_input, target"
      ],
      "metadata": {
        "id": "t7keIEYVOBGk"
      },
      "execution_count": 23,
      "outputs": []
    },
    {
      "cell_type": "code",
      "source": [
        "dataset = Dataset(pairs, sp, max_length=40)"
      ],
      "metadata": {
        "id": "RMLkwm2JQ-lf"
      },
      "execution_count": 24,
      "outputs": []
    },
    {
      "cell_type": "code",
      "source": [
        "for encoder_input, decoder_input, decoder_label  in dataset:\n",
        "    print(\"텐서 크기 :\",encoder_input.size())\n",
        "    print(encoder_input)\n",
        "    print(sp.decode(encoder_input.tolist()))\n",
        "    print(decoder_input)\n",
        "    print(sp.decode(decoder_input.tolist()))\n",
        "    print(decoder_label)\n",
        "    print(sp.decode(decoder_label.tolist()))\n",
        "    break"
      ],
      "metadata": {
        "colab": {
          "base_uri": "https://localhost:8080/"
        },
        "id": "YN19AYY0RPLN",
        "outputId": "5d05a3ad-08be-407d-a613-0c8c82a91307"
      },
      "execution_count": 25,
      "outputs": [
        {
          "output_type": "stream",
          "name": "stdout",
          "text": [
            "텐서 크기 : torch.Size([40])\n",
            "tensor([   1, 5551, 6814, 3197,    2,    0,    0,    0,    0,    0,    0,    0,\n",
            "           0,    0,    0,    0,    0,    0,    0,    0,    0,    0,    0,    0,\n",
            "           0,    0,    0,    0,    0,    0,    0,    0,    0,    0,    0,    0,\n",
            "           0,    0,    0,    0])\n",
            "12시 땡\n",
            "tensor([   1, 4478,  211, 5920,    2,    0,    0,    0,    0,    0,    0,    0,\n",
            "           0,    0,    0,    0,    0,    0,    0,    0,    0,    0,    0,    0,\n",
            "           0,    0,    0,    0,    0,    0,    0,    0,    0,    0,    0,    0,\n",
            "           0,    0,    0])\n",
            "하루가 또 가네요\n",
            "tensor([4478,  211, 5920,    2,    0,    0,    0,    0,    0,    0,    0,    0,\n",
            "           0,    0,    0,    0,    0,    0,    0,    0,    0,    0,    0,    0,\n",
            "           0,    0,    0,    0,    0,    0,    0,    0,    0,    0,    0,    0,\n",
            "           0,    0,    0])\n",
            "하루가 또 가네요\n"
          ]
        }
      ]
    },
    {
      "cell_type": "code",
      "source": [
        "dataloader = DataLoader(dataset,batch_size=32,shuffle=True)"
      ],
      "metadata": {
        "id": "nW5Kd5-iRQbV"
      },
      "execution_count": 26,
      "outputs": []
    },
    {
      "cell_type": "code",
      "source": [
        "for encoder_input, decoder_input, decoder_label in dataloader:\n",
        "    print(encoder_input.size())\n",
        "    print(decoder_input.size())\n",
        "    print(decoder_label.size())\n",
        "    break"
      ],
      "metadata": {
        "colab": {
          "base_uri": "https://localhost:8080/"
        },
        "id": "_WAi5KJvRStm",
        "outputId": "7a50a2c7-0856-453f-daf3-6f4c5bda3cb7"
      },
      "execution_count": 27,
      "outputs": [
        {
          "output_type": "stream",
          "name": "stdout",
          "text": [
            "torch.Size([32, 40])\n",
            "torch.Size([32, 39])\n",
            "torch.Size([32, 39])\n"
          ]
        }
      ]
    },
    {
      "cell_type": "markdown",
      "source": [
        "# 모델 구성"
      ],
      "metadata": {
        "id": "mM1Dn1RrvK9P"
      }
    },
    {
      "cell_type": "code",
      "source": [
        "class PositionalEncoding(nn.Module):\n",
        "    def __init__(self, position, d_model):\n",
        "        super(PositionalEncoding, self).__init__()\n",
        "        self.d_model = d_model\n",
        "        self.position = position\n",
        "\n",
        "        self.pos_encoding = self._build_pos_encoding(position, d_model)\n",
        "\n",
        "    def _get_angles(self, position, i, d_model):\n",
        "        return 1.0 / (10000.0 ** ((2.0 * (i // 2)) / d_model)) * position\n",
        "\n",
        "    def _build_pos_encoding(self, position, d_model):\n",
        "        pos = torch.arange(position, dtype=torch.float32).unsqueeze(1)\n",
        "        i = torch.arange(d_model, dtype=torch.float32).unsqueeze(0)\n",
        "\n",
        "        angle_rads = self._get_angles(pos, i, d_model)\n",
        "        sines = torch.sin(angle_rads[:, 0::2])\n",
        "        cosines = torch.cos(angle_rads[:, 1::2])\n",
        "\n",
        "        pos_encoding = torch.zeros(position, d_model)\n",
        "        pos_encoding[:, 0::2] = sines\n",
        "        pos_encoding[:, 1::2] = cosines\n",
        "\n",
        "        pos_encoding = pos_encoding.unsqueeze(0)  # shape: [1, position, d_model]\n",
        "        return pos_encoding\n",
        "\n",
        "    def forward(self, x):\n",
        "        return x + self.pos_encoding[:, :x.size(1), :].to(x.device)"
      ],
      "metadata": {
        "id": "233t-JW_wHrA"
      },
      "execution_count": 28,
      "outputs": []
    },
    {
      "cell_type": "code",
      "source": [
        "def scaled_dot_product_attention(query, key, value, mask=None):\n",
        "\n",
        "    # 1) Q와 K의 내적을 통해 score(유사도) 계산\n",
        "    # key.transpose(-1, -2): (batch_size, heads, depth, seq_len)\n",
        "    # matmul 결과 shape: (batch_size, heads, seq_len, seq_len)\n",
        "    matmul_qk = torch.matmul(query, key.transpose(-1, -2))\n",
        "\n",
        "    # 2) depth에 따라 정규화\n",
        "    depth = key.size(-1)  # depth = d_model / heads\n",
        "    logits = matmul_qk / math.sqrt(depth)\n",
        "\n",
        "    # 3) 마스크가 주어졌다면 -1e9(아주 작은 값)를 더해 소프트맥스에서 제외시키도록 함\n",
        "    if mask is not None:\n",
        "        # 텐서플로우: logits += (mask * -1e9)\n",
        "        # 파이토치 동일 적용\n",
        "        logits = logits + (mask * -1e9)\n",
        "\n",
        "    # 4) 소프트맥스 계산해 attention weights 생성\n",
        "    attention_weights = F.softmax(logits, dim=-1)\n",
        "\n",
        "    # 5) attention weights와 value의 내적\n",
        "    output = torch.matmul(attention_weights, value)\n",
        "\n",
        "    return output, attention_weights"
      ],
      "metadata": {
        "id": "uBO9egziwerZ"
      },
      "execution_count": 29,
      "outputs": []
    },
    {
      "cell_type": "code",
      "source": [
        "class MultiHeadAttention(nn.Module):\n",
        "    def __init__(self, d_model, num_heads, name=\"multi_head_attention\"):\n",
        "        super(MultiHeadAttention, self).__init__()\n",
        "        self.num_heads = num_heads\n",
        "        self.d_model = d_model\n",
        "\n",
        "        # d_model은 num_heads로 나누어떨어져야 함\n",
        "        assert d_model % num_heads == 0\n",
        "\n",
        "        self.depth = d_model // num_heads\n",
        "\n",
        "        # 파이토치에서 Dense는 nn.Linear로 대응\n",
        "        self.query_dense = nn.Linear(d_model, d_model)\n",
        "        self.key_dense = nn.Linear(d_model, d_model)\n",
        "        self.value_dense = nn.Linear(d_model, d_model)\n",
        "\n",
        "        self.out_dense = nn.Linear(d_model, d_model)\n",
        "\n",
        "    def split_heads(self, x, batch_size):\n",
        "        \"\"\"\n",
        "        x: (batch_size, seq_len, d_model)\n",
        "        => (batch_size, num_heads, seq_len, depth) 형태로 변환\n",
        "        \"\"\"\n",
        "        x = x.view(batch_size, -1, self.num_heads, self.depth)\n",
        "        x = x.permute(0, 2, 1, 3)  # (batch_size, num_heads, seq_len, depth)\n",
        "        return x\n",
        "\n",
        "    def forward(self, query, key, value, mask=None):\n",
        "        \"\"\"\n",
        "        query, key, value: (batch_size, seq_len, d_model)\n",
        "        mask: (batch_size, 1, seq_len, seq_len) 등으로 broadcast 가능하도록 구성\n",
        "        \"\"\"\n",
        "        batch_size = query.size(0)\n",
        "\n",
        "        # Q, K, V에 각각 Linear 적용\n",
        "        query = self.query_dense(query)\n",
        "        key = self.key_dense(key)\n",
        "        value = self.value_dense(value)\n",
        "\n",
        "        # Head 분할\n",
        "        query = self.split_heads(query, batch_size)\n",
        "        key = self.split_heads(key, batch_size)\n",
        "        value = self.split_heads(value, batch_size)\n",
        "\n",
        "        # 스케일드 닷 프로덕트 어텐션\n",
        "        scaled_attention, _ = scaled_dot_product_attention(query, key, value, mask)\n",
        "\n",
        "        # (batch_size, num_heads, seq_len, depth) -> (batch_size, seq_len, num_heads, depth)\n",
        "        scaled_attention = scaled_attention.permute(0, 2, 1, 3).contiguous()\n",
        "\n",
        "        # 다시 (batch_size, seq_len, d_model)로 합치기\n",
        "        concat_attention = scaled_attention.view(batch_size, -1, self.d_model)\n",
        "\n",
        "        # 최종 Dense\n",
        "        output = self.out_dense(concat_attention)\n",
        "        return output\n"
      ],
      "metadata": {
        "id": "We_AYNQ7wmZe"
      },
      "execution_count": 30,
      "outputs": []
    },
    {
      "cell_type": "code",
      "source": [
        "def create_padding_mask(x):\n",
        "    # x == 0 위치를 찾아 float형 1로 변환\n",
        "    mask = (x == 0).float()\n",
        "    # (batch_size, seq_len) -> (batch_size, 1, 1, seq_len)\n",
        "    mask = mask.unsqueeze(1).unsqueeze(2)\n",
        "    return mask"
      ],
      "metadata": {
        "id": "YlUnwcHy0YgV"
      },
      "execution_count": 31,
      "outputs": []
    },
    {
      "cell_type": "code",
      "source": [
        "def create_look_ahead_mask(x):\n",
        "    seq_len = x.size(1)\n",
        "\n",
        "    # (seq_len, seq_len) 크기의 하삼각 행렬(tril) 생성 후 1에서 빼서\n",
        "    # 상삼각이 1, 하삼각(자기 자신 포함)이 0이 되도록 설정\n",
        "    # => 미래 토큰(자신 인덱스보다 큰 위치) 마스킹\n",
        "    look_ahead_mask = 1 - torch.tril(torch.ones((seq_len, seq_len)))\n",
        "\n",
        "    # 패딩 마스크 생성 (shape: (batch_size, 1, 1, seq_len))\n",
        "    padding_mask = create_padding_mask(x)\n",
        "\n",
        "    # look_ahead_mask: (seq_len, seq_len) -> (1, seq_len, seq_len)\n",
        "    look_ahead_mask = look_ahead_mask.unsqueeze(0)\n",
        "    # -> (1, seq_len, seq_len) -> (1, 1, seq_len, seq_len)\n",
        "    look_ahead_mask = look_ahead_mask.unsqueeze(1)\n",
        "    look_ahead_mask = look_ahead_mask.to(x.device)\n",
        "\n",
        "    # look-ahead 마스크와 패딩 마스크를 합성 (둘 중 하나라도 1이면 마스킹)\n",
        "    # 최종 shape은 브로드캐스팅으로 (batch_size, 1, seq_len, seq_len)\n",
        "    combined_mask = torch.max(look_ahead_mask, padding_mask)\n",
        "    return combined_mask"
      ],
      "metadata": {
        "id": "LIgKEDnF0ZYN"
      },
      "execution_count": 32,
      "outputs": []
    },
    {
      "cell_type": "code",
      "source": [
        "class EncoderLayer(nn.Module):\n",
        "    def __init__(self, d_model, num_heads, ff_dim, dropout=0.1):\n",
        "        super(EncoderLayer, self).__init__()\n",
        "        self.mha = MultiHeadAttention(d_model, num_heads)  # 이전에 구현한 MHA\n",
        "        self.dropout1 = nn.Dropout(dropout)\n",
        "        self.norm1 = nn.LayerNorm(d_model, eps=1e-6)\n",
        "\n",
        "        # 피드포워드 부분 (Dense -> ReLU -> Dense)\n",
        "        self.ffn = nn.Sequential(\n",
        "            nn.Linear(d_model, ff_dim),\n",
        "            nn.ReLU(),\n",
        "            nn.Linear(ff_dim, d_model)\n",
        "        )\n",
        "        self.dropout2 = nn.Dropout(dropout)\n",
        "        self.norm2 = nn.LayerNorm(d_model, eps=1e-6)\n",
        "\n",
        "    def forward(self, x, mask=None):\n",
        "        # (1) 멀티 헤드 어텐션 (셀프 어텐션)\n",
        "        attn_output = self.mha(x, x, x, mask)  # (batch_size, seq_len, d_model)\n",
        "        attn_output = self.dropout1(attn_output)\n",
        "        out1 = self.norm1(x + attn_output)     # 잔차 연결 + LayerNorm\n",
        "\n",
        "        # (2) 피드포워드 신경망\n",
        "        ffn_output = self.ffn(out1)            # (batch_size, seq_len, d_model)\n",
        "        ffn_output = self.dropout2(ffn_output)\n",
        "        out2 = self.norm2(out1 + ffn_output)   # 잔차 연결 + LayerNorm\n",
        "\n",
        "        return out2\n"
      ],
      "metadata": {
        "id": "kJo7C27r0Z6a"
      },
      "execution_count": 33,
      "outputs": []
    },
    {
      "cell_type": "code",
      "source": [
        "class Encoder(nn.Module):\n",
        "    def __init__(self,\n",
        "                 vocab_size,\n",
        "                 num_layers,\n",
        "                 ff_dim,\n",
        "                 d_model,\n",
        "                 num_heads,\n",
        "                 dropout=0.1):\n",
        "        super(Encoder, self).__init__()\n",
        "        self.d_model = d_model\n",
        "\n",
        "        # (1) 임베딩 레이어\n",
        "        self.embedding = nn.Embedding(vocab_size, d_model)\n",
        "\n",
        "        # (2) 포지셔널 인코딩\n",
        "        self.pos_encoding = PositionalEncoding(position=vocab_size, d_model=d_model)\n",
        "\n",
        "        self.dropout = nn.Dropout(dropout)\n",
        "\n",
        "        # (3) EncoderLayer 쌓기\n",
        "        self.enc_layers = nn.ModuleList([\n",
        "            EncoderLayer(d_model, num_heads, ff_dim, dropout)\n",
        "            for _ in range(num_layers)\n",
        "        ])\n",
        "\n",
        "    def forward(self, x, mask=None):\n",
        "        # (1) 임베딩 & sqrt(d_model)로 스케일링\n",
        "        x = self.embedding(x) * math.sqrt(self.d_model)\n",
        "\n",
        "        # (2) 포지셔널 인코딩 적용 + 드롭아웃\n",
        "        x = self.pos_encoding(x)  # shape: (batch_size, seq_len, d_model)\n",
        "        x = self.dropout(x)\n",
        "\n",
        "        # (3) num_layers만큼 쌓아올린 EncoderLayer 통과\n",
        "        for layer in self.enc_layers:\n",
        "            x = layer(x, mask)\n",
        "\n",
        "        return x"
      ],
      "metadata": {
        "id": "dM6uDdX_0Z4Y"
      },
      "execution_count": 34,
      "outputs": []
    },
    {
      "cell_type": "code",
      "source": [
        "class DecoderLayer(nn.Module):\n",
        "    def __init__(self, d_model, num_heads, ff_dim, dropout=0.1):\n",
        "        super(DecoderLayer, self).__init__()\n",
        "\n",
        "        # 첫 번째 서브 레이어 (디코더 내부 셀프 어텐션)\n",
        "        self.self_mha = MultiHeadAttention(d_model, num_heads)\n",
        "        self.norm1 = nn.LayerNorm(d_model, eps=1e-6)\n",
        "\n",
        "        # 두 번째 서브 레이어 (인코더-디코더 어텐션)\n",
        "        self.encdec_mha = MultiHeadAttention(d_model, num_heads)\n",
        "        self.norm2 = nn.LayerNorm(d_model, eps=1e-6)\n",
        "\n",
        "        # 세 번째 서브 레이어 (피드포워드 네트워크)\n",
        "        self.ffn = nn.Sequential(\n",
        "            nn.Linear(d_model, ff_dim),  # Dense(units=ff_dim)\n",
        "            nn.ReLU(),                   # activation='relu'\n",
        "            nn.Linear(ff_dim, d_model)   # Dense(units=d_model)\n",
        "        )\n",
        "        self.norm3 = nn.LayerNorm(d_model, eps=1e-6)\n",
        "\n",
        "        # 드롭아웃\n",
        "        self.dropout1 = nn.Dropout(dropout)\n",
        "        self.dropout2 = nn.Dropout(dropout)\n",
        "        self.dropout3 = nn.Dropout(dropout)\n",
        "\n",
        "    def forward(self, x, enc_outputs, look_ahead_mask=None, padding_mask=None):\n",
        "        # 1) 셀프 어텐션 (디코더 내부)\n",
        "        self_attn_out = self.self_mha(x, x, x, mask=look_ahead_mask)\n",
        "        self_attn_out = self.dropout1(self_attn_out)\n",
        "        out1 = self.norm1(x + self_attn_out)  # 잔차 연결 + LayerNorm\n",
        "\n",
        "        # 2) 인코더-디코더 어텐션\n",
        "        encdec_attn_out = self.encdec_mha(out1, enc_outputs, enc_outputs, mask=padding_mask)\n",
        "        encdec_attn_out = self.dropout2(encdec_attn_out)\n",
        "        out2 = self.norm2(out1 + encdec_attn_out)  # 잔차 연결 + LayerNorm\n",
        "\n",
        "        # 3) 피드포워드 (Dense -> ReLU -> Dense)\n",
        "        ffn_out = self.ffn(out2)\n",
        "        ffn_out = self.dropout3(ffn_out)\n",
        "        out3 = self.norm3(out2 + ffn_out)  # 잔차 연결 + LayerNorm\n",
        "\n",
        "        return out3"
      ],
      "metadata": {
        "id": "X2Ifz8hz0Z2I"
      },
      "execution_count": 35,
      "outputs": []
    },
    {
      "cell_type": "code",
      "source": [
        "class Decoder(nn.Module):\n",
        "    def __init__(self,\n",
        "                 vocab_size,\n",
        "                 num_layers,\n",
        "                 ff_dim,\n",
        "                 d_model,\n",
        "                 num_heads,\n",
        "                 dropout=0.1):\n",
        "        super(Decoder, self).__init__()\n",
        "        self.d_model = d_model\n",
        "\n",
        "        # (1) 임베딩 레이어\n",
        "        self.embedding = nn.Embedding(vocab_size, d_model)\n",
        "\n",
        "        # (2) 포지셔널 인코딩\n",
        "        # 실제 학습 시에는 최대 시퀀스 길이에 맞추어 쓰기도 함\n",
        "        self.pos_encoding = PositionalEncoding(position=vocab_size, d_model=d_model)\n",
        "\n",
        "        self.dropout = nn.Dropout(dropout)\n",
        "\n",
        "        # (3) DecoderLayer 쌓기\n",
        "        self.dec_layers = nn.ModuleList([\n",
        "            DecoderLayer(d_model, num_heads, ff_dim, dropout)\n",
        "            for _ in range(num_layers)\n",
        "        ])\n",
        "\n",
        "    def forward(self, x, enc_outputs, look_ahead_mask=None, padding_mask=None):\n",
        "        # (1) 임베딩 + sqrt(d_model)로 스케일링\n",
        "        x = self.embedding(x) * math.sqrt(self.d_model)\n",
        "\n",
        "        # (2) 포지셔널 인코딩 + 드롭아웃\n",
        "        x = self.pos_encoding(x)    # (batch_size, tgt_seq_len, d_model)\n",
        "        x = self.dropout(x)\n",
        "\n",
        "        # (3) num_layers만큼 쌓인 DecoderLayer 통과\n",
        "        for layer in self.dec_layers:\n",
        "            x = layer(x, enc_outputs, look_ahead_mask, padding_mask)\n",
        "\n",
        "        return x"
      ],
      "metadata": {
        "id": "5ORnP3ah0Zzy"
      },
      "execution_count": 36,
      "outputs": []
    },
    {
      "cell_type": "code",
      "source": [
        "class Transformer(nn.Module):\n",
        "    def __init__(self,\n",
        "                 vocab_size,\n",
        "                 num_layers,      # 인코더/디코더 층 수\n",
        "                 units,           # feed-forward 네트워크의 중간 차원(ff_dim)\n",
        "                 d_model,         # 임베딩 및 내부 표현 차원\n",
        "                 num_heads,       # 멀티헤드 어텐션의 헤드 수\n",
        "                 dropout=0.1):\n",
        "        super(Transformer, self).__init__()\n",
        "\n",
        "        # 인코더\n",
        "        self.encoder = Encoder(\n",
        "            vocab_size=vocab_size,\n",
        "            num_layers=num_layers,\n",
        "            ff_dim=units,\n",
        "            d_model=d_model,\n",
        "            num_heads=num_heads,\n",
        "            dropout=dropout\n",
        "        )\n",
        "\n",
        "        # 디코더\n",
        "        self.decoder = Decoder(\n",
        "            vocab_size=vocab_size,\n",
        "            num_layers=num_layers,\n",
        "            ff_dim=units,\n",
        "            d_model=d_model,\n",
        "            num_heads=num_heads,\n",
        "            dropout=dropout\n",
        "        )\n",
        "\n",
        "        # 최종 출력층: (d_model) -> (vocab_size)\n",
        "        self.final_linear = nn.Linear(d_model, vocab_size)\n",
        "\n",
        "        # 참고: 텐서플로우 코드의 `name=\"transformer\"`는 파이토치에선 보통 사용 안 함\n",
        "\n",
        "    def forward(self, inputs, dec_inputs):\n",
        "        # 1) 인코더 패딩 마스크 생성\n",
        "        enc_padding_mask = create_padding_mask(inputs)     # shape (batch_size, 1, 1, src_seq_len)\n",
        "\n",
        "        # 2) 디코더 look-ahead + 패딩 마스크\n",
        "        look_ahead_mask = create_look_ahead_mask(dec_inputs)  # shape (batch_size, 1, tgt_seq_len, tgt_seq_len)\n",
        "\n",
        "        # 3) 디코더에서 인코더 출력 쪽을 마스킹할 때 쓸 패딩 마스크\n",
        "        dec_padding_mask = create_padding_mask(inputs)        # shape (batch_size, 1, 1, src_seq_len)\n",
        "\n",
        "        # 4) 인코더 수행\n",
        "        enc_outputs = self.encoder(\n",
        "            x=inputs,\n",
        "            mask=enc_padding_mask\n",
        "        )  # shape: (batch_size, src_seq_len, d_model)\n",
        "\n",
        "        # 5) 디코더 수행\n",
        "        dec_outputs = self.decoder(\n",
        "            x=dec_inputs,           # (batch_size, tgt_seq_len)\n",
        "            enc_outputs=enc_outputs,# (batch_size, src_seq_len, d_model)\n",
        "            look_ahead_mask=look_ahead_mask,\n",
        "            padding_mask=dec_padding_mask\n",
        "        )  # shape: (batch_size, tgt_seq_len, d_model)\n",
        "\n",
        "        # 6) 최종 Dense (vocab_size)\n",
        "        logits = self.final_linear(dec_outputs)  # (batch_size, tgt_seq_len, vocab_size)\n",
        "        return logits"
      ],
      "metadata": {
        "id": "1sf2ptQ-0Zxf"
      },
      "execution_count": 37,
      "outputs": []
    },
    {
      "cell_type": "code",
      "source": [
        "# 예: 하이퍼파라미터 설정\n",
        "NUM_LAYERS = 2     # 인코더/디코더 층 수\n",
        "D_MODEL = 256      # 임베딩 및 내부 표현 차원\n",
        "NUM_HEADS = 8      # 멀티헤드 어텐션에서의 헤드 수\n",
        "UNITS = 512        # 피드포워드 신경망의 은닉 차원\n",
        "DROPOUT = 0.1      # 드롭아웃 비율\n",
        "VOCAB_SIZE = 8000 # 단어 집합 크기(예시)\n",
        "\n",
        "# 모델 생성\n",
        "model = Transformer(\n",
        "    vocab_size=VOCAB_SIZE,\n",
        "    num_layers=NUM_LAYERS,\n",
        "    units=UNITS,\n",
        "    d_model=D_MODEL,\n",
        "    num_heads=NUM_HEADS,\n",
        "    dropout=DROPOUT\n",
        ")\n",
        "\n",
        "print(model)"
      ],
      "metadata": {
        "id": "PobpZBaA0Zu-",
        "colab": {
          "base_uri": "https://localhost:8080/"
        },
        "outputId": "6e80fd25-e6e3-4303-ce82-1a70f48ec5af"
      },
      "execution_count": 38,
      "outputs": [
        {
          "output_type": "stream",
          "name": "stdout",
          "text": [
            "Transformer(\n",
            "  (encoder): Encoder(\n",
            "    (embedding): Embedding(8000, 256)\n",
            "    (pos_encoding): PositionalEncoding()\n",
            "    (dropout): Dropout(p=0.1, inplace=False)\n",
            "    (enc_layers): ModuleList(\n",
            "      (0-1): 2 x EncoderLayer(\n",
            "        (mha): MultiHeadAttention(\n",
            "          (query_dense): Linear(in_features=256, out_features=256, bias=True)\n",
            "          (key_dense): Linear(in_features=256, out_features=256, bias=True)\n",
            "          (value_dense): Linear(in_features=256, out_features=256, bias=True)\n",
            "          (out_dense): Linear(in_features=256, out_features=256, bias=True)\n",
            "        )\n",
            "        (dropout1): Dropout(p=0.1, inplace=False)\n",
            "        (norm1): LayerNorm((256,), eps=1e-06, elementwise_affine=True)\n",
            "        (ffn): Sequential(\n",
            "          (0): Linear(in_features=256, out_features=512, bias=True)\n",
            "          (1): ReLU()\n",
            "          (2): Linear(in_features=512, out_features=256, bias=True)\n",
            "        )\n",
            "        (dropout2): Dropout(p=0.1, inplace=False)\n",
            "        (norm2): LayerNorm((256,), eps=1e-06, elementwise_affine=True)\n",
            "      )\n",
            "    )\n",
            "  )\n",
            "  (decoder): Decoder(\n",
            "    (embedding): Embedding(8000, 256)\n",
            "    (pos_encoding): PositionalEncoding()\n",
            "    (dropout): Dropout(p=0.1, inplace=False)\n",
            "    (dec_layers): ModuleList(\n",
            "      (0-1): 2 x DecoderLayer(\n",
            "        (self_mha): MultiHeadAttention(\n",
            "          (query_dense): Linear(in_features=256, out_features=256, bias=True)\n",
            "          (key_dense): Linear(in_features=256, out_features=256, bias=True)\n",
            "          (value_dense): Linear(in_features=256, out_features=256, bias=True)\n",
            "          (out_dense): Linear(in_features=256, out_features=256, bias=True)\n",
            "        )\n",
            "        (norm1): LayerNorm((256,), eps=1e-06, elementwise_affine=True)\n",
            "        (encdec_mha): MultiHeadAttention(\n",
            "          (query_dense): Linear(in_features=256, out_features=256, bias=True)\n",
            "          (key_dense): Linear(in_features=256, out_features=256, bias=True)\n",
            "          (value_dense): Linear(in_features=256, out_features=256, bias=True)\n",
            "          (out_dense): Linear(in_features=256, out_features=256, bias=True)\n",
            "        )\n",
            "        (norm2): LayerNorm((256,), eps=1e-06, elementwise_affine=True)\n",
            "        (ffn): Sequential(\n",
            "          (0): Linear(in_features=256, out_features=512, bias=True)\n",
            "          (1): ReLU()\n",
            "          (2): Linear(in_features=512, out_features=256, bias=True)\n",
            "        )\n",
            "        (norm3): LayerNorm((256,), eps=1e-06, elementwise_affine=True)\n",
            "        (dropout1): Dropout(p=0.1, inplace=False)\n",
            "        (dropout2): Dropout(p=0.1, inplace=False)\n",
            "        (dropout3): Dropout(p=0.1, inplace=False)\n",
            "      )\n",
            "    )\n",
            "  )\n",
            "  (final_linear): Linear(in_features=256, out_features=8000, bias=True)\n",
            ")\n"
          ]
        }
      ]
    },
    {
      "cell_type": "code",
      "source": [
        "loss_function = nn.CrossEntropyLoss(ignore_index=sp.pad_id())"
      ],
      "metadata": {
        "id": "UQVrGP_d1SAD"
      },
      "execution_count": 39,
      "outputs": []
    },
    {
      "cell_type": "code",
      "source": [
        "def get_lr_lambda(d_model, warmup_steps=1000):\n",
        "    d_model = float(d_model)\n",
        "    def lr_lambda(step):\n",
        "        # step은 0부터 시작하므로 +1로 보정\n",
        "        step = step + 1\n",
        "        return (d_model ** -0.5) * min(step ** -0.5, step * (warmup_steps ** -1.5))\n",
        "    return lr_lambda"
      ],
      "metadata": {
        "id": "-pdDOpbe1R97"
      },
      "execution_count": 40,
      "outputs": []
    },
    {
      "cell_type": "code",
      "source": [
        "# 하이퍼파라미터 설정\n",
        "d_model = 512\n",
        "warmup_steps = 1000\n",
        "total_steps = 200000  # 총 학습 스텝\n",
        "\n",
        "# 학습률 스케줄 시각화\n",
        "steps = np.arange(1, total_steps + 1)\n",
        "learning_rates = [get_lr_lambda(d_model, warmup_steps)(step) for step in steps]\n",
        "\n",
        "# 그래프 출력\n",
        "plt.figure(figsize=(10, 5))\n",
        "plt.plot(steps, learning_rates, label=\"Learning Rate\")\n",
        "plt.xlabel(\"Training Steps\")\n",
        "plt.ylabel(\"Learning Rate\")\n",
        "plt.title(\"Transformer Learning Rate Schedule\")\n",
        "plt.legend()\n",
        "plt.grid(True)\n",
        "plt.show()\n"
      ],
      "metadata": {
        "id": "Q3rpSBgS1R7j",
        "colab": {
          "base_uri": "https://localhost:8080/",
          "height": 487
        },
        "outputId": "4163849a-9199-406c-a10f-cdcdbd3b6e0c"
      },
      "execution_count": 41,
      "outputs": [
        {
          "output_type": "display_data",
          "data": {
            "text/plain": [
              "<Figure size 1000x500 with 1 Axes>"
            ],
            "image/png": "[encoded data removed]"
          },
          "metadata": {}
        }
      ]
    },
    {
      "cell_type": "code",
      "source": [
        "# Optimizer 정의\n",
        "optimizer = optim.Adam(model.parameters(), betas=(0.9, 0.98), eps=1e-9)\n",
        "\n",
        "# Scheduler 정의\n",
        "scheduler = lr_scheduler.LambdaLR(optimizer, lr_lambda=get_lr_lambda(D_MODEL, warmup_steps=1000))\n",
        "\n",
        "def accuracy_function(y_pred, y_true, pad_id=0):\n",
        "    \"\"\"\n",
        "    y_pred: (batch_size, seq_len, vocab_size)\n",
        "    y_true: (batch_size, seq_len)\n",
        "    \"\"\"\n",
        "    preds = y_pred.argmax(dim=-1)  # (batch_size, seq_len)\n",
        "    mask = (y_true != pad_id)\n",
        "    correct = (preds == y_true) & mask\n",
        "    acc = correct.float().sum() / mask.float().sum()\n",
        "    return acc"
      ],
      "metadata": {
        "id": "jnsdMVAR1R11"
      },
      "execution_count": 42,
      "outputs": []
    },
    {
      "cell_type": "code",
      "source": [
        "device = torch.device('cuda' if torch.cuda.is_available() else 'cpu')\n",
        "print(device)\n",
        "model = model.to(device)"
      ],
      "metadata": {
        "id": "99teIGgg1RzT",
        "colab": {
          "base_uri": "https://localhost:8080/"
        },
        "outputId": "457f1ab7-652d-4b02-eee9-b3bf8dd9ae09"
      },
      "execution_count": 43,
      "outputs": [
        {
          "output_type": "stream",
          "name": "stdout",
          "text": [
            "cuda\n"
          ]
        }
      ]
    },
    {
      "cell_type": "code",
      "source": [
        "def train_step(model, batch, optimizer, loss_function, device):\n",
        "    model.train()\n",
        "    enc_input, dec_input, target = [x.to(device) for x in batch]\n",
        "\n",
        "    optimizer.zero_grad()\n",
        "\n",
        "    # 모델 포워드 패스\n",
        "    logits = model(enc_input, dec_input)  # (batch_size, seq_len, vocab_size)\n",
        "\n",
        "    # Loss 계산 (패딩 토큰 무시)\n",
        "    loss = loss_function(logits.permute(0, 2, 1), target)  # (batch_size, vocab_size, seq_len) 필요\n",
        "\n",
        "    # Backpropagation\n",
        "    loss.backward()\n",
        "    optimizer.step()\n",
        "\n",
        "    return loss.item(), accuracy_function(logits, target, pad_id=sp.pad_id())"
      ],
      "metadata": {
        "id": "6lFGaLSp1RxA"
      },
      "execution_count": 44,
      "outputs": []
    },
    {
      "cell_type": "code",
      "source": [
        "def train(model, dataloader, optimizer, loss_function, scheduler, num_epochs, device):\n",
        "    model.to(device)\n",
        "\n",
        "    for epoch in range(num_epochs):\n",
        "        total_loss, total_acc = 0, 0\n",
        "        for step, batch in enumerate(dataloader):\n",
        "            loss, acc = train_step(model, batch, optimizer, loss_function, device)\n",
        "            total_loss += loss\n",
        "            total_acc += acc\n",
        "\n",
        "            # 일정 스텝마다 로그 출력\n",
        "            if step % 100 == 0:\n",
        "                print(f\"[Epoch {epoch+1}, Step {step}] Loss: {loss:.4f}, Acc: {acc:.4f}\")\n",
        "\n",
        "            # 학습률 스케줄러 업데이트\n",
        "            scheduler.step()\n",
        "\n",
        "        avg_loss = total_loss / len(dataloader)\n",
        "        avg_acc = total_acc / len(dataloader)\n",
        "        print(f\"Epoch {epoch+1} Completed - Avg Loss: {avg_loss:.4f}, Avg Acc: {avg_acc:.4f}\")"
      ],
      "metadata": {
        "id": "Mv98BhH50Zsm"
      },
      "execution_count": 45,
      "outputs": []
    },
    {
      "cell_type": "code",
      "source": [
        "%%time\n",
        "\n",
        "train(\n",
        "    model=model,\n",
        "    dataloader=dataloader,\n",
        "    optimizer=optimizer,\n",
        "    loss_function=loss_function,\n",
        "    scheduler=scheduler,\n",
        "    num_epochs=20,  # 원하는 에폭 수\n",
        "    device=device\n",
        ")"
      ],
      "metadata": {
        "id": "auS9hXg_0Zlf",
        "colab": {
          "base_uri": "https://localhost:8080/"
        },
        "outputId": "14a6ff39-892a-4fa9-9790-84b3864a9cb9"
      },
      "execution_count": 46,
      "outputs": [
        {
          "output_type": "stream",
          "name": "stdout",
          "text": [
            "[Epoch 1, Step 0] Loss: 9.2682, Acc: 0.0000\n",
            "[Epoch 1, Step 100] Loss: 9.1538, Acc: 0.0000\n",
            "[Epoch 1, Step 200] Loss: 9.2109, Acc: 0.0000\n",
            "[Epoch 1, Step 300] Loss: 9.0984, Acc: 0.0000\n",
            "Epoch 1 Completed - Avg Loss: 9.1348, Avg Acc: 0.0001\n",
            "[Epoch 2, Step 0] Loss: 9.0300, Acc: 0.0000\n",
            "[Epoch 2, Step 100] Loss: 9.1205, Acc: 0.0041\n",
            "[Epoch 2, Step 200] Loss: 8.9208, Acc: 0.0054\n",
            "[Epoch 2, Step 300] Loss: 8.8530, Acc: 0.0273\n",
            "Epoch 2 Completed - Avg Loss: 8.9428, Avg Acc: 0.0128\n",
            "[Epoch 3, Step 0] Loss: 8.6744, Acc: 0.1006\n",
            "[Epoch 3, Step 100] Loss: 8.5356, Acc: 0.1648\n",
            "[Epoch 3, Step 200] Loss: 8.6591, Acc: 0.1667\n",
            "[Epoch 3, Step 300] Loss: 8.3714, Acc: 0.1798\n",
            "Epoch 3 Completed - Avg Loss: 8.5176, Avg Acc: 0.1539\n",
            "[Epoch 4, Step 0] Loss: 8.0526, Acc: 0.1951\n",
            "[Epoch 4, Step 100] Loss: 8.2582, Acc: 0.1524\n",
            "[Epoch 4, Step 200] Loss: 7.8995, Acc: 0.1905\n",
            "[Epoch 4, Step 300] Loss: 7.7843, Acc: 0.1975\n",
            "Epoch 4 Completed - Avg Loss: 8.0425, Avg Acc: 0.1748\n",
            "[Epoch 5, Step 0] Loss: 7.9318, Acc: 0.1749\n",
            "[Epoch 5, Step 100] Loss: 7.7964, Acc: 0.1808\n",
            "[Epoch 5, Step 200] Loss: 7.8943, Acc: 0.1592\n",
            "[Epoch 5, Step 300] Loss: 8.0361, Acc: 0.1468\n",
            "Epoch 5 Completed - Avg Loss: 7.8398, Avg Acc: 0.1747\n",
            "[Epoch 6, Step 0] Loss: 7.6925, Acc: 0.1893\n",
            "[Epoch 6, Step 100] Loss: 7.6356, Acc: 0.1850\n",
            "[Epoch 6, Step 200] Loss: 7.8540, Acc: 0.1641\n",
            "[Epoch 6, Step 300] Loss: 7.7408, Acc: 0.1778\n",
            "Epoch 6 Completed - Avg Loss: 7.7482, Avg Acc: 0.1747\n",
            "[Epoch 7, Step 0] Loss: 7.7081, Acc: 0.1739\n",
            "[Epoch 7, Step 100] Loss: 7.6884, Acc: 0.1730\n",
            "[Epoch 7, Step 200] Loss: 7.5681, Acc: 0.1928\n",
            "[Epoch 7, Step 300] Loss: 7.7429, Acc: 0.1778\n",
            "Epoch 7 Completed - Avg Loss: 7.6793, Avg Acc: 0.1748\n",
            "[Epoch 8, Step 0] Loss: 7.6947, Acc: 0.1649\n",
            "[Epoch 8, Step 100] Loss: 7.6517, Acc: 0.1720\n",
            "[Epoch 8, Step 200] Loss: 7.4665, Acc: 0.1893\n",
            "[Epoch 8, Step 300] Loss: 7.4810, Acc: 0.1850\n",
            "Epoch 8 Completed - Avg Loss: 7.6233, Avg Acc: 0.1746\n",
            "[Epoch 9, Step 0] Loss: 7.6073, Acc: 0.1768\n",
            "[Epoch 9, Step 100] Loss: 7.4912, Acc: 0.1798\n",
            "[Epoch 9, Step 200] Loss: 7.6046, Acc: 0.1808\n",
            "[Epoch 9, Step 300] Loss: 7.4042, Acc: 0.1893\n",
            "Epoch 9 Completed - Avg Loss: 7.5738, Avg Acc: 0.1748\n",
            "[Epoch 10, Step 0] Loss: 7.5213, Acc: 0.1720\n",
            "[Epoch 10, Step 100] Loss: 7.4178, Acc: 0.1928\n",
            "[Epoch 10, Step 200] Loss: 7.6320, Acc: 0.1684\n",
            "[Epoch 10, Step 300] Loss: 7.5028, Acc: 0.1758\n",
            "Epoch 10 Completed - Avg Loss: 7.5329, Avg Acc: 0.1748\n",
            "[Epoch 11, Step 0] Loss: 7.4752, Acc: 0.1882\n",
            "[Epoch 11, Step 100] Loss: 7.3595, Acc: 0.1882\n",
            "[Epoch 11, Step 200] Loss: 7.4445, Acc: 0.1850\n",
            "[Epoch 11, Step 300] Loss: 7.3686, Acc: 0.1871\n",
            "Epoch 11 Completed - Avg Loss: 7.4952, Avg Acc: 0.1747\n",
            "[Epoch 12, Step 0] Loss: 7.6609, Acc: 0.1576\n",
            "[Epoch 12, Step 100] Loss: 7.4874, Acc: 0.1839\n",
            "[Epoch 12, Step 200] Loss: 7.5300, Acc: 0.1641\n",
            "[Epoch 12, Step 300] Loss: 7.5423, Acc: 0.1616\n",
            "Epoch 12 Completed - Avg Loss: 7.4604, Avg Acc: 0.1748\n",
            "[Epoch 13, Step 0] Loss: 7.3242, Acc: 0.1882\n",
            "[Epoch 13, Step 100] Loss: 7.5146, Acc: 0.1649\n",
            "[Epoch 13, Step 200] Loss: 7.3890, Acc: 0.1839\n",
            "[Epoch 13, Step 300] Loss: 7.2002, Acc: 0.2025\n",
            "Epoch 13 Completed - Avg Loss: 7.4295, Avg Acc: 0.1748\n",
            "[Epoch 14, Step 0] Loss: 7.2602, Acc: 0.1905\n",
            "[Epoch 14, Step 100] Loss: 7.4229, Acc: 0.1720\n",
            "[Epoch 14, Step 200] Loss: 7.4196, Acc: 0.1768\n",
            "[Epoch 14, Step 300] Loss: 7.3149, Acc: 0.1798\n",
            "Epoch 14 Completed - Avg Loss: 7.3998, Avg Acc: 0.1747\n",
            "[Epoch 15, Step 0] Loss: 7.2050, Acc: 0.2092\n",
            "[Epoch 15, Step 100] Loss: 7.3497, Acc: 0.1693\n",
            "[Epoch 15, Step 200] Loss: 7.3493, Acc: 0.1829\n",
            "[Epoch 15, Step 300] Loss: 7.4337, Acc: 0.1808\n",
            "Epoch 15 Completed - Avg Loss: 7.3727, Avg Acc: 0.1747\n",
            "[Epoch 16, Step 0] Loss: 7.3461, Acc: 0.1916\n",
            "[Epoch 16, Step 100] Loss: 7.4676, Acc: 0.1641\n",
            "[Epoch 16, Step 200] Loss: 7.3384, Acc: 0.1684\n",
            "[Epoch 16, Step 300] Loss: 7.2615, Acc: 0.1893\n",
            "Epoch 16 Completed - Avg Loss: 7.3467, Avg Acc: 0.1747\n",
            "[Epoch 17, Step 0] Loss: 7.3454, Acc: 0.1633\n",
            "[Epoch 17, Step 100] Loss: 7.1936, Acc: 0.1939\n",
            "[Epoch 17, Step 200] Loss: 7.3921, Acc: 0.1720\n",
            "[Epoch 17, Step 300] Loss: 7.3293, Acc: 0.1749\n",
            "Epoch 17 Completed - Avg Loss: 7.3216, Avg Acc: 0.1748\n",
            "[Epoch 18, Step 0] Loss: 7.3370, Acc: 0.1711\n",
            "[Epoch 18, Step 100] Loss: 7.4454, Acc: 0.1684\n",
            "[Epoch 18, Step 200] Loss: 7.3926, Acc: 0.1641\n",
            "[Epoch 18, Step 300] Loss: 7.4334, Acc: 0.1720\n",
            "Epoch 18 Completed - Avg Loss: 7.2989, Avg Acc: 0.1748\n",
            "[Epoch 19, Step 0] Loss: 7.2775, Acc: 0.1778\n",
            "[Epoch 19, Step 100] Loss: 7.2032, Acc: 0.1829\n",
            "[Epoch 19, Step 200] Loss: 7.1605, Acc: 0.1928\n",
            "[Epoch 19, Step 300] Loss: 7.2908, Acc: 0.1684\n",
            "Epoch 19 Completed - Avg Loss: 7.2777, Avg Acc: 0.1748\n",
            "[Epoch 20, Step 0] Loss: 7.0617, Acc: 0.1916\n",
            "[Epoch 20, Step 100] Loss: 7.1971, Acc: 0.1818\n",
            "[Epoch 20, Step 200] Loss: 7.0398, Acc: 0.1916\n",
            "[Epoch 20, Step 300] Loss: 7.3014, Acc: 0.1818\n",
            "Epoch 20 Completed - Avg Loss: 7.2578, Avg Acc: 0.1747\n",
            "CPU times: user 2min 42s, sys: 669 ms, total: 2min 42s\n",
            "Wall time: 2min 45s\n"
          ]
        }
      ]
    },
    {
      "cell_type": "code",
      "source": [
        "torch.save(model, 'model.pth')\n",
        "\n"
      ],
      "metadata": {
        "id": "orkWmoGdUEUG"
      },
      "execution_count": 47,
      "outputs": []
    },
    {
      "cell_type": "markdown",
      "source": [
        "# 모델 평가"
      ],
      "metadata": {
        "id": "RMTBMZmJvRC7"
      }
    },
    {
      "cell_type": "code",
      "source": [
        "import torch\n",
        "import sentencepiece as spm\n",
        "\n",
        "# 1. 모델과 토크나이저 불러오기\n",
        "# 학습된 SentencePiece 토크나이저 모델 로드\n",
        "sp = spm.SentencePieceProcessor()\n",
        "sp.Load(\"my_dialog_spm.model\") # SentencePiece 모델 파일 경로\n",
        "\n",
        "# 학습된 PyTorch 모델 불러오기\n",
        "# torch.load는 모델 객체를 직접 로드합니다.\n",
        "model = torch.load('model.pth', weights_only=False)\n",
        "\n",
        "# 2. 모델을 평가 모드로 전환 및 디바이스 설정\n",
        "\n",
        "device = torch.device('cuda' if torch.cuda.is_available() else 'cpu')\n",
        "model = model.to(device)\n",
        "\n",
        "model.eval()\n",
        "\n",
        "# 3. 무한 루프를 이용한 대화 시작\n",
        "print(\"챗봇과 대화를 시작합니다! (종료하려면 '종료'를 입력하세요)\")\n",
        "\n",
        "# 최대 응답 길이는 학습 시 설정한 max_length와 일치시키는 것이 좋습니다.\n",
        "MAX_RESPONSE_LENGTH = 40 # 데이터셋 생성 시 사용한 max_length와 동일하게 설정\n",
        "\n",
        "while True:\n",
        "    user_input = input(\"나: \")\n",
        "    if user_input.strip().lower() == '종료':\n",
        "        print(\"대화를 종료합니다.\")\n",
        "        break\n",
        "\n",
        "    # 입력 문장 전처리 (학습 시와 동일하게)\n",
        "    cleaned_input = remove_special_characters(user_input)\n",
        "\n",
        "    # 입력 문장을 토큰 ID로 변환\n",
        "    # SentencePiece의 encode_as_ids 사용\n",
        "    input_ids = sp.encode_as_ids(cleaned_input)\n",
        "\n",
        "    # 데이터셋 클래스에서 사용한 [BOS] 및 [EOS] 토큰 추가\n",
        "    bos_id = sp.bos_id() if sp.bos_id() >= 0 else 1\n",
        "    eos_id = sp.eos_id() if sp.eos_id() >= 0 else 2\n",
        "    pad_id = sp.pad_id() if sp.pad_id() >= 0 else 0\n",
        "\n",
        "    input_tokens = [bos_id] + input_ids + [eos_id]\n",
        "\n",
        "    # 패딩 (학습 시 사용한 max_length에 맞춰 패딩)\n",
        "    # 인코더 입력은 max_length, 디코더 입력/타겟은 max_length-1 이었음을 고려\n",
        "    # 추론 시에는 인코더 입력만 필요하며, 디코더 입력은 <sos> 부터 시작해서 생성\n",
        "    # 여기서는 간단하게 인코더 입력을 max_length에 맞춰 패딩합니다.\n",
        "    # 실제 추론 함수에서는 디코더 입력 생성 로직이 필요합니다.\n",
        "    # 이 예시에서는 간단한 시퀀스 생성 로직을 구현합니다.\n",
        "\n",
        "    # 인코더 입력 텐서 준비\n",
        "    enc_input = torch.tensor([input_tokens], dtype=torch.long, device=device)\n",
        "    # 패딩 처리 (MAX_RESPONSE_LENGTH에 맞춰도 무방하며, 모델 학습 길이에 맞춰야 함)\n",
        "    enc_input = torch.nn.functional.pad(enc_input, (0, MAX_RESPONSE_LENGTH - enc_input.size(1)), \"constant\", pad_id)\n",
        "\n",
        "\n",
        "    # 모델 추론 (Seq2Seq 추론 로직 필요)\n",
        "    # Transformer 모델의 생성은 조금 더 복잡하며, 토큰 하나씩 생성하며\n",
        "    # 디코더의 입력으로 이전 스텝의 생성 결과를 사용하는 방식을 따릅니다.\n",
        "    # 여기서는 간소화된 추론 예시를 보여줍니다.\n",
        "\n",
        "    # 디코더 입력 초기화: [BOS] 토큰으로 시작\n",
        "    dec_input = torch.tensor([[bos_id]], dtype=torch.long, device=device)\n",
        "\n",
        "    generated_tokens = []\n",
        "    with torch.no_grad():\n",
        "        # MAX_RESPONSE_LENGTH까지 토큰 생성 시도\n",
        "        for _ in range(MAX_RESPONSE_LENGTH -1): # -1은 BOS 토큰 제외\n",
        "            # 인코더 출력 계산 (입력 문장은 고정)\n",
        "            enc_outputs = model.encoder(enc_input, create_padding_mask(enc_input))\n",
        "\n",
        "            # 디코더의 look-ahead 마스크 및 패딩 마스크 생성\n",
        "            look_ahead_mask = create_look_ahead_mask(dec_input)\n",
        "            dec_padding_mask = create_padding_mask(enc_input) # 인코더 입력에 대한 패딩 마스크\n",
        "\n",
        "            # 디코더 수행\n",
        "            dec_outputs = model.decoder(\n",
        "                x=dec_input,\n",
        "                enc_outputs=enc_outputs,\n",
        "                look_ahead_mask=look_ahead_mask,\n",
        "                padding_mask=dec_padding_mask\n",
        "            )\n",
        "\n",
        "            # 최종 출력층 통과하여 다음 토큰 예측 로짓 얻기\n",
        "            logits = model.final_linear(dec_outputs[:, -1:, :]) # 마지막 토큰에 대한 로짓만 사용\n",
        "\n",
        "            # 다음 토큰 ID 선택 (가장 높은 확률의 토큰 선택, Greedy Search)\n",
        "            next_token_id = torch.argmax(logits, dim=-1).squeeze().item()\n",
        "\n",
        "            # [EOS] 토큰이 생성되면 생성 중단\n",
        "            if next_token_id == eos_id or next_token_id == pad_id:\n",
        "                break\n",
        "\n",
        "            # 생성된 토큰 추가\n",
        "            generated_tokens.append(next_token_id)\n",
        "\n",
        "            # 다음 스텝의 디코더 입력으로 현재 생성된 토큰 추가\n",
        "            dec_input = torch.cat([dec_input, torch.tensor([[next_token_id]], dtype=torch.long, device=device)], dim=1)\n",
        "\n",
        "    # 생성된 토큰 ID들을 문장으로 디코딩\n",
        "    response = sp.decode_ids(generated_tokens)\n",
        "\n",
        "    print(f\"챗봇: {response}\")"
      ],
      "metadata": {
        "id": "fj9cM14BvM-w",
        "colab": {
          "base_uri": "https://localhost:8080/"
        },
        "outputId": "b06c34b7-20fe-4889-8073-52692d488fe2"
      },
      "execution_count": 49,
      "outputs": [
        {
          "output_type": "stream",
          "name": "stdout",
          "text": [
            "챗봇과 대화를 시작합니다! (종료하려면 '종료'를 입력하세요)\n",
            "나: 안녕\n",
            "챗봇: \n",
            "나: 오늘 날씨가 어때\n",
            "챗봇: \n",
            "나: wasdf\n",
            "챗봇: \n",
            "나: 종료\n",
            "대화를 종료합니다.\n"
          ]
        }
      ]
    },
    {
      "cell_type": "code",
      "source": [],
      "metadata": {
        "id": "XmGxqXTNVVc6"
      },
      "execution_count": null,
      "outputs": []
    }
  ]
}