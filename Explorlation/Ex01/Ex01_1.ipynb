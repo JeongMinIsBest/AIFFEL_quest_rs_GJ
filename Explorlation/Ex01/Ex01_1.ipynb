{
 "cells": [
  {
   "cell_type": "code",
   "execution_count": 135,
   "id": "6b9a2930-83bb-4a80-bd76-1cc8ae37cb8b",
   "metadata": {},
   "outputs": [],
   "source": [
    "from sklearn.datasets import load_diabetes\n",
    "data = load_diabetes()\n",
    "df_X = data.data\n",
    "df_y = data.target"
   ]
  },
  {
   "cell_type": "code",
   "execution_count": 136,
   "id": "14df0bea-e626-40c8-a068-1d58bcbc5e33",
   "metadata": {},
   "outputs": [
    {
     "name": "stdout",
     "output_type": "stream",
     "text": [
      "<class 'numpy.ndarray'> float64\n"
     ]
    }
   ],
   "source": [
    "import numpy as np\n",
    "\n",
    "X = np.array(df_X)\n",
    "\n",
    "print(type(X), X.dtype)"
   ]
  },
  {
   "cell_type": "code",
   "execution_count": 137,
   "id": "4cc6fa4d-d919-4060-8748-7805a58ba023",
   "metadata": {},
   "outputs": [
    {
     "name": "stdout",
     "output_type": "stream",
     "text": [
      "<class 'numpy.ndarray'> float64\n"
     ]
    }
   ],
   "source": [
    "y = np.array(df_y)\n",
    "\n",
    "print(type(y), y.dtype)"
   ]
  },
  {
   "cell_type": "code",
   "execution_count": 138,
   "id": "096202e5-c003-4a2a-ac92-853b34b7eca1",
   "metadata": {},
   "outputs": [
    {
     "name": "stdout",
     "output_type": "stream",
     "text": [
      "(353, 10) (353,)\n",
      "(89, 10) (89,)\n"
     ]
    }
   ],
   "source": [
    "from sklearn.model_selection import train_test_split\n",
    "X_train, X_test, y_train, y_test = train_test_split(\n",
    "    X, y, test_size=0.2, random_state=42\n",
    ")\n",
    "\n",
    "print(X_train.shape, y_train.shape)\n",
    "print(X_test.shape, y_test.shape)"
   ]
  },
  {
   "cell_type": "code",
   "execution_count": 139,
   "id": "eb222bbf-e47a-46bd-b2f9-065b28fb942f",
   "metadata": {},
   "outputs": [
    {
     "name": "stdout",
     "output_type": "stream",
     "text": [
      "10\n"
     ]
    }
   ],
   "source": [
    "W = np.random.rand(X_train.shape[1])\n",
    "b = np.random.rand()\n",
    "\n",
    "print(len(W))"
   ]
  },
  {
   "cell_type": "code",
   "execution_count": 140,
   "id": "f6629834-7708-47bc-adb8-7fa4cbad931d",
   "metadata": {},
   "outputs": [],
   "source": [
    "def model(X, W, b):\n",
    "    predictions = 0\n",
    "    for i in range(len(W)):\n",
    "        predictions += X[:, i] * W[i]\n",
    "    predictions += b\n",
    "    return predictions"
   ]
  },
  {
   "cell_type": "code",
   "execution_count": 141,
   "id": "fe56bdbb-92fa-454e-b3de-ae641723409f",
   "metadata": {},
   "outputs": [],
   "source": [
    "def MSE(a, b):\n",
    "    mse = ((a - b) ** 2).mean()  # 두 값의 차이의 제곱의 평균\n",
    "    return mse"
   ]
  },
  {
   "cell_type": "code",
   "execution_count": 142,
   "id": "bc1380f2-e00b-45a7-9660-4b5939a14ded",
   "metadata": {},
   "outputs": [],
   "source": [
    "def loss(X, W, b, y):\n",
    "    predictions = model(X, W, b)\n",
    "    L = MSE(predictions, y)\n",
    "    return L"
   ]
  },
  {
   "cell_type": "code",
   "execution_count": 143,
   "id": "b88abb36-d2fe-4153-8e90-15cb612f0b08",
   "metadata": {},
   "outputs": [],
   "source": [
    "def gradient(X, W, b, y):\n",
    "    N = len(y)\n",
    "\n",
    "    y_pred = model(X, W, b)\n",
    "\n",
    "    dW = 1/N * 2 * X.T.dot(y_pred - y)\n",
    "\n",
    "    db = 2 * (y_pred - y).mean()\n",
    "    return dW, db"
   ]
  },
  {
   "cell_type": "code",
   "execution_count": 144,
   "id": "608a475b-822d-439a-b47b-8552a7cef101",
   "metadata": {},
   "outputs": [],
   "source": [
    "LEARNING_RATE = 0.4"
   ]
  },
  {
   "cell_type": "code",
   "execution_count": 145,
   "id": "4148513a-a4cb-4f9d-8672-752122bf5a5b",
   "metadata": {
    "scrolled": true
   },
   "outputs": [
    {
     "name": "stdout",
     "output_type": "stream",
     "text": [
      "Iteration 100 : Loss 4218.4678\n",
      "Iteration 200 : Loss 3599.9450\n",
      "Iteration 300 : Loss 3330.6235\n",
      "Iteration 400 : Loss 3184.2205\n",
      "Iteration 500 : Loss 3093.6569\n",
      "Iteration 600 : Loss 3034.1287\n",
      "Iteration 700 : Loss 2993.8825\n",
      "Iteration 800 : Loss 2966.2471\n",
      "Iteration 900 : Loss 2947.0593\n",
      "Iteration 1000 : Loss 2933.6061\n"
     ]
    },
    {
     "data": {
      "text/plain": [
       "np.float64(2864.5195177474716)"
      ]
     },
     "execution_count": 145,
     "metadata": {},
     "output_type": "execute_result"
    }
   ],
   "source": [
    "%timeit -n 1 -r 1\n",
    "global W, b\n",
    "\n",
    "losses = []\n",
    "\n",
    "for i in range(1, 1001):\n",
    "    dW, db = gradient(X_train, W, b, y_train)\n",
    "    W -= LEARNING_RATE * dW\n",
    "    b -= LEARNING_RATE * db\n",
    "    L = loss(X_train, W, b, y_train)\n",
    "    losses.append(L)\n",
    "    if i % 100 == 0:\n",
    "        print('Iteration %d : Loss %0.4f' % (i, L))\n",
    "\n",
    "prediction = model(X_test, W, b)\n",
    "mse = loss(X_test, W, b, y_test)\n",
    "mse"
   ]
  },
  {
   "cell_type": "markdown",
   "id": "47b9774b-a5e8-4cbb-b16d-28cebc049bee",
   "metadata": {},
   "source": [
    "loss가 잘 줄어든다"
   ]
  },
  {
   "cell_type": "markdown",
   "id": "5795f3f1-4fd1-4243-babe-e3a6677fa2c9",
   "metadata": {},
   "source": [
    "아마 y 를 정규화 한다면 loss가 3000이상 처럼 큰 수는 나오지 않을것 같다.(이러면 치팅인가요..?)"
   ]
  },
  {
   "cell_type": "code",
   "execution_count": 147,
   "id": "4a6911a5-aff9-40f9-807c-7861ff607bb9",
   "metadata": {},
   "outputs": [
    {
     "data": {
      "image/png": "[encoded data removed]",
      "text/plain": [
       "<Figure size 640x480 with 1 Axes>"
      ]
     },
     "metadata": {},
     "output_type": "display_data"
    }
   ],
   "source": [
    "import matplotlib.pyplot as plt\n",
    "\n",
    "plt.scatter(X_test[:, 0], y_test, color='blue', label='True')\n",
    "plt.scatter(X_test[:, 0], prediction, color='red', alpha=0.6, label='Predicted')\n",
    "plt.legend()\n",
    "plt.show()\n"
   ]
  },
  {
   "cell_type": "markdown",
   "id": "819a39f7-77f6-4a73-bf9a-499676211468",
   "metadata": {},
   "source": [
    "가독성 좋게 시각화 부분을 개선"
   ]
  }
 ],
 "metadata": {
  "kernelspec": {
   "display_name": "Python 3 (ipykernel)",
   "language": "python",
   "name": "python3"
  },
  "language_info": {
   "codemirror_mode": {
    "name": "ipython",
    "version": 3
   },
   "file_extension": ".py",
   "mimetype": "text/x-python",
   "name": "python",
   "nbconvert_exporter": "python",
   "pygments_lexer": "ipython3",
   "version": "3.13.1"
  }
 },
 "nbformat": 4,
 "nbformat_minor": 5
}

