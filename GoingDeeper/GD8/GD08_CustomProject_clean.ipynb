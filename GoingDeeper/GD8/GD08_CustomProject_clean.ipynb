{
 "cells": [
  {
   "cell_type": "code",
   "execution_count": 18,
   "id": "vMXNHoN57Qvh",
   "metadata": {
    "colab": {
     "base_uri": "https://localhost:8080/"
    },
    "id": "vMXNHoN57Qvh",
    "outputId": "c9172dda-7ac4-4a5f-d82e-d93c3d7ab7da"
   },
   "outputs": [],
   "source": [
    "import numpy as np\n",
    "from datasets import load_dataset\n",
    "import transformers\n",
    "from transformers import (\n",
    "    AutoTokenizer,\n",
    "    AutoModelForSequenceClassification,\n",
    "    TrainingArguments,\n",
    "    Trainer,\n",
    "    DataCollatorWithPadding,\n",
    ")\n",
    "from sklearn.metrics import accuracy_score, f1_score\n",
    "\n",
    "print(transformers.__version__)\n"
   ]
  },
  {
   "cell_type": "code",
   "execution_count": 19,
   "id": "IaAqvYIh9-nS",
   "metadata": {
    "colab": {
     "base_uri": "https://localhost:8080/"
    },
    "id": "IaAqvYIh9-nS",
    "outputId": "cc011e31-ba74-4429-8938-2ed43c45af82"
   },
   "outputs": [],
   "source": [
    "help(TrainingArguments)\n"
   ]
  },
  {
   "cell_type": "code",
   "execution_count": 4,
   "id": "-pR0zfi78WVT",
   "metadata": {
    "colab": {
     "base_uri": "https://localhost:8080/"
    },
    "id": "-pR0zfi78WVT",
    "outputId": "21b08d94-7f31-49b8-ebf2-16c569a075d8"
   },
   "outputs": [],
   "source": [
    "!wget https://raw.githubusercontent.com/e9t/nsmc/master/ratings_test.txt\n",
    "!wget https://raw.githubusercontent.com/e9t/nsmc/master/ratings_train.txt"
   ]
  },
  {
   "cell_type": "code",
   "execution_count": 5,
   "id": "_zielAIy7Qtj",
   "metadata": {
    "colab": {
     "base_uri": "https://localhost:8080/"
    },
    "id": "_zielAIy7Qtj",
    "outputId": "24184125-a5f1-422b-f151-48e7c46842a1"
   },
   "outputs": [],
   "source": [
    "import pandas as pd\n",
    "from datasets import Dataset, DatasetDict\n",
    "\n",
    "# 로컬에서 불러오기\n",
    "train_df = pd.read_csv(\"ratings_train.txt\", sep=\"\\t\")\n",
    "test_df = pd.read_csv(\"ratings_test.txt\", sep=\"\\t\")\n",
    "\n",
    "# Dataset으로 변환\n",
    "train_ds = Dataset.from_pandas(train_df)\n",
    "test_ds = Dataset.from_pandas(test_df)\n",
    "\n",
    "# train/val 나누기\n",
    "train_valid = train_ds.train_test_split(test_size=0.1, seed=42)\n",
    "train_ds = train_valid[\"train\"]\n",
    "val_ds = train_valid[\"test\"]\n",
    "\n",
    "dataset = DatasetDict({\n",
    "    \"train\": train_ds,\n",
    "    \"validation\": val_ds,\n",
    "    \"test\": test_ds\n",
    "})\n",
    "\n",
    "print(dataset)\n"
   ]
  },
  {
   "cell_type": "code",
   "execution_count": 12,
   "id": "Bc-cE7VI9Uj_",
   "metadata": {
    "colab": {
     "base_uri": "https://localhost:8080/",
     "height": 113,
     "referenced_widgets": [
      "aba21e06051c4695b21f29e01e46f1a7",
      "dc89eda47feb43c28bee297d7158499c",
      "c61c73a45f4d4b209b0f7dab3030860d",
      "a9fe81ae922d48cda055513ba3044015",
      "d27fbe2ba2e84a26b7c78aa137b4e5d4",
      "43ce614f3a024d8f8b0e96d49312d487",
      "1583fc7467b4484b9956b7bb053a9ce0",
      "f2ffb8f5406d4b9e98587960bdf71fa0",
      "55816a430a58405e81d8ee180170b79d",
      "99642cb2d9cf4aa2a7c274bbf4f698c7",
      "e8e22d30601948f29fc2ec393691dda2",
      "352fe1856eb442d5b428e334ee31b04a",
      "7407a1593a284b27aa9ce6fd657b4030",
      "c7f15d2e7d8941408657dac4e4e183d0",
      "fb918ea617a64f36b618723ee9704270",
      "96cd45770766494dac5e6beadff9a37f",
      "622bf81430114441a025e8869a57e4b8",
      "9656284cfa994f108087fc20df8772f7",
      "c0c55dc0a94c4738b70952f27ea59f27",
      "1544aa389e674ee5bbd81e81dc55b510",
      "f067427720414f9a89665752754d7245",
      "4591aa594dd94899ac83d80a0680c1b6",
      "70b5936f89c84b6e81356862d6e70f2d",
      "42dec1f9fe47496e8e9f580fe640bd0e",
      "91fd07976e924fe5a9ed3d905ba81103",
      "9d25ee19dc5f4b06ab92d0bcab62a307",
      "313dba9c7e4c45388810df8af5750bba",
      "364f8e41edf04376addcc4b7d738429c",
      "536c06b539654f489ff8273cba1e8e94",
      "241212096c14419298b53c868bda0456",
      "33487ca69ee44a88a95e6b9f264a2c43",
      "f43feeb30b894819be3269a6151e163a",
      "c5fbf43ea076473c9d87c6fb122bbdda"
     ]
    },
    "id": "Bc-cE7VI9Uj_",
    "outputId": "9d9aae55-20a2-47c9-96a1-b78f9bae1d38"
   },
   "outputs": [],
   "source": [
    "#결측치 제거\n",
    "train_ds = train_ds.filter(lambda x: x[\"document\"] is not None)\n",
    "val_ds = val_ds.filter(lambda x: x[\"document\"] is not None)\n",
    "test_ds = test_ds.filter(lambda x: x[\"document\"] is not None)\n"
   ]
  },
  {
   "cell_type": "code",
   "execution_count": 6,
   "id": "Dxs4u8-K7QrN",
   "metadata": {
    "colab": {
     "base_uri": "https://localhost:8080/",
     "height": 265,
     "referenced_widgets": [
      "86f09d9b384841be8bad4ef74ec20b32",
      "23fc51485a754be0a94a3fed4fc741c5",
      "82e651e320b74019b1da65041f469e61",
      "919ec1bbb82c4b4687665305c16835ea",
      "da22bb4dc0b04e9b9c0c6f9c365e88fe",
      "82c92eca222041c59b64b7bb477a00e4",
      "3c400f3f911046ab8e5516682893928f",
      "c11732f4ffb049a9a259685ddeb20217",
      "38a6de12a9124663a21cb92f6255ce36",
      "295a8d8e30f1438e8bb862e468e8ce97",
      "da72c9185748449d948566298cdc5d32",
      "337ffa53c7ce462dbf5a44ed420384f3",
      "e3946a8a839f483485a191f6ede0bc8f",
      "2717352a2f8643c6acdcc3854c67452c",
      "f299d7acce8b493ca4042827cef5c366",
      "7959ff52af9e47408eec97b75f4fb62c",
      "1565f9e384d6453582d966865525bbb7",
      "a734214a47f5446b90d983a008dd0b74",
      "ace44578d63640dfbd9557b75fb83d48",
      "cca54efe234c4133845d92a02b7ddfc4",
      "055b0e53c89f4b6aba8cdf5e6cd012de",
      "80f453d97f08475ebd0f37e606e3bdf6",
      "d5faf817e3a0469a9e98944f3c31e225",
      "51c061bda44645f3a844f99788116290",
      "2333f8c31fbf45a3944bb3f077d18355",
      "9241e04c79f749a1b0c950cb900fb252",
      "f11ad184927b425e83fc89de763d1b9f",
      "cc683b98f20a48769d0676a4b54510d8",
      "33b277c1fa7f4117bd2e0e9ae26de5d0",
      "8427578120714565b7e8bdd9d82c409c",
      "34f83326bc064ed09a8a34f631ceaf12",
      "6d691b0900c24f94aa350363afa49444",
      "7b83f156b900403fb7373f570a96141c",
      "b10e9ef58b6445c68f1735346d272ac7",
      "a113e8ecd42243ccbaa1d93871335b3a",
      "ee7ec2dab897430ba37c98ce70980f8c",
      "0ce163aad27d43688e4a1e4ddd218d10",
      "12f2f67286604a2596d7b94db1871904",
      "3a3fd64a0557410a9eaf56ef91eaab01",
      "1af2d3290e91452c81cf9b35eb7931e2",
      "6284be5e2cbd4c03bbe56f0dcb8f2807",
      "abfddd8f5ce643bba7c524b9bb6659b7",
      "044e9a9366cb4384b6dfc7442ed55c01",
      "3877915b0cd948fdb6c24e31ef0f35cf",
      "106db2a859184a49863946fd37f0c3a8",
      "4b7f3052d7db4db7a3ed1d2a74a1a494",
      "e566fad75e554a80b5eac89a7c7a9d9a",
      "2f86620475604061b0c987c4d4b222e6",
      "6a74554a79e742c490ba4170bcdc1bec",
      "fe7e4a6295544858b5604e1b182278db",
      "ac391d1c5af949d09c9341a6e3837339",
      "2599352929714d88bd61ad9d3da0a96a",
      "d8c99310b18142dc8ee8d0b5fa0805dd",
      "5a5633048cc24ba28895fa1a697641eb",
      "46dd1c7290494936b08f68d8d1d6a89a",
      "50779929d182481baca4efbc8dc3992e",
      "20918b4538544938b7f17f06867da518",
      "42da2a104d2f4cbe96f9782da2ba7a94",
      "7b4276be779d481697c47e9e9411b33f",
      "4e3c3dce05564a9a9d7bfc51a7dd6d51",
      "4e8faa6e634e4d238e876dd83e1d2922",
      "c24cd557587b4ef2bd29d6576e2d9f9e",
      "04d07f0ea6234651b747639481e26964",
      "8f63d93c0276438a9740051ac6f2cbce",
      "4403a79799644d84bca718bc3f8e8a3d",
      "d3c65dd8f59640cb950a84c83a1ace8a"
     ]
    },
    "id": "Dxs4u8-K7QrN",
    "outputId": "9c22a2d5-b6e0-41e8-d090-30eb1f8c139e"
   },
   "outputs": [],
   "source": [
    "# 2. 모델과 토크나이저 준비\n",
    "MODEL_NAME = \"klue/bert-base\"\n",
    "tokenizer = AutoTokenizer.from_pretrained(MODEL_NAME)\n",
    "model = AutoModelForSequenceClassification.from_pretrained(MODEL_NAME, num_labels=2)"
   ]
  },
  {
   "cell_type": "code",
   "execution_count": 14,
   "id": "v4a2VIjG88Ii",
   "metadata": {
    "colab": {
     "base_uri": "https://localhost:8080/",
     "height": 113,
     "referenced_widgets": [
      "56db994417f244a2b146338bc4aa2674",
      "91a5cf43da0f427aa75885b3ed6b8227",
      "59b41d28024f49a99cb93364bc348886",
      "fc7524e0728e4b7a885ada7ee063e8f3",
      "066ca73600c541b988f130dd524539d7",
      "bb31a0d3723340e89ba921b48dd11c52",
      "bb5b558a5eb34ee0898908686faa22e2",
      "fa79522943f045d884a1c3dc2c6dd77e",
      "b6f4a2fb84ad4b3f82c571fa2fdd5807",
      "551f64b530c94e5188c43f184a878787",
      "127cc4de19dc427ca48d8c8d848a183d",
      "69d0b030633744d7962454e0bb8b058e",
      "3560da37c34a4893bafaa00a08ff7e22",
      "30d1818b0cdb47eaa3aa4e23360fca13",
      "d06e37a87dec49089cee48605fa2fc35",
      "d180e34a0f48478da5ceca06a630fbb5",
      "1d7ec9af35c243ecb446c8fd74bfe1f8",
      "08a5df8195f941d88cfe9a0ab5e948fd",
      "b332b6c77f094cd08a2442feb189ec5e",
      "e398777d4d0d48fa9510e6b77c638258",
      "369a8d39fa5c4d689dee93458580fa2d",
      "5666378f2d3f43b790ce328f5402d8af",
      "7aa823d232b84c1ca2c7895e0829aa24",
      "3b53a39ff6cf487e90780bb80c3bfa07",
      "76613ffe764c4636a59b5473f36ec9c5",
      "eff22215e5ac4d2da61c0699111bf79a",
      "0e29db5e31f44b029e17d1c14b92133b",
      "c6d5301abe094861bd6367004041b438",
      "78933dca24bb44bbb353c4708d65e8ce",
      "19923dd471684d80991f2376e8238fff",
      "7c72844a24864d428f1fe400369a341c",
      "0d87df3f740b4a818074f3cb82723156",
      "4ab98a577b034b6cb044df58238e7c5f"
     ]
    },
    "id": "v4a2VIjG88Ii",
    "outputId": "90bfa8ad-b837-41f3-b0fd-f159f4184184"
   },
   "outputs": [],
   "source": [
    "from transformers import AutoTokenizer\n",
    "\n",
    "tokenizer = AutoTokenizer.from_pretrained(\"klue/bert-base\")\n",
    "\n",
    "def preprocess(batch):\n",
    "    return tokenizer(\n",
    "        batch[\"document\"],\n",
    "        truncation=True,\n",
    "        padding=\"max_length\",\n",
    "        max_length=128\n",
    "    )\n",
    "\n",
    "train_ds = train_ds.map(preprocess, batched=True)\n",
    "val_ds = val_ds.map(preprocess, batched=True)\n",
    "test_ds = test_ds.map(preprocess, batched=True)\n",
    "\n"
   ]
  },
  {
   "cell_type": "code",
   "execution_count": 15,
   "id": "RL4Mgf3W7Qm7",
   "metadata": {
    "id": "RL4Mgf3W7Qm7"
   },
   "outputs": [],
   "source": [
    "# 4. metric 정의\n",
    "def compute_metrics(eval_pred):\n",
    "    logits, labels = eval_pred\n",
    "    preds = np.argmax(logits, axis=-1)\n",
    "    acc = accuracy_score(labels, preds)\n",
    "    f1 = f1_score(labels, preds)\n",
    "    return {\"accuracy\": acc, \"f1\": f1}"
   ]
  },
  {
   "cell_type": "code",
   "execution_count": 20,
   "id": "t8iwOpnL7Qkk",
   "metadata": {
    "id": "t8iwOpnL7Qkk"
   },
   "outputs": [],
   "source": [
    "# 5. 학습 파라미터\n",
    "training_arguments = TrainingArguments(\n",
    "    output_dir=\"klue_nsmc_output\",\n",
    "    eval_strategy=\"epoch\",   # epoch마다 평가\n",
    "    save_strategy=\"epoch\",         # epoch마다 저장\n",
    "    learning_rate=2e-5,\n",
    "    per_device_train_batch_size=16,\n",
    "    per_device_eval_batch_size=32,\n",
    "    num_train_epochs=3,\n",
    "    weight_decay=0.01,\n",
    "    load_best_model_at_end=True,\n",
    "    metric_for_best_model=\"accuracy\",\n",
    "    report_to=\"none\",              # wandb 같은 로그 끔\n",
    ")"
   ]
  },
  {
   "cell_type": "code",
   "execution_count": 21,
   "id": "PcCAb2H67QiV",
   "metadata": {
    "colab": {
     "base_uri": "https://localhost:8080/"
    },
    "id": "PcCAb2H67QiV",
    "outputId": "99ac3029-0c52-4000-afe4-47d66f78ad18"
   },
   "outputs": [],
   "source": [
    "# 6. Trainer 정의\n",
    "data_collator = DataCollatorWithPadding(tokenizer=tokenizer)\n",
    "\n",
    "trainer = Trainer(\n",
    "    model=model,\n",
    "    args=training_arguments,\n",
    "    train_dataset=train_ds,\n",
    "    eval_dataset=val_ds,\n",
    "    tokenizer=tokenizer,\n",
    "    data_collator=data_collator,\n",
    "    compute_metrics=compute_metrics,\n",
    ")"
   ]
  },
  {
   "cell_type": "code",
   "execution_count": null,
   "id": "4bA_gzmA7Qe1",
   "metadata": {
    "colab": {
     "base_uri": "https://localhost:8080/",
     "height": 107
    },
    "id": "4bA_gzmA7Qe1",
    "outputId": "e8983766-fbdc-412c-dc35-1df90af99886"
   },
   "outputs": [],
   "source": [
    "# 7. 학습\n",
    "trainer.train()"
   ]
  },
  {
   "cell_type": "code",
   "execution_count": null,
   "id": "GPI7W_VY7fj7",
   "metadata": {
    "id": "GPI7W_VY7fj7"
   },
   "outputs": [],
   "source": [
    "# 8. 평가 (Validation + Test)\n",
    "print(\"Validation 결과:\", trainer.evaluate(eval_dataset=val_ds))\n",
    "print(\"Test 결과:\", trainer.evaluate(eval_dataset=test_ds))"
   ]
  },
  {
   "cell_type": "markdown",
   "id": "Pk1eeKylPZR0",
   "metadata": {
    "id": "Pk1eeKylPZR0"
   },
   "source": [
    "https://medium.com/data-science/divide-hugging-face-transformers-training-time-by-2-or-more-21bf7129db9q-21bf7129db9e  \n",
    "를 읽어보면 Dynamic Padding과 Bucketing을 적용하면 훈련 시간이 단축되고, 모델 성능이 향상되었습니다. 배치 크기 64에서 훈련 시간이 48분에서 30분으로 단축되었으며, 정확도는 81.0%에서 81.7%로 향상되었습니다"
   ]
  }
 ],
 "metadata": {
  "accelerator": "GPU",
  "colab": {
   "gpuType": "T4",
   "provenance": []
  },
  "kernelspec": {
   "display_name": "Python 3",
   "name": "python3"
  }
 },
 "nbformat": 4,
 "nbformat_minor": 5
}
