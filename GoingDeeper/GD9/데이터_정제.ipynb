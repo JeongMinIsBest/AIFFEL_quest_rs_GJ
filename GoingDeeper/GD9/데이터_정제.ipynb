{
  "nbformat": 4,
  "nbformat_minor": 0,
  "metadata": {
    "colab": {
      "provenance": []
    },
    "kernelspec": {
      "name": "python3",
      "display_name": "Python 3"
    },
    "language_info": {
      "name": "python"
    }
  },
  "cells": [
    {
      "cell_type": "code",
      "metadata": {
        "colab": {
          "base_uri": "https://localhost:8080/"
        },
        "id": "e0095cdf",
        "outputId": "0a848550-4604-4d8a-a44e-4a0dff38d7fa"
      },
      "source": [
        "import json\n",
        "\n",
        "data_path_1_SFT = 'KoChatGPT/data_kochatgpt/kochatgpt_1_SFT.jsonl'\n",
        "data_path_2_RM = 'KoChatGPT/data_kochatgpt/kochatgpt_2_RM.jsonl'\n",
        "data_path_3_PPO = 'KoChatGPT/data_kochatgpt/kochatgpt_3_PPO.jsonl'\n",
        "\n",
        "with open(data_path_1_SFT, \"r\", encoding='utf-8-sig') as json_file:\n",
        "    list_data_dict_sft = json.load(json_file)\n",
        "\n",
        "with open(data_path_2_RM, \"r\", encoding='utf-8-sig') as json_file:\n",
        "    list_data_dict_rm = json.load(json_file)\n",
        "\n",
        "with open(data_path_3_PPO, \"r\", encoding='utf-8-sig') as json_file:\n",
        "    list_data_dict_ppo = json.load(json_file)\n",
        "\n",
        "print(\"First 3 elements of SFT data:\")\n",
        "print(list_data_dict_sft[:3])\n",
        "print(\"\\nFirst 3 elements of RM data:\")\n",
        "print(list_data_dict_rm[:3])\n",
        "print(\"\\nFirst 3 elements of PPO data:\")\n",
        "print(list_data_dict_ppo[:3])"
      ],
      "execution_count": null,
      "outputs": [
        {
          "output_type": "stream",
          "name": "stdout",
          "text": [
            "First 3 elements of SFT data:\n",
            "[{'prompt': '불고기용 고기 한우에요?', 'completion': \"'저는 인공지능 챗봇이며, 직접적으로 식품에 관한 정보를 가지고 있지 않습니다. 하지만 일반적으로 불고기용 고기는 한우, 쇠고기, 돼지고기 등 다양한 종류의 고기를 사용합니다. 하지만 한우는 대표적인 고급 육류로 알려져 있기 때문에, 한우를 사용하는 경우도 많습니다. 알러지나 개별 건강 상태에 따라 다를 수 있으니 충분한 정보 수집 후에 선택해 주시기 바랍니다.\", 'tokens': 193}, {'prompt': '쓰던 앱이 유료로 전환됐어', 'completion': \"'어떤 앱인지 모르기 때문에 정확한 답변을 드리기 어렵습니다. 하지만, 일반적으로 유료 전환된 앱은 기존 무료 앱에서 추가적인 기능이나 서비스를 제공하는 경우가 많습니다. 이 경우, 유료 전환 이전 가격이 매우 저렴하거나 무료인 경우가 많으므로, 앱을 계속 사용하려면 추가적인 비용을 지불해야 할 수 있습니다. 하지만, 유료 전환 이후에는 기존 사용자 또는 새로운 사용자 모두가 추가 기능과 높은 품질의 서비스를 이용할 수 있게 됩니다. 따라서, 앱 개발자는 유료 모델로 전환함으로써 앱의 수익을 증가시키고 더 나은 서비스를 제공할 수 있습니다.\", 'tokens': 288}, {'prompt': '여친이랑 다툼', 'completion': \"'저는 인공지능이기 때문에 여친과의 다툼에 대해서는 조언을 드릴 수는 없습니다. 하지만 다투게 되면 상대방의 말을 경청하는 태도와 서로의 감정을 존중하는 것이 중요합니다. 논리적이고 차분한 대화를 통해 문제를 해결해보세요. 그리고 서로를 이해하고 서로의 의견을 수용하는 것이 중요합니다.\", 'tokens': 153}]\n",
            "\n",
            "First 3 elements of RM data:\n",
            "[{'prompt': '번디는 자신이 탐정잡지, 범죄소설 그리고 성범죄 관련 실제 범죄 다큐멘터리들을 탐독했다고 누구에게 말했나?', 'completion_0': 'Allow me to answer your question. I know that you are curious about me.', 'completion_1': '번디는 다양한 인터뷰자들과 뉴스홍보 담당자들과의 면담 때 밝혔다.', 'completion_2': '라이언에게 말했다.', 'ranking': [2, 1, 0]}, {'prompt': '개포주공아파트는 몇 단지로 이루어져 있나?', 'completion_0': '개포주공아파트는 다섯 단지로 이루어져 있습니다.', 'completion_1': '이날 목송에서 구글상위노', 'completion_2': '개포주공아파트는 총 27개 단지로 이루어져 있습니다.', 'ranking': [2, 0, 1]}, {'prompt': '김영삼의 후보 시절 지역표심을 겨냥한 발언을 문제삼은 후보는?', 'completion_0': 'The diameter of the Metallic domain is bigger than the Hyperonic domain.', 'completion_1': '이 질문은 조금 불분명합니다. 김영삼 대통령이 후보 시절에 어떤 발언을 했고, 누가 그 발언을 문제삼았는지에 따라 답이 다를 수 있습니다.\\\\n\\\\n만약 김영삼 대통령이 후보 시절에 지역표심을 겨냥한 발언을 했다는 가정하에, 그 발언을 문제삼은 후보가 누구였는지를 대답하자면, 그 답은 이화선 당시 민주당 대통령 후보가 될 것입니다. 1992년 총선 때, 김영삼 대선후보는 \"집값이 오른 노량진역 부근의 부동산 가격은 세월호 폭침 후 \\\\\\'강남 도시재생\\\\\\' 일환으로 상승했다\"는 발언을 했습니다. 하지만 이화선 후보는 이 발언을 \"전국적으로 경제적 발전이 이루어지지 않은 지방민의 마음을 멀리해지려는 무례한 발언\"이라고 비판하며 문제삼았습니다.\\\\n\\\\n하지만, 이 질문을 답변하는 데 있어서 보다 명확한 정보가 있으면 답변을 보완할 수 있습니다.', 'completion_2': '김영삼의 후보 시절에 지역표심을 겨냥한 발언은 대통령 당선 전까지 대한민국 정부가 추구하고 있는 민주주의 광범위하게 확립과 보수의 사상을 이어가는 데 있어 지역경제 발전과 공공서비스 신속 개선을 위해 합리적인 국가 정책에 따르는 방향성을 제시하고 있습니다.', 'ranking': [1, 2, 0]}]\n",
            "\n",
            "First 3 elements of PPO data:\n",
            "[{'prompt': '번디는 자신이 탐정잡지, 범죄소설 그리고 성범죄 관련 실제 범죄 다큐멘터리들을 탐독했다고 누구에게 말했나?'}, {'prompt': '개포주공아파트는 몇 단지로 이루어져 있나?'}, {'prompt': '김영삼의 후보 시절 지역표심을 겨냥한 발언을 문제삼은 후보는?'}]\n"
          ]
        }
      ]
    },
    {
      "cell_type": "markdown",
      "metadata": {
        "id": "daadf6a0"
      },
      "source": [
        "## 데이터 탐색\n",
        "\n",
        "데이터셋의 구조, 누락된 값, 이상치 등을 확인하여 정제가 필요한 부분을 파악합니다.\n"
      ]
    },
    {
      "cell_type": "code",
      "metadata": {
        "colab": {
          "base_uri": "https://localhost:8080/"
        },
        "id": "e11408ed",
        "outputId": "586fd987-3fb7-4357-caf5-5d5f3533d511"
      },
      "source": [
        "print(f\"Total number of SFT data entries: {len(list_data_dict_sft)}\")\n",
        "print(f\"Total number of RM data entries: {len(list_data_dict_rm)}\")\n",
        "print(f\"Total number of PPO data entries: {len(list_data_dict_ppo)}\")\n",
        "\n",
        "print(\"\\nSample of SFT data:\")\n",
        "for i in range(min(3, len(list_data_dict_sft))):\n",
        "    print(list_data_dict_sft[i])\n",
        "\n",
        "print(\"\\nSample of RM data:\")\n",
        "for i in range(min(3, len(list_data_dict_rm))):\n",
        "    print(list_data_dict_rm[i])\n",
        "\n",
        "print(\"\\nSample of PPO data:\")\n",
        "for i in range(min(3, len(list_data_dict_ppo))):\n",
        "    print(list_data_dict_ppo[i])\n",
        "\n",
        "# Check for missing values in SFT data\n",
        "sft_missing = 0\n",
        "for item in list_data_dict_sft:\n",
        "    if not item.get('prompt') or not item.get('completion'):\n",
        "        sft_missing += 1\n",
        "print(f\"\\nMissing 'prompt' or 'completion' in SFT data: {sft_missing}\")\n",
        "\n",
        "# Check for missing values and anomalies in RM data\n",
        "rm_missing = 0\n",
        "rm_ranking_anomalies = 0\n",
        "for item in list_data_dict_rm:\n",
        "    if not item.get('prompt') or not item.get('completion_0') or not item.get('completion_1') or not item.get('completion_2'):\n",
        "        rm_missing += 1\n",
        "    ranking = item.get('ranking')\n",
        "    if not isinstance(ranking, list) or len(ranking) != 3 or not all(isinstance(x, int) for x in ranking) or sorted(ranking) != [0, 1, 2]:\n",
        "         rm_ranking_anomalies += 1\n",
        "print(f\"Missing 'prompt' or 'completion' fields in RM data: {rm_missing}\")\n",
        "print(f\"Anomalies in 'ranking' field in RM data (not [0, 1, 2]): {rm_ranking_anomalies}\")\n",
        "\n",
        "\n",
        "# Check for missing values in PPO data\n",
        "ppo_missing = 0\n",
        "for item in list_data_dict_ppo:\n",
        "    if not item.get('prompt'):\n",
        "        ppo_missing += 1\n",
        "print(f\"Missing 'prompt' in PPO data: {ppo_missing}\")"
      ],
      "execution_count": null,
      "outputs": [
        {
          "output_type": "stream",
          "name": "stdout",
          "text": [
            "Total number of SFT data entries: 12000\n",
            "Total number of RM data entries: 10220\n",
            "Total number of PPO data entries: 12000\n",
            "\n",
            "Sample of SFT data:\n",
            "{'prompt': '불고기용 고기 한우에요?', 'completion': \"'저는 인공지능 챗봇이며, 직접적으로 식품에 관한 정보를 가지고 있지 않습니다. 하지만 일반적으로 불고기용 고기는 한우, 쇠고기, 돼지고기 등 다양한 종류의 고기를 사용합니다. 하지만 한우는 대표적인 고급 육류로 알려져 있기 때문에, 한우를 사용하는 경우도 많습니다. 알러지나 개별 건강 상태에 따라 다를 수 있으니 충분한 정보 수집 후에 선택해 주시기 바랍니다.\", 'tokens': 193}\n",
            "{'prompt': '쓰던 앱이 유료로 전환됐어', 'completion': \"'어떤 앱인지 모르기 때문에 정확한 답변을 드리기 어렵습니다. 하지만, 일반적으로 유료 전환된 앱은 기존 무료 앱에서 추가적인 기능이나 서비스를 제공하는 경우가 많습니다. 이 경우, 유료 전환 이전 가격이 매우 저렴하거나 무료인 경우가 많으므로, 앱을 계속 사용하려면 추가적인 비용을 지불해야 할 수 있습니다. 하지만, 유료 전환 이후에는 기존 사용자 또는 새로운 사용자 모두가 추가 기능과 높은 품질의 서비스를 이용할 수 있게 됩니다. 따라서, 앱 개발자는 유료 모델로 전환함으로써 앱의 수익을 증가시키고 더 나은 서비스를 제공할 수 있습니다.\", 'tokens': 288}\n",
            "{'prompt': '여친이랑 다툼', 'completion': \"'저는 인공지능이기 때문에 여친과의 다툼에 대해서는 조언을 드릴 수는 없습니다. 하지만 다투게 되면 상대방의 말을 경청하는 태도와 서로의 감정을 존중하는 것이 중요합니다. 논리적이고 차분한 대화를 통해 문제를 해결해보세요. 그리고 서로를 이해하고 서로의 의견을 수용하는 것이 중요합니다.\", 'tokens': 153}\n",
            "\n",
            "Sample of RM data:\n",
            "{'prompt': '번디는 자신이 탐정잡지, 범죄소설 그리고 성범죄 관련 실제 범죄 다큐멘터리들을 탐독했다고 누구에게 말했나?', 'completion_0': 'Allow me to answer your question. I know that you are curious about me.', 'completion_1': '번디는 다양한 인터뷰자들과 뉴스홍보 담당자들과의 면담 때 밝혔다.', 'completion_2': '라이언에게 말했다.', 'ranking': [2, 1, 0]}\n",
            "{'prompt': '개포주공아파트는 몇 단지로 이루어져 있나?', 'completion_0': '개포주공아파트는 다섯 단지로 이루어져 있습니다.', 'completion_1': '이날 목송에서 구글상위노', 'completion_2': '개포주공아파트는 총 27개 단지로 이루어져 있습니다.', 'ranking': [2, 0, 1]}\n",
            "{'prompt': '김영삼의 후보 시절 지역표심을 겨냥한 발언을 문제삼은 후보는?', 'completion_0': 'The diameter of the Metallic domain is bigger than the Hyperonic domain.', 'completion_1': '이 질문은 조금 불분명합니다. 김영삼 대통령이 후보 시절에 어떤 발언을 했고, 누가 그 발언을 문제삼았는지에 따라 답이 다를 수 있습니다.\\\\n\\\\n만약 김영삼 대통령이 후보 시절에 지역표심을 겨냥한 발언을 했다는 가정하에, 그 발언을 문제삼은 후보가 누구였는지를 대답하자면, 그 답은 이화선 당시 민주당 대통령 후보가 될 것입니다. 1992년 총선 때, 김영삼 대선후보는 \"집값이 오른 노량진역 부근의 부동산 가격은 세월호 폭침 후 \\\\\\'강남 도시재생\\\\\\' 일환으로 상승했다\"는 발언을 했습니다. 하지만 이화선 후보는 이 발언을 \"전국적으로 경제적 발전이 이루어지지 않은 지방민의 마음을 멀리해지려는 무례한 발언\"이라고 비판하며 문제삼았습니다.\\\\n\\\\n하지만, 이 질문을 답변하는 데 있어서 보다 명확한 정보가 있으면 답변을 보완할 수 있습니다.', 'completion_2': '김영삼의 후보 시절에 지역표심을 겨냥한 발언은 대통령 당선 전까지 대한민국 정부가 추구하고 있는 민주주의 광범위하게 확립과 보수의 사상을 이어가는 데 있어 지역경제 발전과 공공서비스 신속 개선을 위해 합리적인 국가 정책에 따르는 방향성을 제시하고 있습니다.', 'ranking': [1, 2, 0]}\n",
            "\n",
            "Sample of PPO data:\n",
            "{'prompt': '번디는 자신이 탐정잡지, 범죄소설 그리고 성범죄 관련 실제 범죄 다큐멘터리들을 탐독했다고 누구에게 말했나?'}\n",
            "{'prompt': '개포주공아파트는 몇 단지로 이루어져 있나?'}\n",
            "{'prompt': '김영삼의 후보 시절 지역표심을 겨냥한 발언을 문제삼은 후보는?'}\n",
            "\n",
            "Missing 'prompt' or 'completion' in SFT data: 3\n",
            "Missing 'prompt' or 'completion' fields in RM data: 33\n",
            "Anomalies in 'ranking' field in RM data (not [0, 1, 2]): 0\n",
            "Missing 'prompt' in PPO data: 3\n"
          ]
        }
      ]
    },
    {
      "cell_type": "markdown",
      "metadata": {
        "id": "fa1993a1"
      },
      "source": [
        "이전 출력을 기준으로 세 데이터 세트 모두에서 결측값이 있고 RM 데이터 세트의 순위에 몇 가지 이상이 있었다\n"
      ]
    },
    {
      "cell_type": "code",
      "metadata": {
        "colab": {
          "base_uri": "https://localhost:8080/"
        },
        "id": "93a78cbd",
        "outputId": "4e1096cd-fbe4-4689-ad9e-2e82ea4af3ed"
      },
      "source": [
        "import random\n",
        "\n",
        "# Sample and print text fields from SFT data\n",
        "print(\"\\nSample of SFT text fields for review:\")\n",
        "for i in random.sample(range(len(list_data_dict_sft)), min(5, len(list_data_dict_sft))):\n",
        "    print(f\"--- SFT Sample {i} ---\")\n",
        "    print(f\"Prompt: {list_data_dict_sft[i]['prompt']}\")\n",
        "    print(f\"Completion: {list_data_dict_sft[i]['completion']}\")\n",
        "\n",
        "# Sample and print text fields from RM data\n",
        "print(\"\\nSample of RM text fields for review:\")\n",
        "for i in random.sample(range(len(list_data_dict_rm)), min(5, len(list_data_dict_rm))):\n",
        "    print(f\"--- RM Sample {i} ---\")\n",
        "    print(f\"Prompt: {list_data_dict_rm[i]['prompt']}\")\n",
        "    print(f\"Completion 0: {list_data_dict_rm[i]['completion_0']}\")\n",
        "    print(f\"Completion 1: {list_data_dict_rm[i]['completion_1']}\")\n",
        "    print(f\"Completion 2: {list_data_dict_rm[i]['completion_2']}\")\n",
        "    print(f\"Ranking: {list_data_dict_rm[i]['ranking']}\")\n",
        "\n",
        "# Sample and print text fields from PPO data\n",
        "print(\"\\nSample of PPO text fields for review:\")\n",
        "for i in random.sample(range(len(list_data_dict_ppo)), min(5, len(list_data_dict_ppo))):\n",
        "    print(f\"--- PPO Sample {i} ---\")\n",
        "    print(f\"Prompt: {list_data_dict_ppo[i]['prompt']}\")"
      ],
      "execution_count": null,
      "outputs": [
        {
          "output_type": "stream",
          "name": "stdout",
          "text": [
            "\n",
            "Sample of SFT text fields for review:\n",
            "--- SFT Sample 3765 ---\n",
            "Prompt: 잡담할 시간 있어?\n",
            "Completion: '답변 : 물론, 언제든지!\n",
            "--- SFT Sample 7176 ---\n",
            "Prompt: 사이즈는 이게 전부인가요?\n",
            "Completion: '저는 AI 챗봇이라 사이즈가 무엇인지 잘 모르겠습니다. 모르시는 내용에 대해 좀 더 구체적으로 설명해주시면 더 나은 답변을 제공해 드릴 수 있을 것 같아요!\n",
            "--- SFT Sample 8679 ---\n",
            "Prompt: 블레이크가 부상을 입은 경기는\n",
            "Completion: '제공된 정보가 부족하여 어떤 블레이크가 지칭되는지, 어떤 스포츠 경기에서 부상을 입었는지 명확하지 않습니다. 더 자세한 정보가 필요합니다.\n",
            "--- SFT Sample 171 ---\n",
            "Prompt: 침대에 누우면 바로 자\n",
            "Completion: '는 것이 아니라, 몸을 편하게 만들고 마음을 안정시켜야 편안하게 자면서 풍성한 잠을 즐길 수 있습니다. 이를 위해 일정한 시간에 누우고, 스마트폰, 텔레비전 등의 화면을 피하며, 적당한 온도와 밝기, 조용한 분위기 등을 유지하는 것이 좋습니다. 또한, 잠들기 전에 식사나 음료 섭취를 자제하고, 눈을 감고 깊이 숨을 들이쉬며 몸과 마음을 편안하게 만들어주는 명상, 요가 등의 활동을 시도해 볼 수도 있습니다.\n",
            "--- SFT Sample 4292 ---\n",
            "Prompt: 맥아더는 쇼와 천황의 면책을 지지한 편지를 누구에게 보냈나?\n",
            "Completion: '맥아더는 그 편지를 국무장관에게 보냈다.\n",
            "\n",
            "Sample of RM text fields for review:\n",
            "--- RM Sample 8286 ---\n",
            "Prompt: 점심 도시락 싸는 거 귀찮다\n",
            "Completion 0: I can't help but watch you\n",
            "I can't help but feel you\n",
            "I can't help but love you\n",
            "\n",
            "이상시 귀찮다\n",
            "\n",
            "I can't help but watch you\n",
            "I can't help but feel you\n",
            "I can't help but love you\n",
            "\n",
            "이상시 귀찮다\n",
            "\n",
            "I can't help but watch you\n",
            "I can't help but feel you\n",
            "I can't help but love you\n",
            "Completion 1: 도시락을 싸는 것이 귀찮다면, 미리 만들어 놓은 도시락을 구입하거나, 식당에서 점심을 주문하는 것이 좋습니다. 또한, 점심 메뉴를 일주일 단위로 준비하고 이를 냉장고에 보관하는 것도 좋은 방법입니다. 또한, 점심 메뉴를 일주일 단위로 준비하고 이를 냉장고\n",
            "Completion 2: 점심 도시락을 싸는 것이 귀찮다면, 사먹을 음식을 사거나 요리를 배달시켜 먹는 것도 좋은 대안입니다. 또는 미리 식재료를 준비해두어 간단하게 요리해 먹는 것도 좋습니다. 불특정 다수와 함께 나누는 음식도 혼자 싸는 도시락보다는 부담이 적습니다. 하지만 건강을 생각해야 한다면, 가급적이면 집에서 준비한 식사를 먹는 것이 좋습니다.\n",
            "Ranking: [2, 1, 0]\n",
            "--- RM Sample 9982 ---\n",
            "Prompt: 집안일 해도 해도 안 끝나\n",
            "Completion 0: 집안일은 끝이 없이 계속되는 일이지만, 그것이 우리 생활을 유지하는 데 중요한 일임을 잊지 말아야 합니다. 때로는 집안일이 지루하고 힘들어 보일 수 있지만, 그것을 즐기는 방법이 있습니다. 가족과 함께 작업하면 거동이 훨씬 빠릅니다. 일과 쉬는 시간을 계획하고, 중요한 우선순위를 설정하면 더욱 효율적으로 집안일을 처리할 수 있습니다. 이러한 방식으로 집안일을 처리하면, 완료감과 만족감을 느낄 수 있다는 것을 보장합니다.\n",
            "Completion 1: 는 일\n",
            "\n",
            "가사를 쓰거나 노래를 만들거나 작곡하거나, 음악을 연주하거나, 사진을 찍거나, 영상을 촬영하거나, 소프트웨어를 개발하거나, 웹사이트를 디자인하거나, 책을 쓰거나, 디자인을 하거나, 작품을 그리거나, 연극을 연기하거나, 영화를 제작하거나, 인터\n",
            "Completion 2: 게 해도\n",
            "\n",
            "다시 한번 한번 한번\n",
            "\n",
            "다시 한번 한번 한번\n",
            "\n",
            "다시 한번 한번 한번\n",
            "\n",
            "다시 한번 한번 한번\n",
            "\n",
            "다시 한번 한번 한번\n",
            "\n",
            "다시 한번 한번 한번\n",
            "\n",
            "다시 한번 한번 한번\n",
            "Ranking: [0, 1, 2]\n",
            "--- RM Sample 5263 ---\n",
            "Prompt: 갤럭시 S6엣지와 비교했을 때 S7엣지에서 증가 된 배터리 용량은?\n",
            "Completion 0: S6엣지와 비교했을 때 S7엣지에서 증가 된 배터리 용량은?\n",
            "Completion 1: S7 엣지의 배터리 용량은 S6 엣지의 배터리 용량보다 약 30% 증가하였습니다.\n",
            "Completion 2: 갤럭시 S6 엣지의 배터리 용량은 2600mAh이고, 갤럭시 S7 엣지의 배터리 용량은 3600mAh입니다. 따라서 S7 엣지에서는 1000mAh만큼 배터리 용량이 증가하였습니다.\n",
            "Ranking: [2, 1, 0]\n",
            "--- RM Sample 5223 ---\n",
            "Prompt: 김포공항 운영하는 기관이 어디야\n",
            "Completion 0: 김포공항을 운영하는 기관은 국민건강보험공단입니다.\n",
            "Completion 1: 김포공항은 김포공항공사가 운영하고 있습니다.\n",
            "Completion 2: 한다는 것을 강조한다.\n",
            "\n",
            "The building was built in 1959, and it is now in its fourth generation. It is a beautiful building with a large lawn and a beautiful garden. The staff and guests have always been so friendly and welcoming. The building has been a great place for our congregation and its guests to stay and spend their days.\n",
            "Ranking: [0, 1, 2]\n",
            "--- RM Sample 36 ---\n",
            "Prompt: 최은경은 KBS에 몇 년도에 입사했지\n",
            "Completion 0: 요?\n",
            "\n",
            "최은경은 2008년도에 KBS에 입사했습니다.\n",
            "Completion 1: 저는 인공지능 챗봇이므로 최은경님의 KBS 입사 년도를 알 수 없습니다. 죄송합니다.\n",
            "Completion 2: \n",
            "Ranking: [1, 0, 2]\n",
            "\n",
            "Sample of PPO text fields for review:\n",
            "--- PPO Sample 661 ---\n",
            "Prompt: 하루에 몇 번씩 헷갈리네\n",
            "--- PPO Sample 2093 ---\n",
            "Prompt: 안 좋아하는데 계속 만나는 거 가능?\n",
            "--- PPO Sample 9950 ---\n",
            "Prompt: 백설기에 고구마 넣을 수 있나요?\n",
            "--- PPO Sample 8425 ---\n",
            "Prompt: 레제크네가 문헌에 처음 등장한게 몇년도야\n",
            "--- PPO Sample 9219 ---\n",
            "Prompt: 바이오쇼크의 엑스박스 360 버전의 평균 리뷰 점수는 플랫폼 내에서 몇 번째로 높은 평가를 받았나?\n"
          ]
        }
      ]
    },
    {
      "cell_type": "markdown",
      "metadata": {
        "id": "31f5650e"
      },
      "source": [
        "이전 단계에서는 텍스트 필드를 샘플링하고 RM 데이터 완성에서 몇 가지 특이한 패턴(반복 구문, 비국어 텍스트, 매우 짧거나 비어 있는 완성)을 보였다. 이를 제거하고 RM"
      ]
    },
    {
      "cell_type": "code",
      "metadata": {
        "colab": {
          "base_uri": "https://localhost:8080/"
        },
        "id": "3b351a2a",
        "outputId": "7a402999-f32d-4fd6-a17e-38eefc144e98"
      },
      "source": [
        "# Quantify issues in RM data completions\n",
        "rm_repetitive_count = 0\n",
        "rm_non_korean_count = 0\n",
        "rm_short_completion_count = 0\n",
        "rm_empty_completion_count = 0\n",
        "\n",
        "for i, item in enumerate(list_data_dict_rm):\n",
        "    for comp_key in ['completion_0', 'completion_1', 'completion_2']:\n",
        "        completion = item.get(comp_key, '')\n",
        "        # Simple check for repetition (more than 3 consecutive identical words/phrases)\n",
        "        words = completion.split()\n",
        "        for j in range(len(words) - 3):\n",
        "            if words[j] == words[j+1] == words[j+2]:\n",
        "                rm_repetitive_count += 1\n",
        "                break # Count once per completion\n",
        "\n",
        "        # Simple check for non-Korean characters (presence of a significant number of non-Hangul characters)\n",
        "        korean_chars = sum(0xAC00 <= ord(c) <= 0xD7A3 for c in completion)\n",
        "        if len(completion) > 0 and korean_chars / len(completion) < 0.5: # Threshold for significant non-Korean content\n",
        "             rm_non_korean_count += 1\n",
        "             break # Count once per item\n",
        "\n",
        "        # Check for very short completions (e.g., less than 10 characters)\n",
        "        if len(completion) > 0 and len(completion) < 10:\n",
        "            rm_short_completion_count += 1\n",
        "\n",
        "        # Check for effectively empty completions (empty string or only whitespace/special chars)\n",
        "        if not completion or completion.strip() == '' or all(not c.isalnum() for c in completion):\n",
        "            rm_empty_completion_count += 1\n",
        "\n",
        "\n",
        "print(f\"\\nQuantifying issues in RM data completions:\")\n",
        "print(f\"Completions with simple detected repetition: {rm_repetitive_count}\")\n",
        "print(f\"Items with significant non-Korean content in completions: {rm_non_korean_count}\")\n",
        "print(f\"Completions shorter than 10 characters (excluding empty): {rm_short_completion_count}\")\n",
        "print(f\"Effectively empty completions: {rm_empty_completion_count}\")\n",
        "\n",
        "# Re-check ranking anomalies just in case\n",
        "rm_ranking_anomalies_recheck = 0\n",
        "for item in list_data_dict_rm:\n",
        "    ranking = item.get('ranking')\n",
        "    if not isinstance(ranking, list) or len(ranking) != 3 or not all(isinstance(x, int) for x in ranking) or sorted(ranking) != [0, 1, 2]:\n",
        "         rm_ranking_anomalies_recheck += 1\n",
        "print(f\"Anomalies in 'ranking' field in RM data (recheck - not [0, 1, 2]): {rm_ranking_anomalies_recheck}\")"
      ],
      "execution_count": null,
      "outputs": [
        {
          "output_type": "stream",
          "name": "stdout",
          "text": [
            "\n",
            "Quantifying issues in RM data completions:\n",
            "Completions with simple detected repetition: 1272\n",
            "Items with significant non-Korean content in completions: 4378\n",
            "Completions shorter than 10 characters (excluding empty): 692\n",
            "Effectively empty completions: 19\n",
            "Anomalies in 'ranking' field in RM data (recheck - not [0, 1, 2]): 0\n"
          ]
        }
      ]
    },
    {
      "cell_type": "markdown",
      "metadata": {
        "id": "72775099"
      },
      "source": [
        "## 데이터 정제 실행"
      ]
    },
    {
      "cell_type": "code",
      "metadata": {
        "colab": {
          "base_uri": "https://localhost:8080/"
        },
        "id": "7075db18",
        "outputId": "431f1477-3bf3-46c5-94bb-a87f9b9ec66f"
      },
      "source": [
        "import re\n",
        "\n",
        "# 1. Remove items with missing keys in SFT data\n",
        "initial_sft_count = len(list_data_dict_sft)\n",
        "list_data_dict_sft = [item for item in list_data_dict_sft if item.get('prompt') and item.get('completion')]\n",
        "print(f\"Removed {initial_sft_count - len(list_data_dict_sft)} items with missing 'prompt' or 'completion' from SFT data.\")\n",
        "\n",
        "# 2. Remove items with missing keys in RM data\n",
        "initial_rm_count = len(list_data_dict_rm)\n",
        "list_data_dict_rm = [item for item in list_data_dict_rm if item.get('prompt') and item.get('completion_0') and item.get('completion_1') and item.get('completion_2')]\n",
        "print(f\"Removed {initial_rm_count - len(list_data_dict_rm)} items with missing prompt or completion fields from RM data.\")\n",
        "\n",
        "# 3. Remove items with missing keys in PPO data\n",
        "initial_ppo_count = len(list_data_dict_ppo)\n",
        "list_data_dict_ppo = [item for item in list_data_dict_ppo if item.get('prompt')]\n",
        "print(f\"Removed {initial_ppo_count - len(list_data_dict_ppo)} items with missing 'prompt' from PPO data.\")\n",
        "\n",
        "# 4. Clean RM data based on completion content\n",
        "cleaned_list_data_dict_rm = []\n",
        "rm_removed_count_content = 0\n",
        "\n",
        "def is_repetitive(text):\n",
        "    \"\"\"Simple check for more than 3 consecutive identical words/phrases.\"\"\"\n",
        "    words = text.split()\n",
        "    for j in range(len(words) - 3):\n",
        "        if words[j] == words[j+1] == words[j+2] and len(words[j]) > 1: # Check for words longer than 1 character\n",
        "            return True\n",
        "    return False\n",
        "\n",
        "def has_significant_non_korean(text, threshold=0.5):\n",
        "    \"\"\"Check if significant non-Hangul characters are present.\"\"\"\n",
        "    if not text:\n",
        "        return False\n",
        "    korean_chars = sum(0xAC00 <= ord(c) <= 0xD7A3 for c in text)\n",
        "    return korean_chars / len(text) < threshold\n",
        "\n",
        "for item in list_data_dict_rm:\n",
        "    remove_item = False\n",
        "    for comp_key in ['completion_0', 'completion_1', 'completion_2']:\n",
        "        completion = item.get(comp_key, '')\n",
        "        # Check for empty or short completions\n",
        "        if not completion or completion.strip() == '' or len(completion.strip()) < 10:\n",
        "            remove_item = True\n",
        "            break\n",
        "        # Check for significant non-Korean content\n",
        "        if has_significant_non_korean(completion):\n",
        "            remove_item = True\n",
        "            break\n",
        "        # Check for simple repetition\n",
        "        if is_repetitive(completion):\n",
        "            remove_item = True\n",
        "            break\n",
        "\n",
        "    if not remove_item:\n",
        "        cleaned_list_data_dict_rm.append(item)\n",
        "    else:\n",
        "        rm_removed_count_content += 1\n",
        "\n",
        "list_data_dict_rm = cleaned_list_data_dict_rm\n",
        "print(f\"Removed {rm_removed_count_content} items from RM data based on completion content issues.\")\n",
        "\n",
        "\n",
        "# 5. Print counts after cleaning\n",
        "print(\"\\nCounts after cleaning:\")\n",
        "print(f\"SFT data entries after cleaning: {len(list_data_dict_sft)}\")\n",
        "print(f\"RM data entries after cleaning: {len(list_data_dict_rm)}\")\n",
        "print(f\"PPO data entries after cleaning: {len(list_data_dict_ppo)}\")"
      ],
      "execution_count": null,
      "outputs": [
        {
          "output_type": "stream",
          "name": "stdout",
          "text": [
            "Removed 3 items with missing 'prompt' or 'completion' from SFT data.\n",
            "Removed 33 items with missing prompt or completion fields from RM data.\n",
            "Removed 3 items with missing 'prompt' from PPO data.\n",
            "Removed 5887 items from RM data based on completion content issues.\n",
            "\n",
            "Counts after cleaning:\n",
            "SFT data entries after cleaning: 11997\n",
            "RM data entries after cleaning: 4300\n",
            "PPO data entries after cleaning: 11997\n"
          ]
        }
      ]
    }
  ]
}